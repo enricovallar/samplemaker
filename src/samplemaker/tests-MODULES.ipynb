{
 "cells": [
  {
   "cell_type": "code",
   "execution_count": 2,
   "metadata": {},
   "outputs": [
    {
     "ename": "ModuleNotFoundError",
     "evalue": "No module named 'plotly_viewers'",
     "output_type": "error",
     "traceback": [
      "\u001b[1;31m---------------------------------------------------------------------------\u001b[0m",
      "\u001b[1;31mModuleNotFoundError\u001b[0m                       Traceback (most recent call last)",
      "Cell \u001b[1;32mIn[2], line 12\u001b[0m\n\u001b[0;32m     10\u001b[0m \u001b[38;5;28;01mimport\u001b[39;00m \u001b[38;5;21;01msamplemaker\u001b[39;00m\u001b[38;5;21;01m.\u001b[39;00m\u001b[38;5;21;01mlayout\u001b[39;00m \u001b[38;5;28;01mas\u001b[39;00m \u001b[38;5;21;01msmlay\u001b[39;00m \u001b[38;5;66;03m# used for layout \u001b[39;00m\n\u001b[0;32m     11\u001b[0m \u001b[38;5;28;01mimport\u001b[39;00m \u001b[38;5;21;01msamplemaker\u001b[39;00m\u001b[38;5;21;01m.\u001b[39;00m\u001b[38;5;21;01mmakers\u001b[39;00m \u001b[38;5;28;01mas\u001b[39;00m \u001b[38;5;21;01msm\u001b[39;00m \u001b[38;5;66;03m# used for drawing\u001b[39;00m\n\u001b[1;32m---> 12\u001b[0m \u001b[38;5;28;01mimport\u001b[39;00m \u001b[38;5;21;01mplotly_viewers\u001b[39;00m\n\u001b[0;32m     13\u001b[0m \u001b[38;5;66;03m# Create a simple mask layout\u001b[39;00m\n\u001b[0;32m     14\u001b[0m themask \u001b[38;5;241m=\u001b[39m smlay\u001b[38;5;241m.\u001b[39mMask(\u001b[38;5;124m\"\u001b[39m\u001b[38;5;124m01_Tutorial_Shapes\u001b[39m\u001b[38;5;124m\"\u001b[39m)\n",
      "\u001b[1;31mModuleNotFoundError\u001b[0m: No module named 'plotly_viewers'"
     ]
    }
   ],
   "source": [
    "# -*- coding: utf-8 -*-\n",
    "\"\"\"\n",
    "01_Tutorial_Shapes\n",
    "\"\"\"\n",
    "\n",
    "\n",
    "# In this tutorial we start drawing basic shapes \n",
    "\n",
    "# Let's import basic stuff\n",
    "import samplemaker.layout as smlay # used for layout \n",
    "import samplemaker.makers as sm # used for drawing\n",
    "import plotly_viewers\n",
    "# Create a simple mask layout\n",
    "themask = smlay.Mask(\"01_Tutorial_Shapes\")\n",
    "\n",
    "# Let's look at all shapes available:\n",
    "    \n",
    "# Rectangles:\n",
    "# Here we use numkey parameter to place the origin (0,2) at the lower-right corner\n",
    "# look at the num keypad on the keyboard to identify the corners (5 is center).\n",
    "# We also set a different layer  \n",
    "geomE = sm.make_rect(0,2,6,3,numkey=3,layer=2)\n",
    "plotly_viewer.GeomView(geomE)"
   ]
  }
 ],
 "metadata": {
  "kernelspec": {
   "display_name": "Python 3",
   "language": "python",
   "name": "python3"
  },
  "language_info": {
   "codemirror_mode": {
    "name": "ipython",
    "version": 3
   },
   "file_extension": ".py",
   "mimetype": "text/x-python",
   "name": "python",
   "nbconvert_exporter": "python",
   "pygments_lexer": "ipython3",
   "version": "3.8.20"
  }
 },
 "nbformat": 4,
 "nbformat_minor": 2
}
