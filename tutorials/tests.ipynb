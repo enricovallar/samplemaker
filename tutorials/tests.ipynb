{
 "cells": [
  {
   "cell_type": "code",
   "execution_count": 1,
   "metadata": {},
   "outputs": [],
   "source": [
    "import samplemaker.layout as smlay\n",
    "import samplemaker.makers as sm\n",
    "from samplemaker.viewers import GeomView\n",
    "from samplemaker.plotly_viewers import GeomViewPlotly\n",
    "\n",
    "\n"
   ]
  },
  {
   "cell_type": "code",
   "execution_count": 2,
   "metadata": {},
   "outputs": [
    {
     "data": {
      "application/vnd.plotly.v1+json": {
       "config": {
        "plotlyServerURL": "https://plot.ly"
       },
       "data": [
        {
         "fill": "toself",
         "line": {
          "color": "orange"
         },
         "type": "scatter",
         "x": [
          -1,
          1,
          1,
          -1,
          -1
         ],
         "y": [
          -1,
          -1,
          1,
          1,
          -1
         ]
        },
        {
         "fill": "toself",
         "line": {
          "color": "orange"
         },
         "type": "scatter",
         "x": [
          19,
          21,
          21,
          19,
          19
         ],
         "y": [
          -1,
          -1,
          1,
          1,
          -1
         ]
        }
       ],
       "layout": {
        "showlegend": false,
        "template": {
         "data": {
          "bar": [
           {
            "error_x": {
             "color": "#2a3f5f"
            },
            "error_y": {
             "color": "#2a3f5f"
            },
            "marker": {
             "line": {
              "color": "#E5ECF6",
              "width": 0.5
             },
             "pattern": {
              "fillmode": "overlay",
              "size": 10,
              "solidity": 0.2
             }
            },
            "type": "bar"
           }
          ],
          "barpolar": [
           {
            "marker": {
             "line": {
              "color": "#E5ECF6",
              "width": 0.5
             },
             "pattern": {
              "fillmode": "overlay",
              "size": 10,
              "solidity": 0.2
             }
            },
            "type": "barpolar"
           }
          ],
          "carpet": [
           {
            "aaxis": {
             "endlinecolor": "#2a3f5f",
             "gridcolor": "white",
             "linecolor": "white",
             "minorgridcolor": "white",
             "startlinecolor": "#2a3f5f"
            },
            "baxis": {
             "endlinecolor": "#2a3f5f",
             "gridcolor": "white",
             "linecolor": "white",
             "minorgridcolor": "white",
             "startlinecolor": "#2a3f5f"
            },
            "type": "carpet"
           }
          ],
          "choropleth": [
           {
            "colorbar": {
             "outlinewidth": 0,
             "ticks": ""
            },
            "type": "choropleth"
           }
          ],
          "contour": [
           {
            "colorbar": {
             "outlinewidth": 0,
             "ticks": ""
            },
            "colorscale": [
             [
              0,
              "#0d0887"
             ],
             [
              0.1111111111111111,
              "#46039f"
             ],
             [
              0.2222222222222222,
              "#7201a8"
             ],
             [
              0.3333333333333333,
              "#9c179e"
             ],
             [
              0.4444444444444444,
              "#bd3786"
             ],
             [
              0.5555555555555556,
              "#d8576b"
             ],
             [
              0.6666666666666666,
              "#ed7953"
             ],
             [
              0.7777777777777778,
              "#fb9f3a"
             ],
             [
              0.8888888888888888,
              "#fdca26"
             ],
             [
              1,
              "#f0f921"
             ]
            ],
            "type": "contour"
           }
          ],
          "contourcarpet": [
           {
            "colorbar": {
             "outlinewidth": 0,
             "ticks": ""
            },
            "type": "contourcarpet"
           }
          ],
          "heatmap": [
           {
            "colorbar": {
             "outlinewidth": 0,
             "ticks": ""
            },
            "colorscale": [
             [
              0,
              "#0d0887"
             ],
             [
              0.1111111111111111,
              "#46039f"
             ],
             [
              0.2222222222222222,
              "#7201a8"
             ],
             [
              0.3333333333333333,
              "#9c179e"
             ],
             [
              0.4444444444444444,
              "#bd3786"
             ],
             [
              0.5555555555555556,
              "#d8576b"
             ],
             [
              0.6666666666666666,
              "#ed7953"
             ],
             [
              0.7777777777777778,
              "#fb9f3a"
             ],
             [
              0.8888888888888888,
              "#fdca26"
             ],
             [
              1,
              "#f0f921"
             ]
            ],
            "type": "heatmap"
           }
          ],
          "heatmapgl": [
           {
            "colorbar": {
             "outlinewidth": 0,
             "ticks": ""
            },
            "colorscale": [
             [
              0,
              "#0d0887"
             ],
             [
              0.1111111111111111,
              "#46039f"
             ],
             [
              0.2222222222222222,
              "#7201a8"
             ],
             [
              0.3333333333333333,
              "#9c179e"
             ],
             [
              0.4444444444444444,
              "#bd3786"
             ],
             [
              0.5555555555555556,
              "#d8576b"
             ],
             [
              0.6666666666666666,
              "#ed7953"
             ],
             [
              0.7777777777777778,
              "#fb9f3a"
             ],
             [
              0.8888888888888888,
              "#fdca26"
             ],
             [
              1,
              "#f0f921"
             ]
            ],
            "type": "heatmapgl"
           }
          ],
          "histogram": [
           {
            "marker": {
             "pattern": {
              "fillmode": "overlay",
              "size": 10,
              "solidity": 0.2
             }
            },
            "type": "histogram"
           }
          ],
          "histogram2d": [
           {
            "colorbar": {
             "outlinewidth": 0,
             "ticks": ""
            },
            "colorscale": [
             [
              0,
              "#0d0887"
             ],
             [
              0.1111111111111111,
              "#46039f"
             ],
             [
              0.2222222222222222,
              "#7201a8"
             ],
             [
              0.3333333333333333,
              "#9c179e"
             ],
             [
              0.4444444444444444,
              "#bd3786"
             ],
             [
              0.5555555555555556,
              "#d8576b"
             ],
             [
              0.6666666666666666,
              "#ed7953"
             ],
             [
              0.7777777777777778,
              "#fb9f3a"
             ],
             [
              0.8888888888888888,
              "#fdca26"
             ],
             [
              1,
              "#f0f921"
             ]
            ],
            "type": "histogram2d"
           }
          ],
          "histogram2dcontour": [
           {
            "colorbar": {
             "outlinewidth": 0,
             "ticks": ""
            },
            "colorscale": [
             [
              0,
              "#0d0887"
             ],
             [
              0.1111111111111111,
              "#46039f"
             ],
             [
              0.2222222222222222,
              "#7201a8"
             ],
             [
              0.3333333333333333,
              "#9c179e"
             ],
             [
              0.4444444444444444,
              "#bd3786"
             ],
             [
              0.5555555555555556,
              "#d8576b"
             ],
             [
              0.6666666666666666,
              "#ed7953"
             ],
             [
              0.7777777777777778,
              "#fb9f3a"
             ],
             [
              0.8888888888888888,
              "#fdca26"
             ],
             [
              1,
              "#f0f921"
             ]
            ],
            "type": "histogram2dcontour"
           }
          ],
          "mesh3d": [
           {
            "colorbar": {
             "outlinewidth": 0,
             "ticks": ""
            },
            "type": "mesh3d"
           }
          ],
          "parcoords": [
           {
            "line": {
             "colorbar": {
              "outlinewidth": 0,
              "ticks": ""
             }
            },
            "type": "parcoords"
           }
          ],
          "pie": [
           {
            "automargin": true,
            "type": "pie"
           }
          ],
          "scatter": [
           {
            "fillpattern": {
             "fillmode": "overlay",
             "size": 10,
             "solidity": 0.2
            },
            "type": "scatter"
           }
          ],
          "scatter3d": [
           {
            "line": {
             "colorbar": {
              "outlinewidth": 0,
              "ticks": ""
             }
            },
            "marker": {
             "colorbar": {
              "outlinewidth": 0,
              "ticks": ""
             }
            },
            "type": "scatter3d"
           }
          ],
          "scattercarpet": [
           {
            "marker": {
             "colorbar": {
              "outlinewidth": 0,
              "ticks": ""
             }
            },
            "type": "scattercarpet"
           }
          ],
          "scattergeo": [
           {
            "marker": {
             "colorbar": {
              "outlinewidth": 0,
              "ticks": ""
             }
            },
            "type": "scattergeo"
           }
          ],
          "scattergl": [
           {
            "marker": {
             "colorbar": {
              "outlinewidth": 0,
              "ticks": ""
             }
            },
            "type": "scattergl"
           }
          ],
          "scattermapbox": [
           {
            "marker": {
             "colorbar": {
              "outlinewidth": 0,
              "ticks": ""
             }
            },
            "type": "scattermapbox"
           }
          ],
          "scatterpolar": [
           {
            "marker": {
             "colorbar": {
              "outlinewidth": 0,
              "ticks": ""
             }
            },
            "type": "scatterpolar"
           }
          ],
          "scatterpolargl": [
           {
            "marker": {
             "colorbar": {
              "outlinewidth": 0,
              "ticks": ""
             }
            },
            "type": "scatterpolargl"
           }
          ],
          "scatterternary": [
           {
            "marker": {
             "colorbar": {
              "outlinewidth": 0,
              "ticks": ""
             }
            },
            "type": "scatterternary"
           }
          ],
          "surface": [
           {
            "colorbar": {
             "outlinewidth": 0,
             "ticks": ""
            },
            "colorscale": [
             [
              0,
              "#0d0887"
             ],
             [
              0.1111111111111111,
              "#46039f"
             ],
             [
              0.2222222222222222,
              "#7201a8"
             ],
             [
              0.3333333333333333,
              "#9c179e"
             ],
             [
              0.4444444444444444,
              "#bd3786"
             ],
             [
              0.5555555555555556,
              "#d8576b"
             ],
             [
              0.6666666666666666,
              "#ed7953"
             ],
             [
              0.7777777777777778,
              "#fb9f3a"
             ],
             [
              0.8888888888888888,
              "#fdca26"
             ],
             [
              1,
              "#f0f921"
             ]
            ],
            "type": "surface"
           }
          ],
          "table": [
           {
            "cells": {
             "fill": {
              "color": "#EBF0F8"
             },
             "line": {
              "color": "white"
             }
            },
            "header": {
             "fill": {
              "color": "#C8D4E3"
             },
             "line": {
              "color": "white"
             }
            },
            "type": "table"
           }
          ]
         },
         "layout": {
          "annotationdefaults": {
           "arrowcolor": "#2a3f5f",
           "arrowhead": 0,
           "arrowwidth": 1
          },
          "autotypenumbers": "strict",
          "coloraxis": {
           "colorbar": {
            "outlinewidth": 0,
            "ticks": ""
           }
          },
          "colorscale": {
           "diverging": [
            [
             0,
             "#8e0152"
            ],
            [
             0.1,
             "#c51b7d"
            ],
            [
             0.2,
             "#de77ae"
            ],
            [
             0.3,
             "#f1b6da"
            ],
            [
             0.4,
             "#fde0ef"
            ],
            [
             0.5,
             "#f7f7f7"
            ],
            [
             0.6,
             "#e6f5d0"
            ],
            [
             0.7,
             "#b8e186"
            ],
            [
             0.8,
             "#7fbc41"
            ],
            [
             0.9,
             "#4d9221"
            ],
            [
             1,
             "#276419"
            ]
           ],
           "sequential": [
            [
             0,
             "#0d0887"
            ],
            [
             0.1111111111111111,
             "#46039f"
            ],
            [
             0.2222222222222222,
             "#7201a8"
            ],
            [
             0.3333333333333333,
             "#9c179e"
            ],
            [
             0.4444444444444444,
             "#bd3786"
            ],
            [
             0.5555555555555556,
             "#d8576b"
            ],
            [
             0.6666666666666666,
             "#ed7953"
            ],
            [
             0.7777777777777778,
             "#fb9f3a"
            ],
            [
             0.8888888888888888,
             "#fdca26"
            ],
            [
             1,
             "#f0f921"
            ]
           ],
           "sequentialminus": [
            [
             0,
             "#0d0887"
            ],
            [
             0.1111111111111111,
             "#46039f"
            ],
            [
             0.2222222222222222,
             "#7201a8"
            ],
            [
             0.3333333333333333,
             "#9c179e"
            ],
            [
             0.4444444444444444,
             "#bd3786"
            ],
            [
             0.5555555555555556,
             "#d8576b"
            ],
            [
             0.6666666666666666,
             "#ed7953"
            ],
            [
             0.7777777777777778,
             "#fb9f3a"
            ],
            [
             0.8888888888888888,
             "#fdca26"
            ],
            [
             1,
             "#f0f921"
            ]
           ]
          },
          "colorway": [
           "#636efa",
           "#EF553B",
           "#00cc96",
           "#ab63fa",
           "#FFA15A",
           "#19d3f3",
           "#FF6692",
           "#B6E880",
           "#FF97FF",
           "#FECB52"
          ],
          "font": {
           "color": "#2a3f5f"
          },
          "geo": {
           "bgcolor": "white",
           "lakecolor": "white",
           "landcolor": "#E5ECF6",
           "showlakes": true,
           "showland": true,
           "subunitcolor": "white"
          },
          "hoverlabel": {
           "align": "left"
          },
          "hovermode": "closest",
          "mapbox": {
           "style": "light"
          },
          "paper_bgcolor": "white",
          "plot_bgcolor": "#E5ECF6",
          "polar": {
           "angularaxis": {
            "gridcolor": "white",
            "linecolor": "white",
            "ticks": ""
           },
           "bgcolor": "#E5ECF6",
           "radialaxis": {
            "gridcolor": "white",
            "linecolor": "white",
            "ticks": ""
           }
          },
          "scene": {
           "xaxis": {
            "backgroundcolor": "#E5ECF6",
            "gridcolor": "white",
            "gridwidth": 2,
            "linecolor": "white",
            "showbackground": true,
            "ticks": "",
            "zerolinecolor": "white"
           },
           "yaxis": {
            "backgroundcolor": "#E5ECF6",
            "gridcolor": "white",
            "gridwidth": 2,
            "linecolor": "white",
            "showbackground": true,
            "ticks": "",
            "zerolinecolor": "white"
           },
           "zaxis": {
            "backgroundcolor": "#E5ECF6",
            "gridcolor": "white",
            "gridwidth": 2,
            "linecolor": "white",
            "showbackground": true,
            "ticks": "",
            "zerolinecolor": "white"
           }
          },
          "shapedefaults": {
           "line": {
            "color": "#2a3f5f"
           }
          },
          "ternary": {
           "aaxis": {
            "gridcolor": "white",
            "linecolor": "white",
            "ticks": ""
           },
           "baxis": {
            "gridcolor": "white",
            "linecolor": "white",
            "ticks": ""
           },
           "bgcolor": "#E5ECF6",
           "caxis": {
            "gridcolor": "white",
            "linecolor": "white",
            "ticks": ""
           }
          },
          "title": {
           "x": 0.05
          },
          "xaxis": {
           "automargin": true,
           "gridcolor": "white",
           "linecolor": "white",
           "ticks": "",
           "title": {
            "standoff": 15
           },
           "zerolinecolor": "white",
           "zerolinewidth": 2
          },
          "yaxis": {
           "automargin": true,
           "gridcolor": "white",
           "linecolor": "white",
           "ticks": "",
           "title": {
            "standoff": 15
           },
           "zerolinecolor": "white",
           "zerolinewidth": 2
          }
         }
        },
        "title": {
         "text": "Geometry View"
        },
        "xaxis": {
         "scaleanchor": "y",
         "scaleratio": 1
        }
       }
      }
     },
     "metadata": {},
     "output_type": "display_data"
    }
   ],
   "source": [
    "mask = smlay.Mask(\"00_test_mask\")\n",
    "\n",
    "re0 = sm.make_rect(x0 = 0, y0 = 0, width = 2, height = 2, layer = 1)\n",
    "re0+= re0.copy().translate(20,0)\n",
    "GeomViewPlotly(re0)\n"
   ]
  },
  {
   "cell_type": "code",
   "execution_count": 3,
   "metadata": {},
   "outputs": [
    {
     "data": {
      "application/vnd.plotly.v1+json": {
       "config": {
        "plotlyServerURL": "https://plot.ly"
       },
       "data": [
        {
         "fill": "toself",
         "line": {
          "color": "green"
         },
         "type": "scatter",
         "x": [
          -6,
          0,
          0,
          -6,
          -6
         ],
         "y": [
          2,
          2,
          5,
          5,
          2
         ]
        },
        {
         "marker": {
          "color": "orange",
          "size": 6
         },
         "mode": "markers",
         "type": "scatter",
         "x": [
          10
         ],
         "y": [
          0
         ]
        },
        {
         "fill": "toself",
         "line": {
          "color": "orange"
         },
         "type": "scatter",
         "x": [
          23,
          22.427050983124843,
          20.927050983124843,
          19.072949016875157,
          17.572949016875157,
          17,
          17.572949016875157,
          19.072949016875157,
          20.927050983124843,
          22.427050983124843,
          23
         ],
         "y": [
          0,
          1.7633557568774194,
          2.8531695488854605,
          2.853169548885461,
          1.7633557568774196,
          3.6739403974420594e-16,
          -1.7633557568774192,
          -2.8531695488854605,
          -2.853169548885461,
          -1.76335575687742,
          0
         ]
        },
        {
         "fill": "toself",
         "line": {
          "color": "orange"
         },
         "type": "scatter",
         "x": [
          30,
          40,
          35,
          31,
          30
         ],
         "y": [
          0,
          -2,
          8,
          7,
          0
         ]
        },
        {
         "fill": "toself",
         "line": {
          "color": "orange"
         },
         "type": "scatter",
         "x": [
          50.5,
          50.5,
          60,
          60,
          50,
          49.5,
          49.5,
          50.5
         ],
         "y": [
          0,
          9.5,
          9.5,
          10.5,
          10.5,
          10,
          6.123233995736766e-17,
          0
         ]
        },
        {
         "fill": "toself",
         "line": {
          "color": "orange"
         },
         "type": "scatter",
         "x": [
          70.5,
          70.5,
          69.5,
          69.5,
          70.5
         ],
         "y": [
          0,
          10,
          10,
          6.123233995736766e-17,
          0
         ]
        },
        {
         "fill": "toself",
         "line": {
          "color": "orange"
         },
         "type": "scatter",
         "x": [
          76.05555555555556,
          76.05555555555556,
          75.05555555555556,
          75.05555555555556,
          76.05555555555556
         ],
         "y": [
          0,
          10,
          10,
          6.123233995736766e-17,
          0
         ]
        },
        {
         "fill": "toself",
         "line": {
          "color": "orange"
         },
         "type": "scatter",
         "x": [
          70,
          75.55555555555556,
          75.55555555555556,
          70,
          70
         ],
         "y": [
          4.5,
          4.5,
          5.5,
          5.5,
          4.5
         ]
        },
        {
         "fill": "toself",
         "line": {
          "color": "orange"
         },
         "type": "scatter",
         "x": [
          86.66666666666666,
          82.98488455896432,
          81.61111111111111,
          81.61111111111111,
          82.95880274536844,
          84.81897503240933,
          86.16666666666666,
          86.16666666666666,
          83.33333333333333,
          83.33333333333333,
          86.66666666666666,
          87.16666666666666,
          87.16666666666666,
          86.9867588664989,
          85.32009219983225,
          85,
          82.77777777777777,
          82.45768557794553,
          80.79101891127887,
          80.61111111111111,
          80.61111111111111,
          80.75755772051784,
          82.4242243871845,
          82.77777777777777,
          86.66666666666666,
          86.66666666666666
         ],
         "y": [
          1.0555555555555556,
          1.0555555555555556,
          2.429329003408769,
          5.321368082563335,
          6.444444444444445,
          6.444444444444445,
          5.3213680825633345,
          4.388888888888888,
          4.388888888888888,
          3.3888888888888884,
          3.3888888888888884,
          3.8888888888888884,
          5.555555555555555,
          5.939666195354242,
          7.328555084243131,
          7.444444444444445,
          7.444444444444445,
          7.328555084243131,
          5.939666195354242,
          5.555555555555555,
          2.2222222222222223,
          1.8686688316289495,
          0.2020021649622828,
          0.05555555555555558,
          0.05555555555555558,
          1.0555555555555556
         ]
        },
        {
         "fill": "toself",
         "line": {
          "color": "orange"
         },
         "type": "scatter",
         "x": [
          92.22222222222223,
          96.66666666666666,
          96.66666666666666,
          92.22222222222223,
          92.22222222222223
         ],
         "y": [
          -0.5,
          -0.5,
          0.5,
          0.5,
          -0.5
         ]
        },
        {
         "fill": "toself",
         "line": {
          "color": "orange"
         },
         "type": "scatter",
         "x": [
          94.94444444444444,
          94.94444444444444,
          94.44444444444444,
          92.22222222222223,
          92.22222222222223,
          93.94444444444444,
          93.94444444444444,
          94.94444444444444
         ],
         "y": [
          0,
          10,
          10.5,
          10.5,
          9.5,
          9.5,
          6.123233995736766e-17,
          0
         ]
        },
        {
         "fill": "toself",
         "line": {
          "color": "orange"
         },
         "type": "scatter",
         "x": [
          103.33333333333333,
          107.77777777777777,
          107.77777777777777,
          103.33333333333333,
          103.33333333333333
         ],
         "y": [
          -0.5,
          -0.5,
          0.5,
          0.5,
          -0.5
         ]
        },
        {
         "fill": "toself",
         "line": {
          "color": "orange"
         },
         "type": "scatter",
         "x": [
          106.05555555555554,
          106.05555555555554,
          105.55555555555554,
          103.33333333333333,
          103.33333333333333,
          105.05555555555554,
          105.05555555555554,
          106.05555555555554
         ],
         "y": [
          0,
          10,
          10.5,
          10.5,
          9.5,
          9.5,
          6.123233995736766e-17,
          0
         ]
        },
        {
         "fill": "toself",
         "line": {
          "color": "orange"
         },
         "type": "scatter",
         "x": [
          118.61111111111111,
          116.04044011451988,
          114.94444444444444,
          114.94444444444444,
          116.04044011451988,
          118.40400432992456,
          119.5,
          119.5,
          120.5,
          120.5,
          120.35355339059328,
          118.96466450170439,
          118.61111111111111,
          115.83333333333333,
          115.47977994274005,
          114.09089105385117,
          113.94444444444444,
          113.94444444444444,
          114.09089105385117,
          115.47977994274005,
          115.83333333333333,
          118.61111111111111,
          118.61111111111111
         ],
         "y": [
          0.5,
          0.4999999999999999,
          1.595995670075436,
          5.348448774369008,
          6.444444444444445,
          6.444444444444445,
          5.348448774369008,
          1.3888888888888888,
          1.3888888888888888,
          5.555555555555555,
          5.909108946148828,
          7.297997835037718,
          7.444444444444445,
          7.444444444444445,
          7.297997835037718,
          5.909108946148828,
          5.555555555555555,
          1.3888888888888888,
          1.0353354982956153,
          -0.3535533905932734,
          -0.5,
          -0.5,
          0.5
         ]
        },
        {
         "fill": "toself",
         "line": {
          "color": "orange"
         },
         "type": "scatter",
         "x": [
          9.999480222464786,
          7.186444201881596,
          3.208066947346536,
          -3.209106502416966,
          -7.187483756952025,
          -10.000519777535215,
          -10.000519777535215,
          -10.000519777535215,
          -10.000519777535215,
          -7.187483756952025,
          -3.209106502416966,
          3.208066947346536,
          7.186444201881596,
          9.999480222464786,
          9.999480222464786,
          9.999480222464786,
          9.999480222464786
         ],
         "y": [
          27.186444201881596,
          29.999480222464786,
          29.999480222464786,
          29.999480222464786,
          29.999480222464786,
          27.186444201881596,
          23.208066947346534,
          16.790893497583035,
          12.812516243047975,
          9.999480222464785,
          9.999480222464785,
          9.999480222464785,
          9.999480222464785,
          12.812516243047975,
          16.790893497583035,
          23.208066947346534,
          27.186444201881596
         ]
        }
       ],
       "layout": {
        "showlegend": false,
        "template": {
         "data": {
          "bar": [
           {
            "error_x": {
             "color": "#2a3f5f"
            },
            "error_y": {
             "color": "#2a3f5f"
            },
            "marker": {
             "line": {
              "color": "#E5ECF6",
              "width": 0.5
             },
             "pattern": {
              "fillmode": "overlay",
              "size": 10,
              "solidity": 0.2
             }
            },
            "type": "bar"
           }
          ],
          "barpolar": [
           {
            "marker": {
             "line": {
              "color": "#E5ECF6",
              "width": 0.5
             },
             "pattern": {
              "fillmode": "overlay",
              "size": 10,
              "solidity": 0.2
             }
            },
            "type": "barpolar"
           }
          ],
          "carpet": [
           {
            "aaxis": {
             "endlinecolor": "#2a3f5f",
             "gridcolor": "white",
             "linecolor": "white",
             "minorgridcolor": "white",
             "startlinecolor": "#2a3f5f"
            },
            "baxis": {
             "endlinecolor": "#2a3f5f",
             "gridcolor": "white",
             "linecolor": "white",
             "minorgridcolor": "white",
             "startlinecolor": "#2a3f5f"
            },
            "type": "carpet"
           }
          ],
          "choropleth": [
           {
            "colorbar": {
             "outlinewidth": 0,
             "ticks": ""
            },
            "type": "choropleth"
           }
          ],
          "contour": [
           {
            "colorbar": {
             "outlinewidth": 0,
             "ticks": ""
            },
            "colorscale": [
             [
              0,
              "#0d0887"
             ],
             [
              0.1111111111111111,
              "#46039f"
             ],
             [
              0.2222222222222222,
              "#7201a8"
             ],
             [
              0.3333333333333333,
              "#9c179e"
             ],
             [
              0.4444444444444444,
              "#bd3786"
             ],
             [
              0.5555555555555556,
              "#d8576b"
             ],
             [
              0.6666666666666666,
              "#ed7953"
             ],
             [
              0.7777777777777778,
              "#fb9f3a"
             ],
             [
              0.8888888888888888,
              "#fdca26"
             ],
             [
              1,
              "#f0f921"
             ]
            ],
            "type": "contour"
           }
          ],
          "contourcarpet": [
           {
            "colorbar": {
             "outlinewidth": 0,
             "ticks": ""
            },
            "type": "contourcarpet"
           }
          ],
          "heatmap": [
           {
            "colorbar": {
             "outlinewidth": 0,
             "ticks": ""
            },
            "colorscale": [
             [
              0,
              "#0d0887"
             ],
             [
              0.1111111111111111,
              "#46039f"
             ],
             [
              0.2222222222222222,
              "#7201a8"
             ],
             [
              0.3333333333333333,
              "#9c179e"
             ],
             [
              0.4444444444444444,
              "#bd3786"
             ],
             [
              0.5555555555555556,
              "#d8576b"
             ],
             [
              0.6666666666666666,
              "#ed7953"
             ],
             [
              0.7777777777777778,
              "#fb9f3a"
             ],
             [
              0.8888888888888888,
              "#fdca26"
             ],
             [
              1,
              "#f0f921"
             ]
            ],
            "type": "heatmap"
           }
          ],
          "heatmapgl": [
           {
            "colorbar": {
             "outlinewidth": 0,
             "ticks": ""
            },
            "colorscale": [
             [
              0,
              "#0d0887"
             ],
             [
              0.1111111111111111,
              "#46039f"
             ],
             [
              0.2222222222222222,
              "#7201a8"
             ],
             [
              0.3333333333333333,
              "#9c179e"
             ],
             [
              0.4444444444444444,
              "#bd3786"
             ],
             [
              0.5555555555555556,
              "#d8576b"
             ],
             [
              0.6666666666666666,
              "#ed7953"
             ],
             [
              0.7777777777777778,
              "#fb9f3a"
             ],
             [
              0.8888888888888888,
              "#fdca26"
             ],
             [
              1,
              "#f0f921"
             ]
            ],
            "type": "heatmapgl"
           }
          ],
          "histogram": [
           {
            "marker": {
             "pattern": {
              "fillmode": "overlay",
              "size": 10,
              "solidity": 0.2
             }
            },
            "type": "histogram"
           }
          ],
          "histogram2d": [
           {
            "colorbar": {
             "outlinewidth": 0,
             "ticks": ""
            },
            "colorscale": [
             [
              0,
              "#0d0887"
             ],
             [
              0.1111111111111111,
              "#46039f"
             ],
             [
              0.2222222222222222,
              "#7201a8"
             ],
             [
              0.3333333333333333,
              "#9c179e"
             ],
             [
              0.4444444444444444,
              "#bd3786"
             ],
             [
              0.5555555555555556,
              "#d8576b"
             ],
             [
              0.6666666666666666,
              "#ed7953"
             ],
             [
              0.7777777777777778,
              "#fb9f3a"
             ],
             [
              0.8888888888888888,
              "#fdca26"
             ],
             [
              1,
              "#f0f921"
             ]
            ],
            "type": "histogram2d"
           }
          ],
          "histogram2dcontour": [
           {
            "colorbar": {
             "outlinewidth": 0,
             "ticks": ""
            },
            "colorscale": [
             [
              0,
              "#0d0887"
             ],
             [
              0.1111111111111111,
              "#46039f"
             ],
             [
              0.2222222222222222,
              "#7201a8"
             ],
             [
              0.3333333333333333,
              "#9c179e"
             ],
             [
              0.4444444444444444,
              "#bd3786"
             ],
             [
              0.5555555555555556,
              "#d8576b"
             ],
             [
              0.6666666666666666,
              "#ed7953"
             ],
             [
              0.7777777777777778,
              "#fb9f3a"
             ],
             [
              0.8888888888888888,
              "#fdca26"
             ],
             [
              1,
              "#f0f921"
             ]
            ],
            "type": "histogram2dcontour"
           }
          ],
          "mesh3d": [
           {
            "colorbar": {
             "outlinewidth": 0,
             "ticks": ""
            },
            "type": "mesh3d"
           }
          ],
          "parcoords": [
           {
            "line": {
             "colorbar": {
              "outlinewidth": 0,
              "ticks": ""
             }
            },
            "type": "parcoords"
           }
          ],
          "pie": [
           {
            "automargin": true,
            "type": "pie"
           }
          ],
          "scatter": [
           {
            "fillpattern": {
             "fillmode": "overlay",
             "size": 10,
             "solidity": 0.2
            },
            "type": "scatter"
           }
          ],
          "scatter3d": [
           {
            "line": {
             "colorbar": {
              "outlinewidth": 0,
              "ticks": ""
             }
            },
            "marker": {
             "colorbar": {
              "outlinewidth": 0,
              "ticks": ""
             }
            },
            "type": "scatter3d"
           }
          ],
          "scattercarpet": [
           {
            "marker": {
             "colorbar": {
              "outlinewidth": 0,
              "ticks": ""
             }
            },
            "type": "scattercarpet"
           }
          ],
          "scattergeo": [
           {
            "marker": {
             "colorbar": {
              "outlinewidth": 0,
              "ticks": ""
             }
            },
            "type": "scattergeo"
           }
          ],
          "scattergl": [
           {
            "marker": {
             "colorbar": {
              "outlinewidth": 0,
              "ticks": ""
             }
            },
            "type": "scattergl"
           }
          ],
          "scattermapbox": [
           {
            "marker": {
             "colorbar": {
              "outlinewidth": 0,
              "ticks": ""
             }
            },
            "type": "scattermapbox"
           }
          ],
          "scatterpolar": [
           {
            "marker": {
             "colorbar": {
              "outlinewidth": 0,
              "ticks": ""
             }
            },
            "type": "scatterpolar"
           }
          ],
          "scatterpolargl": [
           {
            "marker": {
             "colorbar": {
              "outlinewidth": 0,
              "ticks": ""
             }
            },
            "type": "scatterpolargl"
           }
          ],
          "scatterternary": [
           {
            "marker": {
             "colorbar": {
              "outlinewidth": 0,
              "ticks": ""
             }
            },
            "type": "scatterternary"
           }
          ],
          "surface": [
           {
            "colorbar": {
             "outlinewidth": 0,
             "ticks": ""
            },
            "colorscale": [
             [
              0,
              "#0d0887"
             ],
             [
              0.1111111111111111,
              "#46039f"
             ],
             [
              0.2222222222222222,
              "#7201a8"
             ],
             [
              0.3333333333333333,
              "#9c179e"
             ],
             [
              0.4444444444444444,
              "#bd3786"
             ],
             [
              0.5555555555555556,
              "#d8576b"
             ],
             [
              0.6666666666666666,
              "#ed7953"
             ],
             [
              0.7777777777777778,
              "#fb9f3a"
             ],
             [
              0.8888888888888888,
              "#fdca26"
             ],
             [
              1,
              "#f0f921"
             ]
            ],
            "type": "surface"
           }
          ],
          "table": [
           {
            "cells": {
             "fill": {
              "color": "#EBF0F8"
             },
             "line": {
              "color": "white"
             }
            },
            "header": {
             "fill": {
              "color": "#C8D4E3"
             },
             "line": {
              "color": "white"
             }
            },
            "type": "table"
           }
          ]
         },
         "layout": {
          "annotationdefaults": {
           "arrowcolor": "#2a3f5f",
           "arrowhead": 0,
           "arrowwidth": 1
          },
          "autotypenumbers": "strict",
          "coloraxis": {
           "colorbar": {
            "outlinewidth": 0,
            "ticks": ""
           }
          },
          "colorscale": {
           "diverging": [
            [
             0,
             "#8e0152"
            ],
            [
             0.1,
             "#c51b7d"
            ],
            [
             0.2,
             "#de77ae"
            ],
            [
             0.3,
             "#f1b6da"
            ],
            [
             0.4,
             "#fde0ef"
            ],
            [
             0.5,
             "#f7f7f7"
            ],
            [
             0.6,
             "#e6f5d0"
            ],
            [
             0.7,
             "#b8e186"
            ],
            [
             0.8,
             "#7fbc41"
            ],
            [
             0.9,
             "#4d9221"
            ],
            [
             1,
             "#276419"
            ]
           ],
           "sequential": [
            [
             0,
             "#0d0887"
            ],
            [
             0.1111111111111111,
             "#46039f"
            ],
            [
             0.2222222222222222,
             "#7201a8"
            ],
            [
             0.3333333333333333,
             "#9c179e"
            ],
            [
             0.4444444444444444,
             "#bd3786"
            ],
            [
             0.5555555555555556,
             "#d8576b"
            ],
            [
             0.6666666666666666,
             "#ed7953"
            ],
            [
             0.7777777777777778,
             "#fb9f3a"
            ],
            [
             0.8888888888888888,
             "#fdca26"
            ],
            [
             1,
             "#f0f921"
            ]
           ],
           "sequentialminus": [
            [
             0,
             "#0d0887"
            ],
            [
             0.1111111111111111,
             "#46039f"
            ],
            [
             0.2222222222222222,
             "#7201a8"
            ],
            [
             0.3333333333333333,
             "#9c179e"
            ],
            [
             0.4444444444444444,
             "#bd3786"
            ],
            [
             0.5555555555555556,
             "#d8576b"
            ],
            [
             0.6666666666666666,
             "#ed7953"
            ],
            [
             0.7777777777777778,
             "#fb9f3a"
            ],
            [
             0.8888888888888888,
             "#fdca26"
            ],
            [
             1,
             "#f0f921"
            ]
           ]
          },
          "colorway": [
           "#636efa",
           "#EF553B",
           "#00cc96",
           "#ab63fa",
           "#FFA15A",
           "#19d3f3",
           "#FF6692",
           "#B6E880",
           "#FF97FF",
           "#FECB52"
          ],
          "font": {
           "color": "#2a3f5f"
          },
          "geo": {
           "bgcolor": "white",
           "lakecolor": "white",
           "landcolor": "#E5ECF6",
           "showlakes": true,
           "showland": true,
           "subunitcolor": "white"
          },
          "hoverlabel": {
           "align": "left"
          },
          "hovermode": "closest",
          "mapbox": {
           "style": "light"
          },
          "paper_bgcolor": "white",
          "plot_bgcolor": "#E5ECF6",
          "polar": {
           "angularaxis": {
            "gridcolor": "white",
            "linecolor": "white",
            "ticks": ""
           },
           "bgcolor": "#E5ECF6",
           "radialaxis": {
            "gridcolor": "white",
            "linecolor": "white",
            "ticks": ""
           }
          },
          "scene": {
           "xaxis": {
            "backgroundcolor": "#E5ECF6",
            "gridcolor": "white",
            "gridwidth": 2,
            "linecolor": "white",
            "showbackground": true,
            "ticks": "",
            "zerolinecolor": "white"
           },
           "yaxis": {
            "backgroundcolor": "#E5ECF6",
            "gridcolor": "white",
            "gridwidth": 2,
            "linecolor": "white",
            "showbackground": true,
            "ticks": "",
            "zerolinecolor": "white"
           },
           "zaxis": {
            "backgroundcolor": "#E5ECF6",
            "gridcolor": "white",
            "gridwidth": 2,
            "linecolor": "white",
            "showbackground": true,
            "ticks": "",
            "zerolinecolor": "white"
           }
          },
          "shapedefaults": {
           "line": {
            "color": "#2a3f5f"
           }
          },
          "ternary": {
           "aaxis": {
            "gridcolor": "white",
            "linecolor": "white",
            "ticks": ""
           },
           "baxis": {
            "gridcolor": "white",
            "linecolor": "white",
            "ticks": ""
           },
           "bgcolor": "#E5ECF6",
           "caxis": {
            "gridcolor": "white",
            "linecolor": "white",
            "ticks": ""
           }
          },
          "title": {
           "x": 0.05
          },
          "xaxis": {
           "automargin": true,
           "gridcolor": "white",
           "linecolor": "white",
           "ticks": "",
           "title": {
            "standoff": 15
           },
           "zerolinecolor": "white",
           "zerolinewidth": 2
          },
          "yaxis": {
           "automargin": true,
           "gridcolor": "white",
           "linecolor": "white",
           "ticks": "",
           "title": {
            "standoff": 15
           },
           "zerolinecolor": "white",
           "zerolinewidth": 2
          }
         }
        },
        "title": {
         "text": "Geometry View"
        },
        "xaxis": {
         "scaleanchor": "y",
         "scaleratio": 1
        }
       }
      }
     },
     "metadata": {},
     "output_type": "display_data"
    }
   ],
   "source": [
    "geomE = sm.make_rect(0, 2, 6, 3, numkey=3, layer = 2)\n",
    "geomE += sm.make_circle(10, 0, 3)\n",
    "geomE += sm.make_circle(20, 0, 3, layer=1, to_poly=True, vertices=10)\n",
    "\n",
    "geomE+=(sm.make_poly([30,40,35,31], [0,-2,8,7]))\n",
    "geomE += sm.make_path([50,50,60],[0 ,10,10],1,to_poly=True)\n",
    "\n",
    "geomE += sm.make_text(70, 0 , \"Hello\", 10, 1, numkey = 1, to_poly = True,)\n",
    "\n",
    "geomE += sm.make_rounded_rect(0, 20, 20, 20, 5, resolution = 2)\n",
    "GeomViewPlotly(geomE)"
   ]
  },
  {
   "cell_type": "code",
   "execution_count": 4,
   "metadata": {},
   "outputs": [
    {
     "data": {
      "application/vnd.plotly.v1+json": {
       "config": {
        "plotlyServerURL": "https://plot.ly"
       },
       "data": [
        {
         "fill": "toself",
         "line": {
          "color": "orange"
         },
         "type": "scatter",
         "x": [
          19,
          21,
          21,
          19,
          19
         ],
         "y": [
          10,
          10,
          20,
          20,
          10
         ]
        },
        {
         "fill": "toself",
         "line": {
          "color": "orange"
         },
         "type": "scatter",
         "x": [
          25,
          24.980785280403232,
          24.923879532511286,
          24.831469612302545,
          24.707106781186546,
          24.5555702330196,
          24.38268343236509,
          24.195090322016128,
          24,
          23.804909677983872,
          23.61731656763491,
          23.4444297669804,
          23.292893218813454,
          23.168530387697455,
          23.076120467488714,
          23.019214719596768,
          23,
          23.019214719596768,
          23.076120467488714,
          23.168530387697455,
          23.292893218813454,
          23.4444297669804,
          23.61731656763491,
          23.804909677983872,
          24,
          24.195090322016128,
          24.38268343236509,
          24.5555702330196,
          24.707106781186546,
          24.831469612302545,
          24.923879532511286,
          24.980785280403232,
          25
         ],
         "y": [
          20,
          20.195090322016128,
          20.38268343236509,
          20.5555702330196,
          20.707106781186546,
          20.831469612302545,
          20.923879532511286,
          20.980785280403232,
          21,
          20.980785280403232,
          20.923879532511286,
          20.831469612302545,
          20.707106781186546,
          20.5555702330196,
          20.38268343236509,
          20.195090322016128,
          20,
          19.804909677983872,
          19.61731656763491,
          19.4444297669804,
          19.292893218813454,
          19.168530387697455,
          19.076120467488714,
          19.019214719596768,
          19,
          19.019214719596768,
          19.076120467488714,
          19.168530387697455,
          19.292893218813454,
          19.4444297669804,
          19.61731656763491,
          19.804909677983872,
          20
         ]
        },
        {
         "fill": "toself",
         "line": {
          "color": "orange"
         },
         "type": "scatter",
         "x": [
          44.242640687119284,
          46.36396103067893,
          35.757359312880716,
          33.63603896932107,
          44.242640687119284
         ],
         "y": [
          8.636038969321072,
          10.757359312880714,
          21.36396103067893,
          19.242640687119284,
          8.636038969321072
         ]
        },
        {
         "fill": "toself",
         "line": {
          "color": "orange"
         },
         "type": "scatter",
         "x": [
          40,
          39.77269517774958,
          39.51336497676782,
          39.23197531124437,
          38.93933982822018,
          38.646704345195985,
          38.365314679672544,
          38.10598447869077,
          37.878679656440355,
          37.692135409766365,
          37.55352052945325,
          37.46816190761533,
          37.43933982822018,
          37.46816190761533,
          37.55352052945325,
          37.69213540976636,
          37.878679656440355,
          38.10598447869077,
          38.365314679672544,
          38.646704345195985,
          38.93933982822018,
          39.23197531124437,
          39.51336497676781,
          39.77269517774958,
          40,
          40.186544246673996,
          40.32515912698711,
          40.41051774882503,
          40.43933982822018,
          40.41051774882502,
          40.32515912698711,
          40.186544246673996,
          40
         ],
         "y": [
          25.606601717798213,
          25.79314596447221,
          25.931760844785323,
          26.01711946662324,
          26.045941546018394,
          26.01711946662324,
          25.931760844785323,
          25.79314596447221,
          25.606601717798213,
          25.379296895547796,
          25.119966694566028,
          24.838577029042582,
          24.545941546018394,
          24.2533060629942,
          23.971916397470757,
          23.712586196488992,
          23.48528137423857,
          23.298737127564575,
          23.16012224725146,
          23.074763625413546,
          23.04594154601839,
          23.074763625413546,
          23.160122247251465,
          23.29873712756457,
          23.48528137423857,
          23.71258619648899,
          23.971916397470757,
          24.2533060629942,
          24.54594154601839,
          24.838577029042582,
          25.119966694566024,
          25.379296895547796,
          25.606601717798213
         ]
        }
       ],
       "layout": {
        "showlegend": false,
        "template": {
         "data": {
          "bar": [
           {
            "error_x": {
             "color": "#2a3f5f"
            },
            "error_y": {
             "color": "#2a3f5f"
            },
            "marker": {
             "line": {
              "color": "#E5ECF6",
              "width": 0.5
             },
             "pattern": {
              "fillmode": "overlay",
              "size": 10,
              "solidity": 0.2
             }
            },
            "type": "bar"
           }
          ],
          "barpolar": [
           {
            "marker": {
             "line": {
              "color": "#E5ECF6",
              "width": 0.5
             },
             "pattern": {
              "fillmode": "overlay",
              "size": 10,
              "solidity": 0.2
             }
            },
            "type": "barpolar"
           }
          ],
          "carpet": [
           {
            "aaxis": {
             "endlinecolor": "#2a3f5f",
             "gridcolor": "white",
             "linecolor": "white",
             "minorgridcolor": "white",
             "startlinecolor": "#2a3f5f"
            },
            "baxis": {
             "endlinecolor": "#2a3f5f",
             "gridcolor": "white",
             "linecolor": "white",
             "minorgridcolor": "white",
             "startlinecolor": "#2a3f5f"
            },
            "type": "carpet"
           }
          ],
          "choropleth": [
           {
            "colorbar": {
             "outlinewidth": 0,
             "ticks": ""
            },
            "type": "choropleth"
           }
          ],
          "contour": [
           {
            "colorbar": {
             "outlinewidth": 0,
             "ticks": ""
            },
            "colorscale": [
             [
              0,
              "#0d0887"
             ],
             [
              0.1111111111111111,
              "#46039f"
             ],
             [
              0.2222222222222222,
              "#7201a8"
             ],
             [
              0.3333333333333333,
              "#9c179e"
             ],
             [
              0.4444444444444444,
              "#bd3786"
             ],
             [
              0.5555555555555556,
              "#d8576b"
             ],
             [
              0.6666666666666666,
              "#ed7953"
             ],
             [
              0.7777777777777778,
              "#fb9f3a"
             ],
             [
              0.8888888888888888,
              "#fdca26"
             ],
             [
              1,
              "#f0f921"
             ]
            ],
            "type": "contour"
           }
          ],
          "contourcarpet": [
           {
            "colorbar": {
             "outlinewidth": 0,
             "ticks": ""
            },
            "type": "contourcarpet"
           }
          ],
          "heatmap": [
           {
            "colorbar": {
             "outlinewidth": 0,
             "ticks": ""
            },
            "colorscale": [
             [
              0,
              "#0d0887"
             ],
             [
              0.1111111111111111,
              "#46039f"
             ],
             [
              0.2222222222222222,
              "#7201a8"
             ],
             [
              0.3333333333333333,
              "#9c179e"
             ],
             [
              0.4444444444444444,
              "#bd3786"
             ],
             [
              0.5555555555555556,
              "#d8576b"
             ],
             [
              0.6666666666666666,
              "#ed7953"
             ],
             [
              0.7777777777777778,
              "#fb9f3a"
             ],
             [
              0.8888888888888888,
              "#fdca26"
             ],
             [
              1,
              "#f0f921"
             ]
            ],
            "type": "heatmap"
           }
          ],
          "heatmapgl": [
           {
            "colorbar": {
             "outlinewidth": 0,
             "ticks": ""
            },
            "colorscale": [
             [
              0,
              "#0d0887"
             ],
             [
              0.1111111111111111,
              "#46039f"
             ],
             [
              0.2222222222222222,
              "#7201a8"
             ],
             [
              0.3333333333333333,
              "#9c179e"
             ],
             [
              0.4444444444444444,
              "#bd3786"
             ],
             [
              0.5555555555555556,
              "#d8576b"
             ],
             [
              0.6666666666666666,
              "#ed7953"
             ],
             [
              0.7777777777777778,
              "#fb9f3a"
             ],
             [
              0.8888888888888888,
              "#fdca26"
             ],
             [
              1,
              "#f0f921"
             ]
            ],
            "type": "heatmapgl"
           }
          ],
          "histogram": [
           {
            "marker": {
             "pattern": {
              "fillmode": "overlay",
              "size": 10,
              "solidity": 0.2
             }
            },
            "type": "histogram"
           }
          ],
          "histogram2d": [
           {
            "colorbar": {
             "outlinewidth": 0,
             "ticks": ""
            },
            "colorscale": [
             [
              0,
              "#0d0887"
             ],
             [
              0.1111111111111111,
              "#46039f"
             ],
             [
              0.2222222222222222,
              "#7201a8"
             ],
             [
              0.3333333333333333,
              "#9c179e"
             ],
             [
              0.4444444444444444,
              "#bd3786"
             ],
             [
              0.5555555555555556,
              "#d8576b"
             ],
             [
              0.6666666666666666,
              "#ed7953"
             ],
             [
              0.7777777777777778,
              "#fb9f3a"
             ],
             [
              0.8888888888888888,
              "#fdca26"
             ],
             [
              1,
              "#f0f921"
             ]
            ],
            "type": "histogram2d"
           }
          ],
          "histogram2dcontour": [
           {
            "colorbar": {
             "outlinewidth": 0,
             "ticks": ""
            },
            "colorscale": [
             [
              0,
              "#0d0887"
             ],
             [
              0.1111111111111111,
              "#46039f"
             ],
             [
              0.2222222222222222,
              "#7201a8"
             ],
             [
              0.3333333333333333,
              "#9c179e"
             ],
             [
              0.4444444444444444,
              "#bd3786"
             ],
             [
              0.5555555555555556,
              "#d8576b"
             ],
             [
              0.6666666666666666,
              "#ed7953"
             ],
             [
              0.7777777777777778,
              "#fb9f3a"
             ],
             [
              0.8888888888888888,
              "#fdca26"
             ],
             [
              1,
              "#f0f921"
             ]
            ],
            "type": "histogram2dcontour"
           }
          ],
          "mesh3d": [
           {
            "colorbar": {
             "outlinewidth": 0,
             "ticks": ""
            },
            "type": "mesh3d"
           }
          ],
          "parcoords": [
           {
            "line": {
             "colorbar": {
              "outlinewidth": 0,
              "ticks": ""
             }
            },
            "type": "parcoords"
           }
          ],
          "pie": [
           {
            "automargin": true,
            "type": "pie"
           }
          ],
          "scatter": [
           {
            "fillpattern": {
             "fillmode": "overlay",
             "size": 10,
             "solidity": 0.2
            },
            "type": "scatter"
           }
          ],
          "scatter3d": [
           {
            "line": {
             "colorbar": {
              "outlinewidth": 0,
              "ticks": ""
             }
            },
            "marker": {
             "colorbar": {
              "outlinewidth": 0,
              "ticks": ""
             }
            },
            "type": "scatter3d"
           }
          ],
          "scattercarpet": [
           {
            "marker": {
             "colorbar": {
              "outlinewidth": 0,
              "ticks": ""
             }
            },
            "type": "scattercarpet"
           }
          ],
          "scattergeo": [
           {
            "marker": {
             "colorbar": {
              "outlinewidth": 0,
              "ticks": ""
             }
            },
            "type": "scattergeo"
           }
          ],
          "scattergl": [
           {
            "marker": {
             "colorbar": {
              "outlinewidth": 0,
              "ticks": ""
             }
            },
            "type": "scattergl"
           }
          ],
          "scattermapbox": [
           {
            "marker": {
             "colorbar": {
              "outlinewidth": 0,
              "ticks": ""
             }
            },
            "type": "scattermapbox"
           }
          ],
          "scatterpolar": [
           {
            "marker": {
             "colorbar": {
              "outlinewidth": 0,
              "ticks": ""
             }
            },
            "type": "scatterpolar"
           }
          ],
          "scatterpolargl": [
           {
            "marker": {
             "colorbar": {
              "outlinewidth": 0,
              "ticks": ""
             }
            },
            "type": "scatterpolargl"
           }
          ],
          "scatterternary": [
           {
            "marker": {
             "colorbar": {
              "outlinewidth": 0,
              "ticks": ""
             }
            },
            "type": "scatterternary"
           }
          ],
          "surface": [
           {
            "colorbar": {
             "outlinewidth": 0,
             "ticks": ""
            },
            "colorscale": [
             [
              0,
              "#0d0887"
             ],
             [
              0.1111111111111111,
              "#46039f"
             ],
             [
              0.2222222222222222,
              "#7201a8"
             ],
             [
              0.3333333333333333,
              "#9c179e"
             ],
             [
              0.4444444444444444,
              "#bd3786"
             ],
             [
              0.5555555555555556,
              "#d8576b"
             ],
             [
              0.6666666666666666,
              "#ed7953"
             ],
             [
              0.7777777777777778,
              "#fb9f3a"
             ],
             [
              0.8888888888888888,
              "#fdca26"
             ],
             [
              1,
              "#f0f921"
             ]
            ],
            "type": "surface"
           }
          ],
          "table": [
           {
            "cells": {
             "fill": {
              "color": "#EBF0F8"
             },
             "line": {
              "color": "white"
             }
            },
            "header": {
             "fill": {
              "color": "#C8D4E3"
             },
             "line": {
              "color": "white"
             }
            },
            "type": "table"
           }
          ]
         },
         "layout": {
          "annotationdefaults": {
           "arrowcolor": "#2a3f5f",
           "arrowhead": 0,
           "arrowwidth": 1
          },
          "autotypenumbers": "strict",
          "coloraxis": {
           "colorbar": {
            "outlinewidth": 0,
            "ticks": ""
           }
          },
          "colorscale": {
           "diverging": [
            [
             0,
             "#8e0152"
            ],
            [
             0.1,
             "#c51b7d"
            ],
            [
             0.2,
             "#de77ae"
            ],
            [
             0.3,
             "#f1b6da"
            ],
            [
             0.4,
             "#fde0ef"
            ],
            [
             0.5,
             "#f7f7f7"
            ],
            [
             0.6,
             "#e6f5d0"
            ],
            [
             0.7,
             "#b8e186"
            ],
            [
             0.8,
             "#7fbc41"
            ],
            [
             0.9,
             "#4d9221"
            ],
            [
             1,
             "#276419"
            ]
           ],
           "sequential": [
            [
             0,
             "#0d0887"
            ],
            [
             0.1111111111111111,
             "#46039f"
            ],
            [
             0.2222222222222222,
             "#7201a8"
            ],
            [
             0.3333333333333333,
             "#9c179e"
            ],
            [
             0.4444444444444444,
             "#bd3786"
            ],
            [
             0.5555555555555556,
             "#d8576b"
            ],
            [
             0.6666666666666666,
             "#ed7953"
            ],
            [
             0.7777777777777778,
             "#fb9f3a"
            ],
            [
             0.8888888888888888,
             "#fdca26"
            ],
            [
             1,
             "#f0f921"
            ]
           ],
           "sequentialminus": [
            [
             0,
             "#0d0887"
            ],
            [
             0.1111111111111111,
             "#46039f"
            ],
            [
             0.2222222222222222,
             "#7201a8"
            ],
            [
             0.3333333333333333,
             "#9c179e"
            ],
            [
             0.4444444444444444,
             "#bd3786"
            ],
            [
             0.5555555555555556,
             "#d8576b"
            ],
            [
             0.6666666666666666,
             "#ed7953"
            ],
            [
             0.7777777777777778,
             "#fb9f3a"
            ],
            [
             0.8888888888888888,
             "#fdca26"
            ],
            [
             1,
             "#f0f921"
            ]
           ]
          },
          "colorway": [
           "#636efa",
           "#EF553B",
           "#00cc96",
           "#ab63fa",
           "#FFA15A",
           "#19d3f3",
           "#FF6692",
           "#B6E880",
           "#FF97FF",
           "#FECB52"
          ],
          "font": {
           "color": "#2a3f5f"
          },
          "geo": {
           "bgcolor": "white",
           "lakecolor": "white",
           "landcolor": "#E5ECF6",
           "showlakes": true,
           "showland": true,
           "subunitcolor": "white"
          },
          "hoverlabel": {
           "align": "left"
          },
          "hovermode": "closest",
          "mapbox": {
           "style": "light"
          },
          "paper_bgcolor": "white",
          "plot_bgcolor": "#E5ECF6",
          "polar": {
           "angularaxis": {
            "gridcolor": "white",
            "linecolor": "white",
            "ticks": ""
           },
           "bgcolor": "#E5ECF6",
           "radialaxis": {
            "gridcolor": "white",
            "linecolor": "white",
            "ticks": ""
           }
          },
          "scene": {
           "xaxis": {
            "backgroundcolor": "#E5ECF6",
            "gridcolor": "white",
            "gridwidth": 2,
            "linecolor": "white",
            "showbackground": true,
            "ticks": "",
            "zerolinecolor": "white"
           },
           "yaxis": {
            "backgroundcolor": "#E5ECF6",
            "gridcolor": "white",
            "gridwidth": 2,
            "linecolor": "white",
            "showbackground": true,
            "ticks": "",
            "zerolinecolor": "white"
           },
           "zaxis": {
            "backgroundcolor": "#E5ECF6",
            "gridcolor": "white",
            "gridwidth": 2,
            "linecolor": "white",
            "showbackground": true,
            "ticks": "",
            "zerolinecolor": "white"
           }
          },
          "shapedefaults": {
           "line": {
            "color": "#2a3f5f"
           }
          },
          "ternary": {
           "aaxis": {
            "gridcolor": "white",
            "linecolor": "white",
            "ticks": ""
           },
           "baxis": {
            "gridcolor": "white",
            "linecolor": "white",
            "ticks": ""
           },
           "bgcolor": "#E5ECF6",
           "caxis": {
            "gridcolor": "white",
            "linecolor": "white",
            "ticks": ""
           }
          },
          "title": {
           "x": 0.05
          },
          "xaxis": {
           "automargin": true,
           "gridcolor": "white",
           "linecolor": "white",
           "ticks": "",
           "title": {
            "standoff": 15
           },
           "zerolinecolor": "white",
           "zerolinewidth": 2
          },
          "yaxis": {
           "automargin": true,
           "gridcolor": "white",
           "linecolor": "white",
           "ticks": "",
           "title": {
            "standoff": 15
           },
           "zerolinecolor": "white",
           "zerolinewidth": 2
          }
         }
        },
        "title": {
         "text": "Geometry View"
        },
        "xaxis": {
         "scaleanchor": "y",
         "scaleratio": 1
        }
       }
      }
     },
     "metadata": {},
     "output_type": "display_data"
    }
   ],
   "source": [
    "import samplemaker.layout as smlay\n",
    "import samplemaker.makers as sm\n",
    "from samplemaker.viewers import GeomView\n",
    "\n",
    "\n",
    "mask = smlay.Mask(\"00_test_mask\")\n",
    "\n",
    "base = sm.make_rect(0, 0, 2, 10, layer = 1)\n",
    "base += sm.make_circle(4,5,1, to_poly = True)\n",
    "mask.addCell(\"BCELL\", base)\n",
    "\n",
    "\n",
    "geomB = sm.make_sref(20, 15, \"BCELL\", base, mag=1.0, angle =0, mirror=False)\n",
    "geomB += sm.make_sref(40, 15, \"BCELL\", base, mag=1.5, angle =45, mirror=False)\n",
    "geomC = geomB.flatten()\n",
    "b2 = sm.make_rounded_rect(0,0,7,3,1)\n",
    "b2+= sm.make_sref(40,15, \"BCELL\", base)\n",
    "GeomViewPlotly(geomC)"
   ]
  },
  {
   "cell_type": "code",
   "execution_count": 27,
   "metadata": {},
   "outputs": [
    {
     "data": {
      "image/png": "[encoded data removed]",
      "text/plain": [
       "<Figure size 640x480 with 1 Axes>"
      ]
     },
     "metadata": {},
     "output_type": "display_data"
    }
   ],
   "source": [
    "# Create a simple mask layout\n",
    "themask = smlay.Mask(\"02_Tutorial_CellReferences\")\n",
    "\n",
    "# Let's draw a simple shape\n",
    "base = sm.make_rect(0,0,2,10)\n",
    "base += sm.make_circle(4,5,1,to_poly=True)\n",
    "\n",
    "# We would like to make identical copies of this.\n",
    "# Instead of using base.copy() which duplicates the memory and GDS file size\n",
    "# we can place base in a GDS CELL and refer to it in our main cell\n",
    "\n",
    "# Create a new GDS cell called \"BCELL\"\n",
    "themask.addCell(\"BCELL\", base)\n",
    "\n",
    "# Now create a single reference to it \n",
    "geomE = sm.make_sref(20, 15, \"BCELL\", base,mag=1.0,angle=0,mirror=False)\n",
    "# Note that we can move, rotate, scale and mirror the reference \n",
    "\n",
    "# Let's create another instance but scaledby 50%  and rotated by 45 degrees\n",
    "geomE += sm.make_sref(40, 15, \"BCELL\", base,mag=1.5,angle=45,mirror=False)\n",
    "\n",
    "GeomView(geomE)"
   ]
  },
  {
   "cell_type": "code",
   "execution_count": 38,
   "metadata": {},
   "outputs": [
    {
     "data": {
      "image/png": "[encoded data removed]",
      "text/plain": [
       "<Figure size 640x480 with 1 Axes>"
      ]
     },
     "metadata": {},
     "output_type": "display_data"
    },
    {
     "data": {
      "image/png": "[encoded data removed]",
      "text/plain": [
       "<Figure size 640x480 with 1 Axes>"
      ]
     },
     "metadata": {},
     "output_type": "display_data"
    },
    {
     "data": {
      "image/png": "[encoded data removed]",
      "text/plain": [
       "<Figure size 640x480 with 1 Axes>"
      ]
     },
     "metadata": {},
     "output_type": "display_data"
    },
    {
     "data": {
      "image/png": "[encoded data removed]",
      "text/plain": [
       "<Figure size 640x480 with 1 Axes>"
      ]
     },
     "metadata": {},
     "output_type": "display_data"
    }
   ],
   "source": [
    "mask =  smlay.Mask(\"03_test_mask\")\n",
    "\n",
    "base = sm.make_rect(0,0,2,10)\n",
    "base += sm.make_circle(4,5,1,to_poly=True, layer= 3)\n",
    "GeomView(base)\n",
    "geomE = sm.GeomGroup()\n",
    "\n",
    "gsel1 = base.select_layer(1)\n",
    "gsel2 = base.deselect_layers([1])\n",
    "GeomView(gsel1)\n",
    "GeomView(gsel2)\n",
    "\n",
    "bb = base.bounding_box()\n",
    "rbox = bb.toRect()\n",
    "GeomView(rbox)\n",
    "\n",
    "geomE += base\n",
    "\n",
    "res1 = base.copy()\n",
    "res1.set_layer(2)\n",
    "res1"
   ]
  },
  {
   "cell_type": "markdown",
   "metadata": {},
   "source": [
    "## Tutorial 3"
   ]
  },
  {
   "cell_type": "code",
   "execution_count": 4,
   "metadata": {},
   "outputs": [
    {
     "data": {
      "application/vnd.plotly.v1+json": {
       "config": {
        "plotlyServerURL": "https://plot.ly"
       },
       "data": [
        {
         "fill": "toself",
         "line": {
          "color": "orange"
         },
         "type": "scatter",
         "x": [
          -1,
          1,
          1,
          -1,
          -1
         ],
         "y": [
          -5,
          -5,
          5,
          5,
          -5
         ]
        },
        {
         "fill": "toself",
         "line": {
          "color": "red"
         },
         "type": "scatter",
         "x": [
          5,
          4.98078528040323,
          4.923879532511287,
          4.831469612302545,
          4.707106781186548,
          4.555570233019602,
          4.38268343236509,
          4.195090322016128,
          4,
          3.804909677983872,
          3.6173165676349104,
          3.444429766980398,
          3.2928932188134525,
          3.1685303876974547,
          3.076120467488713,
          3.0192147195967696,
          3,
          3.0192147195967696,
          3.076120467488713,
          3.1685303876974547,
          3.292893218813452,
          3.444429766980398,
          3.6173165676349095,
          3.804909677983871,
          4,
          4.195090322016128,
          4.38268343236509,
          4.555570233019602,
          4.707106781186547,
          4.831469612302545,
          4.923879532511286,
          4.98078528040323,
          5
         ],
         "y": [
          5,
          5.195090322016128,
          5.38268343236509,
          5.555570233019602,
          5.707106781186548,
          5.831469612302545,
          5.923879532511287,
          5.98078528040323,
          6,
          5.98078528040323,
          5.923879532511287,
          5.831469612302545,
          5.707106781186548,
          5.555570233019602,
          5.38268343236509,
          5.195090322016129,
          5,
          4.804909677983872,
          4.61731656763491,
          4.444429766980398,
          4.292893218813452,
          4.168530387697455,
          4.076120467488714,
          4.01921471959677,
          4,
          4.01921471959677,
          4.076120467488713,
          4.168530387697454,
          4.292893218813452,
          4.444429766980398,
          4.6173165676349095,
          4.804909677983871,
          5
         ]
        }
       ],
       "layout": {
        "showlegend": false,
        "template": {
         "data": {
          "bar": [
           {
            "error_x": {
             "color": "#2a3f5f"
            },
            "error_y": {
             "color": "#2a3f5f"
            },
            "marker": {
             "line": {
              "color": "#E5ECF6",
              "width": 0.5
             },
             "pattern": {
              "fillmode": "overlay",
              "size": 10,
              "solidity": 0.2
             }
            },
            "type": "bar"
           }
          ],
          "barpolar": [
           {
            "marker": {
             "line": {
              "color": "#E5ECF6",
              "width": 0.5
             },
             "pattern": {
              "fillmode": "overlay",
              "size": 10,
              "solidity": 0.2
             }
            },
            "type": "barpolar"
           }
          ],
          "carpet": [
           {
            "aaxis": {
             "endlinecolor": "#2a3f5f",
             "gridcolor": "white",
             "linecolor": "white",
             "minorgridcolor": "white",
             "startlinecolor": "#2a3f5f"
            },
            "baxis": {
             "endlinecolor": "#2a3f5f",
             "gridcolor": "white",
             "linecolor": "white",
             "minorgridcolor": "white",
             "startlinecolor": "#2a3f5f"
            },
            "type": "carpet"
           }
          ],
          "choropleth": [
           {
            "colorbar": {
             "outlinewidth": 0,
             "ticks": ""
            },
            "type": "choropleth"
           }
          ],
          "contour": [
           {
            "colorbar": {
             "outlinewidth": 0,
             "ticks": ""
            },
            "colorscale": [
             [
              0,
              "#0d0887"
             ],
             [
              0.1111111111111111,
              "#46039f"
             ],
             [
              0.2222222222222222,
              "#7201a8"
             ],
             [
              0.3333333333333333,
              "#9c179e"
             ],
             [
              0.4444444444444444,
              "#bd3786"
             ],
             [
              0.5555555555555556,
              "#d8576b"
             ],
             [
              0.6666666666666666,
              "#ed7953"
             ],
             [
              0.7777777777777778,
              "#fb9f3a"
             ],
             [
              0.8888888888888888,
              "#fdca26"
             ],
             [
              1,
              "#f0f921"
             ]
            ],
            "type": "contour"
           }
          ],
          "contourcarpet": [
           {
            "colorbar": {
             "outlinewidth": 0,
             "ticks": ""
            },
            "type": "contourcarpet"
           }
          ],
          "heatmap": [
           {
            "colorbar": {
             "outlinewidth": 0,
             "ticks": ""
            },
            "colorscale": [
             [
              0,
              "#0d0887"
             ],
             [
              0.1111111111111111,
              "#46039f"
             ],
             [
              0.2222222222222222,
              "#7201a8"
             ],
             [
              0.3333333333333333,
              "#9c179e"
             ],
             [
              0.4444444444444444,
              "#bd3786"
             ],
             [
              0.5555555555555556,
              "#d8576b"
             ],
             [
              0.6666666666666666,
              "#ed7953"
             ],
             [
              0.7777777777777778,
              "#fb9f3a"
             ],
             [
              0.8888888888888888,
              "#fdca26"
             ],
             [
              1,
              "#f0f921"
             ]
            ],
            "type": "heatmap"
           }
          ],
          "heatmapgl": [
           {
            "colorbar": {
             "outlinewidth": 0,
             "ticks": ""
            },
            "colorscale": [
             [
              0,
              "#0d0887"
             ],
             [
              0.1111111111111111,
              "#46039f"
             ],
             [
              0.2222222222222222,
              "#7201a8"
             ],
             [
              0.3333333333333333,
              "#9c179e"
             ],
             [
              0.4444444444444444,
              "#bd3786"
             ],
             [
              0.5555555555555556,
              "#d8576b"
             ],
             [
              0.6666666666666666,
              "#ed7953"
             ],
             [
              0.7777777777777778,
              "#fb9f3a"
             ],
             [
              0.8888888888888888,
              "#fdca26"
             ],
             [
              1,
              "#f0f921"
             ]
            ],
            "type": "heatmapgl"
           }
          ],
          "histogram": [
           {
            "marker": {
             "pattern": {
              "fillmode": "overlay",
              "size": 10,
              "solidity": 0.2
             }
            },
            "type": "histogram"
           }
          ],
          "histogram2d": [
           {
            "colorbar": {
             "outlinewidth": 0,
             "ticks": ""
            },
            "colorscale": [
             [
              0,
              "#0d0887"
             ],
             [
              0.1111111111111111,
              "#46039f"
             ],
             [
              0.2222222222222222,
              "#7201a8"
             ],
             [
              0.3333333333333333,
              "#9c179e"
             ],
             [
              0.4444444444444444,
              "#bd3786"
             ],
             [
              0.5555555555555556,
              "#d8576b"
             ],
             [
              0.6666666666666666,
              "#ed7953"
             ],
             [
              0.7777777777777778,
              "#fb9f3a"
             ],
             [
              0.8888888888888888,
              "#fdca26"
             ],
             [
              1,
              "#f0f921"
             ]
            ],
            "type": "histogram2d"
           }
          ],
          "histogram2dcontour": [
           {
            "colorbar": {
             "outlinewidth": 0,
             "ticks": ""
            },
            "colorscale": [
             [
              0,
              "#0d0887"
             ],
             [
              0.1111111111111111,
              "#46039f"
             ],
             [
              0.2222222222222222,
              "#7201a8"
             ],
             [
              0.3333333333333333,
              "#9c179e"
             ],
             [
              0.4444444444444444,
              "#bd3786"
             ],
             [
              0.5555555555555556,
              "#d8576b"
             ],
             [
              0.6666666666666666,
              "#ed7953"
             ],
             [
              0.7777777777777778,
              "#fb9f3a"
             ],
             [
              0.8888888888888888,
              "#fdca26"
             ],
             [
              1,
              "#f0f921"
             ]
            ],
            "type": "histogram2dcontour"
           }
          ],
          "mesh3d": [
           {
            "colorbar": {
             "outlinewidth": 0,
             "ticks": ""
            },
            "type": "mesh3d"
           }
          ],
          "parcoords": [
           {
            "line": {
             "colorbar": {
              "outlinewidth": 0,
              "ticks": ""
             }
            },
            "type": "parcoords"
           }
          ],
          "pie": [
           {
            "automargin": true,
            "type": "pie"
           }
          ],
          "scatter": [
           {
            "fillpattern": {
             "fillmode": "overlay",
             "size": 10,
             "solidity": 0.2
            },
            "type": "scatter"
           }
          ],
          "scatter3d": [
           {
            "line": {
             "colorbar": {
              "outlinewidth": 0,
              "ticks": ""
             }
            },
            "marker": {
             "colorbar": {
              "outlinewidth": 0,
              "ticks": ""
             }
            },
            "type": "scatter3d"
           }
          ],
          "scattercarpet": [
           {
            "marker": {
             "colorbar": {
              "outlinewidth": 0,
              "ticks": ""
             }
            },
            "type": "scattercarpet"
           }
          ],
          "scattergeo": [
           {
            "marker": {
             "colorbar": {
              "outlinewidth": 0,
              "ticks": ""
             }
            },
            "type": "scattergeo"
           }
          ],
          "scattergl": [
           {
            "marker": {
             "colorbar": {
              "outlinewidth": 0,
              "ticks": ""
             }
            },
            "type": "scattergl"
           }
          ],
          "scattermapbox": [
           {
            "marker": {
             "colorbar": {
              "outlinewidth": 0,
              "ticks": ""
             }
            },
            "type": "scattermapbox"
           }
          ],
          "scatterpolar": [
           {
            "marker": {
             "colorbar": {
              "outlinewidth": 0,
              "ticks": ""
             }
            },
            "type": "scatterpolar"
           }
          ],
          "scatterpolargl": [
           {
            "marker": {
             "colorbar": {
              "outlinewidth": 0,
              "ticks": ""
             }
            },
            "type": "scatterpolargl"
           }
          ],
          "scatterternary": [
           {
            "marker": {
             "colorbar": {
              "outlinewidth": 0,
              "ticks": ""
             }
            },
            "type": "scatterternary"
           }
          ],
          "surface": [
           {
            "colorbar": {
             "outlinewidth": 0,
             "ticks": ""
            },
            "colorscale": [
             [
              0,
              "#0d0887"
             ],
             [
              0.1111111111111111,
              "#46039f"
             ],
             [
              0.2222222222222222,
              "#7201a8"
             ],
             [
              0.3333333333333333,
              "#9c179e"
             ],
             [
              0.4444444444444444,
              "#bd3786"
             ],
             [
              0.5555555555555556,
              "#d8576b"
             ],
             [
              0.6666666666666666,
              "#ed7953"
             ],
             [
              0.7777777777777778,
              "#fb9f3a"
             ],
             [
              0.8888888888888888,
              "#fdca26"
             ],
             [
              1,
              "#f0f921"
             ]
            ],
            "type": "surface"
           }
          ],
          "table": [
           {
            "cells": {
             "fill": {
              "color": "#EBF0F8"
             },
             "line": {
              "color": "white"
             }
            },
            "header": {
             "fill": {
              "color": "#C8D4E3"
             },
             "line": {
              "color": "white"
             }
            },
            "type": "table"
           }
          ]
         },
         "layout": {
          "annotationdefaults": {
           "arrowcolor": "#2a3f5f",
           "arrowhead": 0,
           "arrowwidth": 1
          },
          "autotypenumbers": "strict",
          "coloraxis": {
           "colorbar": {
            "outlinewidth": 0,
            "ticks": ""
           }
          },
          "colorscale": {
           "diverging": [
            [
             0,
             "#8e0152"
            ],
            [
             0.1,
             "#c51b7d"
            ],
            [
             0.2,
             "#de77ae"
            ],
            [
             0.3,
             "#f1b6da"
            ],
            [
             0.4,
             "#fde0ef"
            ],
            [
             0.5,
             "#f7f7f7"
            ],
            [
             0.6,
             "#e6f5d0"
            ],
            [
             0.7,
             "#b8e186"
            ],
            [
             0.8,
             "#7fbc41"
            ],
            [
             0.9,
             "#4d9221"
            ],
            [
             1,
             "#276419"
            ]
           ],
           "sequential": [
            [
             0,
             "#0d0887"
            ],
            [
             0.1111111111111111,
             "#46039f"
            ],
            [
             0.2222222222222222,
             "#7201a8"
            ],
            [
             0.3333333333333333,
             "#9c179e"
            ],
            [
             0.4444444444444444,
             "#bd3786"
            ],
            [
             0.5555555555555556,
             "#d8576b"
            ],
            [
             0.6666666666666666,
             "#ed7953"
            ],
            [
             0.7777777777777778,
             "#fb9f3a"
            ],
            [
             0.8888888888888888,
             "#fdca26"
            ],
            [
             1,
             "#f0f921"
            ]
           ],
           "sequentialminus": [
            [
             0,
             "#0d0887"
            ],
            [
             0.1111111111111111,
             "#46039f"
            ],
            [
             0.2222222222222222,
             "#7201a8"
            ],
            [
             0.3333333333333333,
             "#9c179e"
            ],
            [
             0.4444444444444444,
             "#bd3786"
            ],
            [
             0.5555555555555556,
             "#d8576b"
            ],
            [
             0.6666666666666666,
             "#ed7953"
            ],
            [
             0.7777777777777778,
             "#fb9f3a"
            ],
            [
             0.8888888888888888,
             "#fdca26"
            ],
            [
             1,
             "#f0f921"
            ]
           ]
          },
          "colorway": [
           "#636efa",
           "#EF553B",
           "#00cc96",
           "#ab63fa",
           "#FFA15A",
           "#19d3f3",
           "#FF6692",
           "#B6E880",
           "#FF97FF",
           "#FECB52"
          ],
          "font": {
           "color": "#2a3f5f"
          },
          "geo": {
           "bgcolor": "white",
           "lakecolor": "white",
           "landcolor": "#E5ECF6",
           "showlakes": true,
           "showland": true,
           "subunitcolor": "white"
          },
          "hoverlabel": {
           "align": "left"
          },
          "hovermode": "closest",
          "mapbox": {
           "style": "light"
          },
          "paper_bgcolor": "white",
          "plot_bgcolor": "#E5ECF6",
          "polar": {
           "angularaxis": {
            "gridcolor": "white",
            "linecolor": "white",
            "ticks": ""
           },
           "bgcolor": "#E5ECF6",
           "radialaxis": {
            "gridcolor": "white",
            "linecolor": "white",
            "ticks": ""
           }
          },
          "scene": {
           "xaxis": {
            "backgroundcolor": "#E5ECF6",
            "gridcolor": "white",
            "gridwidth": 2,
            "linecolor": "white",
            "showbackground": true,
            "ticks": "",
            "zerolinecolor": "white"
           },
           "yaxis": {
            "backgroundcolor": "#E5ECF6",
            "gridcolor": "white",
            "gridwidth": 2,
            "linecolor": "white",
            "showbackground": true,
            "ticks": "",
            "zerolinecolor": "white"
           },
           "zaxis": {
            "backgroundcolor": "#E5ECF6",
            "gridcolor": "white",
            "gridwidth": 2,
            "linecolor": "white",
            "showbackground": true,
            "ticks": "",
            "zerolinecolor": "white"
           }
          },
          "shapedefaults": {
           "line": {
            "color": "#2a3f5f"
           }
          },
          "ternary": {
           "aaxis": {
            "gridcolor": "white",
            "linecolor": "white",
            "ticks": ""
           },
           "baxis": {
            "gridcolor": "white",
            "linecolor": "white",
            "ticks": ""
           },
           "bgcolor": "#E5ECF6",
           "caxis": {
            "gridcolor": "white",
            "linecolor": "white",
            "ticks": ""
           }
          },
          "title": {
           "x": 0.05
          },
          "xaxis": {
           "automargin": true,
           "gridcolor": "white",
           "linecolor": "white",
           "ticks": "",
           "title": {
            "standoff": 15
           },
           "zerolinecolor": "white",
           "zerolinewidth": 2
          },
          "yaxis": {
           "automargin": true,
           "gridcolor": "white",
           "linecolor": "white",
           "ticks": "",
           "title": {
            "standoff": 15
           },
           "zerolinecolor": "white",
           "zerolinewidth": 2
          }
         }
        },
        "title": {
         "text": "Geometry View"
        },
        "xaxis": {
         "scaleanchor": "y",
         "scaleratio": 1
        }
       }
      }
     },
     "metadata": {},
     "output_type": "display_data"
    }
   ],
   "source": [
    "# Let's import basic stuff\n",
    "import samplemaker.layout as smlay # used for layout \n",
    "import samplemaker.makers as sm # used for drawing\n",
    "from samplemaker.plotly_viewers import GeomViewPlotly # used for\n",
    "from samplemaker.viewers import GeomView # used for viewing\n",
    "# Create a simple mask layout\n",
    "themask = smlay.Mask(\"03_Tutorial_GroupManipulation\")\n",
    "\n",
    "# Let's start again from a simple shape\n",
    "base = sm.make_rect(0,0,2,10)\n",
    "base += sm.make_circle(4,5,1,to_poly=True,layer=3)\n",
    "GeomViewPlotly(base)\n",
    "\n",
    "# You can create empty groups\n",
    "geomE = sm.GeomGroup()\n"
   ]
  },
  {
   "cell_type": "code",
   "execution_count": 7,
   "metadata": {},
   "outputs": [
    {
     "data": {
      "application/vnd.plotly.v1+json": {
       "config": {
        "plotlyServerURL": "https://plot.ly"
       },
       "data": [
        {
         "fill": "toself",
         "line": {
          "color": "blue"
         },
         "type": "scatter",
         "x": [
          -1,
          5,
          5,
          -1,
          -1
         ],
         "y": [
          -5,
          -5,
          6,
          6,
          -5
         ]
        },
        {
         "fill": "toself",
         "line": {
          "color": "orange"
         },
         "type": "scatter",
         "x": [
          -1,
          1,
          1,
          -1,
          -1
         ],
         "y": [
          -5,
          -5,
          5,
          5,
          -5
         ]
        },
        {
         "fill": "toself",
         "line": {
          "color": "red"
         },
         "type": "scatter",
         "x": [
          5,
          4.98078528040323,
          4.923879532511287,
          4.831469612302545,
          4.707106781186548,
          4.555570233019602,
          4.38268343236509,
          4.195090322016128,
          4,
          3.804909677983872,
          3.6173165676349104,
          3.444429766980398,
          3.2928932188134525,
          3.1685303876974547,
          3.076120467488713,
          3.0192147195967696,
          3,
          3.0192147195967696,
          3.076120467488713,
          3.1685303876974547,
          3.292893218813452,
          3.444429766980398,
          3.6173165676349095,
          3.804909677983871,
          4,
          4.195090322016128,
          4.38268343236509,
          4.555570233019602,
          4.707106781186547,
          4.831469612302545,
          4.923879532511286,
          4.98078528040323,
          5
         ],
         "y": [
          5,
          5.195090322016128,
          5.38268343236509,
          5.555570233019602,
          5.707106781186548,
          5.831469612302545,
          5.923879532511287,
          5.98078528040323,
          6,
          5.98078528040323,
          5.923879532511287,
          5.831469612302545,
          5.707106781186548,
          5.555570233019602,
          5.38268343236509,
          5.195090322016129,
          5,
          4.804909677983872,
          4.61731656763491,
          4.444429766980398,
          4.292893218813452,
          4.168530387697455,
          4.076120467488714,
          4.01921471959677,
          4,
          4.01921471959677,
          4.076120467488713,
          4.168530387697454,
          4.292893218813452,
          4.444429766980398,
          4.6173165676349095,
          4.804909677983871,
          5
         ]
        }
       ],
       "layout": {
        "showlegend": false,
        "template": {
         "data": {
          "bar": [
           {
            "error_x": {
             "color": "#2a3f5f"
            },
            "error_y": {
             "color": "#2a3f5f"
            },
            "marker": {
             "line": {
              "color": "#E5ECF6",
              "width": 0.5
             },
             "pattern": {
              "fillmode": "overlay",
              "size": 10,
              "solidity": 0.2
             }
            },
            "type": "bar"
           }
          ],
          "barpolar": [
           {
            "marker": {
             "line": {
              "color": "#E5ECF6",
              "width": 0.5
             },
             "pattern": {
              "fillmode": "overlay",
              "size": 10,
              "solidity": 0.2
             }
            },
            "type": "barpolar"
           }
          ],
          "carpet": [
           {
            "aaxis": {
             "endlinecolor": "#2a3f5f",
             "gridcolor": "white",
             "linecolor": "white",
             "minorgridcolor": "white",
             "startlinecolor": "#2a3f5f"
            },
            "baxis": {
             "endlinecolor": "#2a3f5f",
             "gridcolor": "white",
             "linecolor": "white",
             "minorgridcolor": "white",
             "startlinecolor": "#2a3f5f"
            },
            "type": "carpet"
           }
          ],
          "choropleth": [
           {
            "colorbar": {
             "outlinewidth": 0,
             "ticks": ""
            },
            "type": "choropleth"
           }
          ],
          "contour": [
           {
            "colorbar": {
             "outlinewidth": 0,
             "ticks": ""
            },
            "colorscale": [
             [
              0,
              "#0d0887"
             ],
             [
              0.1111111111111111,
              "#46039f"
             ],
             [
              0.2222222222222222,
              "#7201a8"
             ],
             [
              0.3333333333333333,
              "#9c179e"
             ],
             [
              0.4444444444444444,
              "#bd3786"
             ],
             [
              0.5555555555555556,
              "#d8576b"
             ],
             [
              0.6666666666666666,
              "#ed7953"
             ],
             [
              0.7777777777777778,
              "#fb9f3a"
             ],
             [
              0.8888888888888888,
              "#fdca26"
             ],
             [
              1,
              "#f0f921"
             ]
            ],
            "type": "contour"
           }
          ],
          "contourcarpet": [
           {
            "colorbar": {
             "outlinewidth": 0,
             "ticks": ""
            },
            "type": "contourcarpet"
           }
          ],
          "heatmap": [
           {
            "colorbar": {
             "outlinewidth": 0,
             "ticks": ""
            },
            "colorscale": [
             [
              0,
              "#0d0887"
             ],
             [
              0.1111111111111111,
              "#46039f"
             ],
             [
              0.2222222222222222,
              "#7201a8"
             ],
             [
              0.3333333333333333,
              "#9c179e"
             ],
             [
              0.4444444444444444,
              "#bd3786"
             ],
             [
              0.5555555555555556,
              "#d8576b"
             ],
             [
              0.6666666666666666,
              "#ed7953"
             ],
             [
              0.7777777777777778,
              "#fb9f3a"
             ],
             [
              0.8888888888888888,
              "#fdca26"
             ],
             [
              1,
              "#f0f921"
             ]
            ],
            "type": "heatmap"
           }
          ],
          "heatmapgl": [
           {
            "colorbar": {
             "outlinewidth": 0,
             "ticks": ""
            },
            "colorscale": [
             [
              0,
              "#0d0887"
             ],
             [
              0.1111111111111111,
              "#46039f"
             ],
             [
              0.2222222222222222,
              "#7201a8"
             ],
             [
              0.3333333333333333,
              "#9c179e"
             ],
             [
              0.4444444444444444,
              "#bd3786"
             ],
             [
              0.5555555555555556,
              "#d8576b"
             ],
             [
              0.6666666666666666,
              "#ed7953"
             ],
             [
              0.7777777777777778,
              "#fb9f3a"
             ],
             [
              0.8888888888888888,
              "#fdca26"
             ],
             [
              1,
              "#f0f921"
             ]
            ],
            "type": "heatmapgl"
           }
          ],
          "histogram": [
           {
            "marker": {
             "pattern": {
              "fillmode": "overlay",
              "size": 10,
              "solidity": 0.2
             }
            },
            "type": "histogram"
           }
          ],
          "histogram2d": [
           {
            "colorbar": {
             "outlinewidth": 0,
             "ticks": ""
            },
            "colorscale": [
             [
              0,
              "#0d0887"
             ],
             [
              0.1111111111111111,
              "#46039f"
             ],
             [
              0.2222222222222222,
              "#7201a8"
             ],
             [
              0.3333333333333333,
              "#9c179e"
             ],
             [
              0.4444444444444444,
              "#bd3786"
             ],
             [
              0.5555555555555556,
              "#d8576b"
             ],
             [
              0.6666666666666666,
              "#ed7953"
             ],
             [
              0.7777777777777778,
              "#fb9f3a"
             ],
             [
              0.8888888888888888,
              "#fdca26"
             ],
             [
              1,
              "#f0f921"
             ]
            ],
            "type": "histogram2d"
           }
          ],
          "histogram2dcontour": [
           {
            "colorbar": {
             "outlinewidth": 0,
             "ticks": ""
            },
            "colorscale": [
             [
              0,
              "#0d0887"
             ],
             [
              0.1111111111111111,
              "#46039f"
             ],
             [
              0.2222222222222222,
              "#7201a8"
             ],
             [
              0.3333333333333333,
              "#9c179e"
             ],
             [
              0.4444444444444444,
              "#bd3786"
             ],
             [
              0.5555555555555556,
              "#d8576b"
             ],
             [
              0.6666666666666666,
              "#ed7953"
             ],
             [
              0.7777777777777778,
              "#fb9f3a"
             ],
             [
              0.8888888888888888,
              "#fdca26"
             ],
             [
              1,
              "#f0f921"
             ]
            ],
            "type": "histogram2dcontour"
           }
          ],
          "mesh3d": [
           {
            "colorbar": {
             "outlinewidth": 0,
             "ticks": ""
            },
            "type": "mesh3d"
           }
          ],
          "parcoords": [
           {
            "line": {
             "colorbar": {
              "outlinewidth": 0,
              "ticks": ""
             }
            },
            "type": "parcoords"
           }
          ],
          "pie": [
           {
            "automargin": true,
            "type": "pie"
           }
          ],
          "scatter": [
           {
            "fillpattern": {
             "fillmode": "overlay",
             "size": 10,
             "solidity": 0.2
            },
            "type": "scatter"
           }
          ],
          "scatter3d": [
           {
            "line": {
             "colorbar": {
              "outlinewidth": 0,
              "ticks": ""
             }
            },
            "marker": {
             "colorbar": {
              "outlinewidth": 0,
              "ticks": ""
             }
            },
            "type": "scatter3d"
           }
          ],
          "scattercarpet": [
           {
            "marker": {
             "colorbar": {
              "outlinewidth": 0,
              "ticks": ""
             }
            },
            "type": "scattercarpet"
           }
          ],
          "scattergeo": [
           {
            "marker": {
             "colorbar": {
              "outlinewidth": 0,
              "ticks": ""
             }
            },
            "type": "scattergeo"
           }
          ],
          "scattergl": [
           {
            "marker": {
             "colorbar": {
              "outlinewidth": 0,
              "ticks": ""
             }
            },
            "type": "scattergl"
           }
          ],
          "scattermapbox": [
           {
            "marker": {
             "colorbar": {
              "outlinewidth": 0,
              "ticks": ""
             }
            },
            "type": "scattermapbox"
           }
          ],
          "scatterpolar": [
           {
            "marker": {
             "colorbar": {
              "outlinewidth": 0,
              "ticks": ""
             }
            },
            "type": "scatterpolar"
           }
          ],
          "scatterpolargl": [
           {
            "marker": {
             "colorbar": {
              "outlinewidth": 0,
              "ticks": ""
             }
            },
            "type": "scatterpolargl"
           }
          ],
          "scatterternary": [
           {
            "marker": {
             "colorbar": {
              "outlinewidth": 0,
              "ticks": ""
             }
            },
            "type": "scatterternary"
           }
          ],
          "surface": [
           {
            "colorbar": {
             "outlinewidth": 0,
             "ticks": ""
            },
            "colorscale": [
             [
              0,
              "#0d0887"
             ],
             [
              0.1111111111111111,
              "#46039f"
             ],
             [
              0.2222222222222222,
              "#7201a8"
             ],
             [
              0.3333333333333333,
              "#9c179e"
             ],
             [
              0.4444444444444444,
              "#bd3786"
             ],
             [
              0.5555555555555556,
              "#d8576b"
             ],
             [
              0.6666666666666666,
              "#ed7953"
             ],
             [
              0.7777777777777778,
              "#fb9f3a"
             ],
             [
              0.8888888888888888,
              "#fdca26"
             ],
             [
              1,
              "#f0f921"
             ]
            ],
            "type": "surface"
           }
          ],
          "table": [
           {
            "cells": {
             "fill": {
              "color": "#EBF0F8"
             },
             "line": {
              "color": "white"
             }
            },
            "header": {
             "fill": {
              "color": "#C8D4E3"
             },
             "line": {
              "color": "white"
             }
            },
            "type": "table"
           }
          ]
         },
         "layout": {
          "annotationdefaults": {
           "arrowcolor": "#2a3f5f",
           "arrowhead": 0,
           "arrowwidth": 1
          },
          "autotypenumbers": "strict",
          "coloraxis": {
           "colorbar": {
            "outlinewidth": 0,
            "ticks": ""
           }
          },
          "colorscale": {
           "diverging": [
            [
             0,
             "#8e0152"
            ],
            [
             0.1,
             "#c51b7d"
            ],
            [
             0.2,
             "#de77ae"
            ],
            [
             0.3,
             "#f1b6da"
            ],
            [
             0.4,
             "#fde0ef"
            ],
            [
             0.5,
             "#f7f7f7"
            ],
            [
             0.6,
             "#e6f5d0"
            ],
            [
             0.7,
             "#b8e186"
            ],
            [
             0.8,
             "#7fbc41"
            ],
            [
             0.9,
             "#4d9221"
            ],
            [
             1,
             "#276419"
            ]
           ],
           "sequential": [
            [
             0,
             "#0d0887"
            ],
            [
             0.1111111111111111,
             "#46039f"
            ],
            [
             0.2222222222222222,
             "#7201a8"
            ],
            [
             0.3333333333333333,
             "#9c179e"
            ],
            [
             0.4444444444444444,
             "#bd3786"
            ],
            [
             0.5555555555555556,
             "#d8576b"
            ],
            [
             0.6666666666666666,
             "#ed7953"
            ],
            [
             0.7777777777777778,
             "#fb9f3a"
            ],
            [
             0.8888888888888888,
             "#fdca26"
            ],
            [
             1,
             "#f0f921"
            ]
           ],
           "sequentialminus": [
            [
             0,
             "#0d0887"
            ],
            [
             0.1111111111111111,
             "#46039f"
            ],
            [
             0.2222222222222222,
             "#7201a8"
            ],
            [
             0.3333333333333333,
             "#9c179e"
            ],
            [
             0.4444444444444444,
             "#bd3786"
            ],
            [
             0.5555555555555556,
             "#d8576b"
            ],
            [
             0.6666666666666666,
             "#ed7953"
            ],
            [
             0.7777777777777778,
             "#fb9f3a"
            ],
            [
             0.8888888888888888,
             "#fdca26"
            ],
            [
             1,
             "#f0f921"
            ]
           ]
          },
          "colorway": [
           "#636efa",
           "#EF553B",
           "#00cc96",
           "#ab63fa",
           "#FFA15A",
           "#19d3f3",
           "#FF6692",
           "#B6E880",
           "#FF97FF",
           "#FECB52"
          ],
          "font": {
           "color": "#2a3f5f"
          },
          "geo": {
           "bgcolor": "white",
           "lakecolor": "white",
           "landcolor": "#E5ECF6",
           "showlakes": true,
           "showland": true,
           "subunitcolor": "white"
          },
          "hoverlabel": {
           "align": "left"
          },
          "hovermode": "closest",
          "mapbox": {
           "style": "light"
          },
          "paper_bgcolor": "white",
          "plot_bgcolor": "#E5ECF6",
          "polar": {
           "angularaxis": {
            "gridcolor": "white",
            "linecolor": "white",
            "ticks": ""
           },
           "bgcolor": "#E5ECF6",
           "radialaxis": {
            "gridcolor": "white",
            "linecolor": "white",
            "ticks": ""
           }
          },
          "scene": {
           "xaxis": {
            "backgroundcolor": "#E5ECF6",
            "gridcolor": "white",
            "gridwidth": 2,
            "linecolor": "white",
            "showbackground": true,
            "ticks": "",
            "zerolinecolor": "white"
           },
           "yaxis": {
            "backgroundcolor": "#E5ECF6",
            "gridcolor": "white",
            "gridwidth": 2,
            "linecolor": "white",
            "showbackground": true,
            "ticks": "",
            "zerolinecolor": "white"
           },
           "zaxis": {
            "backgroundcolor": "#E5ECF6",
            "gridcolor": "white",
            "gridwidth": 2,
            "linecolor": "white",
            "showbackground": true,
            "ticks": "",
            "zerolinecolor": "white"
           }
          },
          "shapedefaults": {
           "line": {
            "color": "#2a3f5f"
           }
          },
          "ternary": {
           "aaxis": {
            "gridcolor": "white",
            "linecolor": "white",
            "ticks": ""
           },
           "baxis": {
            "gridcolor": "white",
            "linecolor": "white",
            "ticks": ""
           },
           "bgcolor": "#E5ECF6",
           "caxis": {
            "gridcolor": "white",
            "linecolor": "white",
            "ticks": ""
           }
          },
          "title": {
           "x": 0.05
          },
          "xaxis": {
           "automargin": true,
           "gridcolor": "white",
           "linecolor": "white",
           "ticks": "",
           "title": {
            "standoff": 15
           },
           "zerolinecolor": "white",
           "zerolinewidth": 2
          },
          "yaxis": {
           "automargin": true,
           "gridcolor": "white",
           "linecolor": "white",
           "ticks": "",
           "title": {
            "standoff": 15
           },
           "zerolinecolor": "white",
           "zerolinewidth": 2
          }
         }
        },
        "title": {
         "text": "Geometry View"
        },
        "xaxis": {
         "scaleanchor": "y",
         "scaleratio": 1
        }
       }
      }
     },
     "metadata": {},
     "output_type": "display_data"
    }
   ],
   "source": [
    "# We can translate,rotate,scale and mirror (see previous tutorials)\n",
    "\n",
    "# Layer selection\n",
    "# We can create a new group that only selects one or more layers\n",
    "gsel = base.select_layer(1)\n",
    "# or removes some layers\n",
    "gsel2 = base.deselect_layers([1])\n",
    "# Note that both require assignments, the original \"base\" is untouched\n",
    "\n",
    "# It might be interesting to calculate the bounding box:\n",
    "bb = base.bounding_box()\n",
    "rbox=bb.toRect() # rbox contains 1 rectangle size of the bounding box\n",
    "\n",
    "GeomViewPlotly(rbox+gsel+gsel2)\n"
   ]
  },
  {
   "cell_type": "code",
   "execution_count": 10,
   "metadata": {},
   "outputs": [
    {
     "data": {
      "application/vnd.plotly.v1+json": {
       "config": {
        "plotlyServerURL": "https://plot.ly"
       },
       "data": [
        {
         "fill": "toself",
         "line": {
          "color": "orange"
         },
         "type": "scatter",
         "x": [
          -1,
          1,
          1,
          -1,
          -1
         ],
         "y": [
          -5,
          -5,
          5,
          5,
          -5
         ]
        },
        {
         "fill": "toself",
         "line": {
          "color": "red"
         },
         "type": "scatter",
         "x": [
          5,
          4.98078528040323,
          4.923879532511287,
          4.831469612302545,
          4.707106781186548,
          4.555570233019602,
          4.38268343236509,
          4.195090322016128,
          4,
          3.804909677983872,
          3.6173165676349104,
          3.444429766980398,
          3.2928932188134525,
          3.1685303876974547,
          3.076120467488713,
          3.0192147195967696,
          3,
          3.0192147195967696,
          3.076120467488713,
          3.1685303876974547,
          3.292893218813452,
          3.444429766980398,
          3.6173165676349095,
          3.804909677983871,
          4,
          4.195090322016128,
          4.38268343236509,
          4.555570233019602,
          4.707106781186547,
          4.831469612302545,
          4.923879532511286,
          4.98078528040323,
          5
         ],
         "y": [
          5,
          5.195090322016128,
          5.38268343236509,
          5.555570233019602,
          5.707106781186548,
          5.831469612302545,
          5.923879532511287,
          5.98078528040323,
          6,
          5.98078528040323,
          5.923879532511287,
          5.831469612302545,
          5.707106781186548,
          5.555570233019602,
          5.38268343236509,
          5.195090322016129,
          5,
          4.804909677983872,
          4.61731656763491,
          4.444429766980398,
          4.292893218813452,
          4.168530387697455,
          4.076120467488714,
          4.01921471959677,
          4,
          4.01921471959677,
          4.076120467488713,
          4.168530387697454,
          4.292893218813452,
          4.444429766980398,
          4.6173165676349095,
          4.804909677983871,
          5
         ]
        },
        {
         "fill": "toself",
         "line": {
          "color": "orange"
         },
         "type": "scatter",
         "x": [
          27.009,
          26.951999999999998,
          26.78,
          26.5,
          26.128,
          25.675,
          25.154,
          24.586,
          24,
          23.414,
          22.846,
          22.325,
          21.872,
          21.766,
          17,
          17,
          23,
          23,
          23.414,
          24,
          24.586,
          25.154,
          25.675,
          26.128,
          26.5,
          26.78,
          26.951999999999998,
          27.009
         ],
         "y": [
          5,
          5.586,
          6.154,
          6.675,
          7.128,
          7.5,
          7.78,
          7.952,
          8.009,
          7.952,
          7.78,
          7.5,
          7.128,
          7,
          7,
          -7,
          -7,
          2.173,
          2.048,
          1.991,
          2.048,
          2.22,
          2.5,
          2.872,
          3.325,
          3.846,
          4.414,
          5
         ]
        },
        {
         "fill": "toself",
         "line": {
          "color": "orange"
         },
         "type": "scatter",
         "x": [
          -1,
          1,
          1,
          -1,
          -1
         ],
         "y": [
          -5,
          -5,
          5,
          5,
          -5
         ]
        },
        {
         "fill": "toself",
         "line": {
          "color": "red"
         },
         "type": "scatter",
         "x": [
          5,
          4.98078528040323,
          4.923879532511287,
          4.831469612302545,
          4.707106781186548,
          4.555570233019602,
          4.38268343236509,
          4.195090322016128,
          4,
          3.804909677983872,
          3.6173165676349104,
          3.444429766980398,
          3.2928932188134525,
          3.1685303876974547,
          3.076120467488713,
          3.0192147195967696,
          3,
          3.0192147195967696,
          3.076120467488713,
          3.1685303876974547,
          3.292893218813452,
          3.444429766980398,
          3.6173165676349095,
          3.804909677983871,
          4,
          4.195090322016128,
          4.38268343236509,
          4.555570233019602,
          4.707106781186547,
          4.831469612302545,
          4.923879532511286,
          4.98078528040323,
          5
         ],
         "y": [
          5,
          5.195090322016128,
          5.38268343236509,
          5.555570233019602,
          5.707106781186548,
          5.831469612302545,
          5.923879532511287,
          5.98078528040323,
          6,
          5.98078528040323,
          5.923879532511287,
          5.831469612302545,
          5.707106781186548,
          5.555570233019602,
          5.38268343236509,
          5.195090322016129,
          5,
          4.804909677983872,
          4.61731656763491,
          4.444429766980398,
          4.292893218813452,
          4.168530387697455,
          4.076120467488714,
          4.01921471959677,
          4,
          4.01921471959677,
          4.076120467488713,
          4.168530387697454,
          4.292893218813452,
          4.444429766980398,
          4.6173165676349095,
          4.804909677983871,
          5
         ]
        },
        {
         "fill": "toself",
         "line": {
          "color": "orange"
         },
         "type": "scatter",
         "x": [
          27.009,
          26.951999999999998,
          26.78,
          26.5,
          26.128,
          25.675,
          25.154,
          24.586,
          24,
          23.414,
          22.846,
          22.325,
          21.872,
          21.766,
          17,
          17,
          23,
          23,
          23.414,
          24,
          24.586,
          25.154,
          25.675,
          26.128,
          26.5,
          26.78,
          26.951999999999998,
          27.009
         ],
         "y": [
          5,
          5.586,
          6.154,
          6.675,
          7.128,
          7.5,
          7.78,
          7.952,
          8.009,
          7.952,
          7.78,
          7.5,
          7.128,
          7,
          7,
          -7,
          -7,
          2.173,
          2.048,
          1.991,
          2.048,
          2.22,
          2.5,
          2.872,
          3.325,
          3.846,
          4.414,
          5
         ]
        },
        {
         "fill": "toself",
         "line": {
          "color": "orange"
         },
         "type": "scatter",
         "x": [
          -1,
          1,
          1,
          -1,
          -1
         ],
         "y": [
          -5,
          -5,
          5,
          5,
          -5
         ]
        },
        {
         "fill": "toself",
         "line": {
          "color": "red"
         },
         "type": "scatter",
         "x": [
          5,
          4.98078528040323,
          4.923879532511287,
          4.831469612302545,
          4.707106781186548,
          4.555570233019602,
          4.38268343236509,
          4.195090322016128,
          4,
          3.804909677983872,
          3.6173165676349104,
          3.444429766980398,
          3.2928932188134525,
          3.1685303876974547,
          3.076120467488713,
          3.0192147195967696,
          3,
          3.0192147195967696,
          3.076120467488713,
          3.1685303876974547,
          3.292893218813452,
          3.444429766980398,
          3.6173165676349095,
          3.804909677983871,
          4,
          4.195090322016128,
          4.38268343236509,
          4.555570233019602,
          4.707106781186547,
          4.831469612302545,
          4.923879532511286,
          4.98078528040323,
          5
         ],
         "y": [
          5,
          5.195090322016128,
          5.38268343236509,
          5.555570233019602,
          5.707106781186548,
          5.831469612302545,
          5.923879532511287,
          5.98078528040323,
          6,
          5.98078528040323,
          5.923879532511287,
          5.831469612302545,
          5.707106781186548,
          5.555570233019602,
          5.38268343236509,
          5.195090322016129,
          5,
          4.804909677983872,
          4.61731656763491,
          4.444429766980398,
          4.292893218813452,
          4.168530387697455,
          4.076120467488714,
          4.01921471959677,
          4,
          4.01921471959677,
          4.076120467488713,
          4.168530387697454,
          4.292893218813452,
          4.444429766980398,
          4.6173165676349095,
          4.804909677983871,
          5
         ]
        },
        {
         "fill": "toself",
         "line": {
          "color": "orange"
         },
         "type": "scatter",
         "x": [
          27.009,
          26.951999999999998,
          26.78,
          26.5,
          26.128,
          25.675,
          25.154,
          24.586,
          24,
          23.414,
          22.846,
          22.325,
          21.872,
          21.766,
          17,
          17,
          23,
          23,
          23.414,
          24,
          24.586,
          25.154,
          25.675,
          26.128,
          26.5,
          26.78,
          26.951999999999998,
          27.009
         ],
         "y": [
          5,
          5.586,
          6.154,
          6.675,
          7.128,
          7.5,
          7.78,
          7.952,
          8.009,
          7.952,
          7.78,
          7.5,
          7.128,
          7,
          7,
          -7,
          -7,
          2.173,
          2.048,
          1.991,
          2.048,
          2.22,
          2.5,
          2.872,
          3.325,
          3.846,
          4.414,
          5
         ]
        }
       ],
       "layout": {
        "showlegend": false,
        "template": {
         "data": {
          "bar": [
           {
            "error_x": {
             "color": "#2a3f5f"
            },
            "error_y": {
             "color": "#2a3f5f"
            },
            "marker": {
             "line": {
              "color": "#E5ECF6",
              "width": 0.5
             },
             "pattern": {
              "fillmode": "overlay",
              "size": 10,
              "solidity": 0.2
             }
            },
            "type": "bar"
           }
          ],
          "barpolar": [
           {
            "marker": {
             "line": {
              "color": "#E5ECF6",
              "width": 0.5
             },
             "pattern": {
              "fillmode": "overlay",
              "size": 10,
              "solidity": 0.2
             }
            },
            "type": "barpolar"
           }
          ],
          "carpet": [
           {
            "aaxis": {
             "endlinecolor": "#2a3f5f",
             "gridcolor": "white",
             "linecolor": "white",
             "minorgridcolor": "white",
             "startlinecolor": "#2a3f5f"
            },
            "baxis": {
             "endlinecolor": "#2a3f5f",
             "gridcolor": "white",
             "linecolor": "white",
             "minorgridcolor": "white",
             "startlinecolor": "#2a3f5f"
            },
            "type": "carpet"
           }
          ],
          "choropleth": [
           {
            "colorbar": {
             "outlinewidth": 0,
             "ticks": ""
            },
            "type": "choropleth"
           }
          ],
          "contour": [
           {
            "colorbar": {
             "outlinewidth": 0,
             "ticks": ""
            },
            "colorscale": [
             [
              0,
              "#0d0887"
             ],
             [
              0.1111111111111111,
              "#46039f"
             ],
             [
              0.2222222222222222,
              "#7201a8"
             ],
             [
              0.3333333333333333,
              "#9c179e"
             ],
             [
              0.4444444444444444,
              "#bd3786"
             ],
             [
              0.5555555555555556,
              "#d8576b"
             ],
             [
              0.6666666666666666,
              "#ed7953"
             ],
             [
              0.7777777777777778,
              "#fb9f3a"
             ],
             [
              0.8888888888888888,
              "#fdca26"
             ],
             [
              1,
              "#f0f921"
             ]
            ],
            "type": "contour"
           }
          ],
          "contourcarpet": [
           {
            "colorbar": {
             "outlinewidth": 0,
             "ticks": ""
            },
            "type": "contourcarpet"
           }
          ],
          "heatmap": [
           {
            "colorbar": {
             "outlinewidth": 0,
             "ticks": ""
            },
            "colorscale": [
             [
              0,
              "#0d0887"
             ],
             [
              0.1111111111111111,
              "#46039f"
             ],
             [
              0.2222222222222222,
              "#7201a8"
             ],
             [
              0.3333333333333333,
              "#9c179e"
             ],
             [
              0.4444444444444444,
              "#bd3786"
             ],
             [
              0.5555555555555556,
              "#d8576b"
             ],
             [
              0.6666666666666666,
              "#ed7953"
             ],
             [
              0.7777777777777778,
              "#fb9f3a"
             ],
             [
              0.8888888888888888,
              "#fdca26"
             ],
             [
              1,
              "#f0f921"
             ]
            ],
            "type": "heatmap"
           }
          ],
          "heatmapgl": [
           {
            "colorbar": {
             "outlinewidth": 0,
             "ticks": ""
            },
            "colorscale": [
             [
              0,
              "#0d0887"
             ],
             [
              0.1111111111111111,
              "#46039f"
             ],
             [
              0.2222222222222222,
              "#7201a8"
             ],
             [
              0.3333333333333333,
              "#9c179e"
             ],
             [
              0.4444444444444444,
              "#bd3786"
             ],
             [
              0.5555555555555556,
              "#d8576b"
             ],
             [
              0.6666666666666666,
              "#ed7953"
             ],
             [
              0.7777777777777778,
              "#fb9f3a"
             ],
             [
              0.8888888888888888,
              "#fdca26"
             ],
             [
              1,
              "#f0f921"
             ]
            ],
            "type": "heatmapgl"
           }
          ],
          "histogram": [
           {
            "marker": {
             "pattern": {
              "fillmode": "overlay",
              "size": 10,
              "solidity": 0.2
             }
            },
            "type": "histogram"
           }
          ],
          "histogram2d": [
           {
            "colorbar": {
             "outlinewidth": 0,
             "ticks": ""
            },
            "colorscale": [
             [
              0,
              "#0d0887"
             ],
             [
              0.1111111111111111,
              "#46039f"
             ],
             [
              0.2222222222222222,
              "#7201a8"
             ],
             [
              0.3333333333333333,
              "#9c179e"
             ],
             [
              0.4444444444444444,
              "#bd3786"
             ],
             [
              0.5555555555555556,
              "#d8576b"
             ],
             [
              0.6666666666666666,
              "#ed7953"
             ],
             [
              0.7777777777777778,
              "#fb9f3a"
             ],
             [
              0.8888888888888888,
              "#fdca26"
             ],
             [
              1,
              "#f0f921"
             ]
            ],
            "type": "histogram2d"
           }
          ],
          "histogram2dcontour": [
           {
            "colorbar": {
             "outlinewidth": 0,
             "ticks": ""
            },
            "colorscale": [
             [
              0,
              "#0d0887"
             ],
             [
              0.1111111111111111,
              "#46039f"
             ],
             [
              0.2222222222222222,
              "#7201a8"
             ],
             [
              0.3333333333333333,
              "#9c179e"
             ],
             [
              0.4444444444444444,
              "#bd3786"
             ],
             [
              0.5555555555555556,
              "#d8576b"
             ],
             [
              0.6666666666666666,
              "#ed7953"
             ],
             [
              0.7777777777777778,
              "#fb9f3a"
             ],
             [
              0.8888888888888888,
              "#fdca26"
             ],
             [
              1,
              "#f0f921"
             ]
            ],
            "type": "histogram2dcontour"
           }
          ],
          "mesh3d": [
           {
            "colorbar": {
             "outlinewidth": 0,
             "ticks": ""
            },
            "type": "mesh3d"
           }
          ],
          "parcoords": [
           {
            "line": {
             "colorbar": {
              "outlinewidth": 0,
              "ticks": ""
             }
            },
            "type": "parcoords"
           }
          ],
          "pie": [
           {
            "automargin": true,
            "type": "pie"
           }
          ],
          "scatter": [
           {
            "fillpattern": {
             "fillmode": "overlay",
             "size": 10,
             "solidity": 0.2
            },
            "type": "scatter"
           }
          ],
          "scatter3d": [
           {
            "line": {
             "colorbar": {
              "outlinewidth": 0,
              "ticks": ""
             }
            },
            "marker": {
             "colorbar": {
              "outlinewidth": 0,
              "ticks": ""
             }
            },
            "type": "scatter3d"
           }
          ],
          "scattercarpet": [
           {
            "marker": {
             "colorbar": {
              "outlinewidth": 0,
              "ticks": ""
             }
            },
            "type": "scattercarpet"
           }
          ],
          "scattergeo": [
           {
            "marker": {
             "colorbar": {
              "outlinewidth": 0,
              "ticks": ""
             }
            },
            "type": "scattergeo"
           }
          ],
          "scattergl": [
           {
            "marker": {
             "colorbar": {
              "outlinewidth": 0,
              "ticks": ""
             }
            },
            "type": "scattergl"
           }
          ],
          "scattermapbox": [
           {
            "marker": {
             "colorbar": {
              "outlinewidth": 0,
              "ticks": ""
             }
            },
            "type": "scattermapbox"
           }
          ],
          "scatterpolar": [
           {
            "marker": {
             "colorbar": {
              "outlinewidth": 0,
              "ticks": ""
             }
            },
            "type": "scatterpolar"
           }
          ],
          "scatterpolargl": [
           {
            "marker": {
             "colorbar": {
              "outlinewidth": 0,
              "ticks": ""
             }
            },
            "type": "scatterpolargl"
           }
          ],
          "scatterternary": [
           {
            "marker": {
             "colorbar": {
              "outlinewidth": 0,
              "ticks": ""
             }
            },
            "type": "scatterternary"
           }
          ],
          "surface": [
           {
            "colorbar": {
             "outlinewidth": 0,
             "ticks": ""
            },
            "colorscale": [
             [
              0,
              "#0d0887"
             ],
             [
              0.1111111111111111,
              "#46039f"
             ],
             [
              0.2222222222222222,
              "#7201a8"
             ],
             [
              0.3333333333333333,
              "#9c179e"
             ],
             [
              0.4444444444444444,
              "#bd3786"
             ],
             [
              0.5555555555555556,
              "#d8576b"
             ],
             [
              0.6666666666666666,
              "#ed7953"
             ],
             [
              0.7777777777777778,
              "#fb9f3a"
             ],
             [
              0.8888888888888888,
              "#fdca26"
             ],
             [
              1,
              "#f0f921"
             ]
            ],
            "type": "surface"
           }
          ],
          "table": [
           {
            "cells": {
             "fill": {
              "color": "#EBF0F8"
             },
             "line": {
              "color": "white"
             }
            },
            "header": {
             "fill": {
              "color": "#C8D4E3"
             },
             "line": {
              "color": "white"
             }
            },
            "type": "table"
           }
          ]
         },
         "layout": {
          "annotationdefaults": {
           "arrowcolor": "#2a3f5f",
           "arrowhead": 0,
           "arrowwidth": 1
          },
          "autotypenumbers": "strict",
          "coloraxis": {
           "colorbar": {
            "outlinewidth": 0,
            "ticks": ""
           }
          },
          "colorscale": {
           "diverging": [
            [
             0,
             "#8e0152"
            ],
            [
             0.1,
             "#c51b7d"
            ],
            [
             0.2,
             "#de77ae"
            ],
            [
             0.3,
             "#f1b6da"
            ],
            [
             0.4,
             "#fde0ef"
            ],
            [
             0.5,
             "#f7f7f7"
            ],
            [
             0.6,
             "#e6f5d0"
            ],
            [
             0.7,
             "#b8e186"
            ],
            [
             0.8,
             "#7fbc41"
            ],
            [
             0.9,
             "#4d9221"
            ],
            [
             1,
             "#276419"
            ]
           ],
           "sequential": [
            [
             0,
             "#0d0887"
            ],
            [
             0.1111111111111111,
             "#46039f"
            ],
            [
             0.2222222222222222,
             "#7201a8"
            ],
            [
             0.3333333333333333,
             "#9c179e"
            ],
            [
             0.4444444444444444,
             "#bd3786"
            ],
            [
             0.5555555555555556,
             "#d8576b"
            ],
            [
             0.6666666666666666,
             "#ed7953"
            ],
            [
             0.7777777777777778,
             "#fb9f3a"
            ],
            [
             0.8888888888888888,
             "#fdca26"
            ],
            [
             1,
             "#f0f921"
            ]
           ],
           "sequentialminus": [
            [
             0,
             "#0d0887"
            ],
            [
             0.1111111111111111,
             "#46039f"
            ],
            [
             0.2222222222222222,
             "#7201a8"
            ],
            [
             0.3333333333333333,
             "#9c179e"
            ],
            [
             0.4444444444444444,
             "#bd3786"
            ],
            [
             0.5555555555555556,
             "#d8576b"
            ],
            [
             0.6666666666666666,
             "#ed7953"
            ],
            [
             0.7777777777777778,
             "#fb9f3a"
            ],
            [
             0.8888888888888888,
             "#fdca26"
            ],
            [
             1,
             "#f0f921"
            ]
           ]
          },
          "colorway": [
           "#636efa",
           "#EF553B",
           "#00cc96",
           "#ab63fa",
           "#FFA15A",
           "#19d3f3",
           "#FF6692",
           "#B6E880",
           "#FF97FF",
           "#FECB52"
          ],
          "font": {
           "color": "#2a3f5f"
          },
          "geo": {
           "bgcolor": "white",
           "lakecolor": "white",
           "landcolor": "#E5ECF6",
           "showlakes": true,
           "showland": true,
           "subunitcolor": "white"
          },
          "hoverlabel": {
           "align": "left"
          },
          "hovermode": "closest",
          "mapbox": {
           "style": "light"
          },
          "paper_bgcolor": "white",
          "plot_bgcolor": "#E5ECF6",
          "polar": {
           "angularaxis": {
            "gridcolor": "white",
            "linecolor": "white",
            "ticks": ""
           },
           "bgcolor": "#E5ECF6",
           "radialaxis": {
            "gridcolor": "white",
            "linecolor": "white",
            "ticks": ""
           }
          },
          "scene": {
           "xaxis": {
            "backgroundcolor": "#E5ECF6",
            "gridcolor": "white",
            "gridwidth": 2,
            "linecolor": "white",
            "showbackground": true,
            "ticks": "",
            "zerolinecolor": "white"
           },
           "yaxis": {
            "backgroundcolor": "#E5ECF6",
            "gridcolor": "white",
            "gridwidth": 2,
            "linecolor": "white",
            "showbackground": true,
            "ticks": "",
            "zerolinecolor": "white"
           },
           "zaxis": {
            "backgroundcolor": "#E5ECF6",
            "gridcolor": "white",
            "gridwidth": 2,
            "linecolor": "white",
            "showbackground": true,
            "ticks": "",
            "zerolinecolor": "white"
           }
          },
          "shapedefaults": {
           "line": {
            "color": "#2a3f5f"
           }
          },
          "ternary": {
           "aaxis": {
            "gridcolor": "white",
            "linecolor": "white",
            "ticks": ""
           },
           "baxis": {
            "gridcolor": "white",
            "linecolor": "white",
            "ticks": ""
           },
           "bgcolor": "#E5ECF6",
           "caxis": {
            "gridcolor": "white",
            "linecolor": "white",
            "ticks": ""
           }
          },
          "title": {
           "x": 0.05
          },
          "xaxis": {
           "automargin": true,
           "gridcolor": "white",
           "linecolor": "white",
           "ticks": "",
           "title": {
            "standoff": 15
           },
           "zerolinecolor": "white",
           "zerolinewidth": 2
          },
          "yaxis": {
           "automargin": true,
           "gridcolor": "white",
           "linecolor": "white",
           "ticks": "",
           "title": {
            "standoff": 15
           },
           "zerolinecolor": "white",
           "zerolinewidth": 2
          }
         }
        },
        "title": {
         "text": "Geometry View"
        },
        "xaxis": {
         "scaleanchor": "y",
         "scaleratio": 1
        }
       }
      }
     },
     "metadata": {},
     "output_type": "display_data"
    }
   ],
   "source": [
    "base.all_to_poly()\n",
    "# Adding base to geomE\n",
    "geomE+=base\n",
    "\n",
    "# RESIZING operations\n",
    "# You can resize polygon isotropically\n",
    "res1 = base.copy() # We keep base for later\n",
    "res1.set_layer(1) # put all in layer 1\n",
    "# The following bloats the polygons in layer 1 by 2 um in all directions, note that elements will merge\n",
    "# Use negative values to shrink\n",
    "res1.poly_resize(2.0, 1)\n",
    "res1.translate(20, 0)\n",
    "\n",
    "geomE+=res1 # adding the result to the main Geometry\n",
    "GeomViewPlotly(geomE)"
   ]
  },
  {
   "cell_type": "code",
   "execution_count": 12,
   "metadata": {},
   "outputs": [
    {
     "data": {
      "application/vnd.plotly.v1+json": {
       "config": {
        "plotlyServerURL": "https://plot.ly"
       },
       "data": [
        {
         "fill": "toself",
         "line": {
          "color": "orange"
         },
         "type": "scatter",
         "x": [
          -1,
          1,
          1,
          -1,
          -1
         ],
         "y": [
          -5,
          -5,
          5,
          5,
          -5
         ]
        },
        {
         "fill": "toself",
         "line": {
          "color": "red"
         },
         "type": "scatter",
         "x": [
          5,
          4.98078528040323,
          4.923879532511287,
          4.831469612302545,
          4.707106781186548,
          4.555570233019602,
          4.38268343236509,
          4.195090322016128,
          4,
          3.804909677983872,
          3.6173165676349104,
          3.444429766980398,
          3.2928932188134525,
          3.1685303876974547,
          3.076120467488713,
          3.0192147195967696,
          3,
          3.0192147195967696,
          3.076120467488713,
          3.1685303876974547,
          3.292893218813452,
          3.444429766980398,
          3.6173165676349095,
          3.804909677983871,
          4,
          4.195090322016128,
          4.38268343236509,
          4.555570233019602,
          4.707106781186547,
          4.831469612302545,
          4.923879532511286,
          4.98078528040323,
          5
         ],
         "y": [
          5,
          5.195090322016128,
          5.38268343236509,
          5.555570233019602,
          5.707106781186548,
          5.831469612302545,
          5.923879532511287,
          5.98078528040323,
          6,
          5.98078528040323,
          5.923879532511287,
          5.831469612302545,
          5.707106781186548,
          5.555570233019602,
          5.38268343236509,
          5.195090322016129,
          5,
          4.804909677983872,
          4.61731656763491,
          4.444429766980398,
          4.292893218813452,
          4.168530387697455,
          4.076120467488714,
          4.01921471959677,
          4,
          4.01921471959677,
          4.076120467488713,
          4.168530387697454,
          4.292893218813452,
          4.444429766980398,
          4.6173165676349095,
          4.804909677983871,
          5
         ]
        },
        {
         "fill": "toself",
         "line": {
          "color": "orange"
         },
         "type": "scatter",
         "x": [
          27.009,
          26.951999999999998,
          26.78,
          26.5,
          26.128,
          25.675,
          25.154,
          24.586,
          24,
          23.414,
          22.846,
          22.325,
          21.872,
          21.766,
          17,
          17,
          23,
          23,
          23.414,
          24,
          24.586,
          25.154,
          25.675,
          26.128,
          26.5,
          26.78,
          26.951999999999998,
          27.009
         ],
         "y": [
          5,
          5.586,
          6.154,
          6.675,
          7.128,
          7.5,
          7.78,
          7.952,
          8.009,
          7.952,
          7.78,
          7.5,
          7.128,
          7,
          7,
          -7,
          -7,
          2.173,
          2.048,
          1.991,
          2.048,
          2.22,
          2.5,
          2.872,
          3.325,
          3.846,
          4.414,
          5
         ]
        },
        {
         "fill": "toself",
         "line": {
          "color": "orange"
         },
         "type": "scatter",
         "x": [
          -1,
          1,
          1,
          -1,
          -1
         ],
         "y": [
          -5,
          -5,
          5,
          5,
          -5
         ]
        },
        {
         "fill": "toself",
         "line": {
          "color": "red"
         },
         "type": "scatter",
         "x": [
          5,
          4.98078528040323,
          4.923879532511287,
          4.831469612302545,
          4.707106781186548,
          4.555570233019602,
          4.38268343236509,
          4.195090322016128,
          4,
          3.804909677983872,
          3.6173165676349104,
          3.444429766980398,
          3.2928932188134525,
          3.1685303876974547,
          3.076120467488713,
          3.0192147195967696,
          3,
          3.0192147195967696,
          3.076120467488713,
          3.1685303876974547,
          3.292893218813452,
          3.444429766980398,
          3.6173165676349095,
          3.804909677983871,
          4,
          4.195090322016128,
          4.38268343236509,
          4.555570233019602,
          4.707106781186547,
          4.831469612302545,
          4.923879532511286,
          4.98078528040323,
          5
         ],
         "y": [
          5,
          5.195090322016128,
          5.38268343236509,
          5.555570233019602,
          5.707106781186548,
          5.831469612302545,
          5.923879532511287,
          5.98078528040323,
          6,
          5.98078528040323,
          5.923879532511287,
          5.831469612302545,
          5.707106781186548,
          5.555570233019602,
          5.38268343236509,
          5.195090322016129,
          5,
          4.804909677983872,
          4.61731656763491,
          4.444429766980398,
          4.292893218813452,
          4.168530387697455,
          4.076120467488714,
          4.01921471959677,
          4,
          4.01921471959677,
          4.076120467488713,
          4.168530387697454,
          4.292893218813452,
          4.444429766980398,
          4.6173165676349095,
          4.804909677983871,
          5
         ]
        },
        {
         "fill": "toself",
         "line": {
          "color": "orange"
         },
         "type": "scatter",
         "x": [
          27.009,
          26.951999999999998,
          26.78,
          26.5,
          26.128,
          25.675,
          25.154,
          24.586,
          24,
          23.414,
          22.846,
          22.325,
          21.872,
          21.766,
          17,
          17,
          23,
          23,
          23.414,
          24,
          24.586,
          25.154,
          25.675,
          26.128,
          26.5,
          26.78,
          26.951999999999998,
          27.009
         ],
         "y": [
          5,
          5.586,
          6.154,
          6.675,
          7.128,
          7.5,
          7.78,
          7.952,
          8.009,
          7.952,
          7.78,
          7.5,
          7.128,
          7,
          7,
          -7,
          -7,
          2.173,
          2.048,
          1.991,
          2.048,
          2.22,
          2.5,
          2.872,
          3.325,
          3.846,
          4.414,
          5
         ]
        },
        {
         "fill": "toself",
         "line": {
          "color": "orange"
         },
         "type": "scatter",
         "x": [
          -1,
          1,
          1,
          -1,
          -1
         ],
         "y": [
          -5,
          -5,
          5,
          5,
          -5
         ]
        },
        {
         "fill": "toself",
         "line": {
          "color": "red"
         },
         "type": "scatter",
         "x": [
          5,
          4.98078528040323,
          4.923879532511287,
          4.831469612302545,
          4.707106781186548,
          4.555570233019602,
          4.38268343236509,
          4.195090322016128,
          4,
          3.804909677983872,
          3.6173165676349104,
          3.444429766980398,
          3.2928932188134525,
          3.1685303876974547,
          3.076120467488713,
          3.0192147195967696,
          3,
          3.0192147195967696,
          3.076120467488713,
          3.1685303876974547,
          3.292893218813452,
          3.444429766980398,
          3.6173165676349095,
          3.804909677983871,
          4,
          4.195090322016128,
          4.38268343236509,
          4.555570233019602,
          4.707106781186547,
          4.831469612302545,
          4.923879532511286,
          4.98078528040323,
          5
         ],
         "y": [
          5,
          5.195090322016128,
          5.38268343236509,
          5.555570233019602,
          5.707106781186548,
          5.831469612302545,
          5.923879532511287,
          5.98078528040323,
          6,
          5.98078528040323,
          5.923879532511287,
          5.831469612302545,
          5.707106781186548,
          5.555570233019602,
          5.38268343236509,
          5.195090322016129,
          5,
          4.804909677983872,
          4.61731656763491,
          4.444429766980398,
          4.292893218813452,
          4.168530387697455,
          4.076120467488714,
          4.01921471959677,
          4,
          4.01921471959677,
          4.076120467488713,
          4.168530387697454,
          4.292893218813452,
          4.444429766980398,
          4.6173165676349095,
          4.804909677983871,
          5
         ]
        },
        {
         "fill": "toself",
         "line": {
          "color": "orange"
         },
         "type": "scatter",
         "x": [
          27.009,
          26.951999999999998,
          26.78,
          26.5,
          26.128,
          25.675,
          25.154,
          24.586,
          24,
          23.414,
          22.846,
          22.325,
          21.872,
          21.766,
          17,
          17,
          23,
          23,
          23.414,
          24,
          24.586,
          25.154,
          25.675,
          26.128,
          26.5,
          26.78,
          26.951999999999998,
          27.009
         ],
         "y": [
          5,
          5.586,
          6.154,
          6.675,
          7.128,
          7.5,
          7.78,
          7.952,
          8.009,
          7.952,
          7.78,
          7.5,
          7.128,
          7,
          7,
          -7,
          -7,
          2.173,
          2.048,
          1.991,
          2.048,
          2.22,
          2.5,
          2.872,
          3.325,
          3.846,
          4.414,
          5
         ]
        },
        {
         "fill": "toself",
         "line": {
          "color": "orange"
         },
         "type": "scatter",
         "x": [
          41.3,
          41,
          41,
          41,
          39,
          39,
          41,
          41,
          38.7,
          38.7,
          41.3,
          41.3
         ],
         "y": [
          5.3,
          5.3,
          5,
          -5,
          -5,
          5,
          5,
          5.3,
          5.3,
          -5.3,
          -5.3,
          5.3
         ]
        },
        {
         "fill": "toself",
         "line": {
          "color": "orange"
         },
         "type": "scatter",
         "x": [
          45.301,
          45.277,
          45.202,
          45.081,
          45,
          45,
          44.981,
          44.924,
          44.831,
          44.707,
          44.556,
          44.383,
          44.195,
          44,
          43.805,
          43.617,
          43.444,
          43.293,
          43.169,
          43.076,
          43.019,
          43,
          43.019,
          43.076,
          43.169,
          43.293,
          43.444,
          43.617,
          43.805,
          44,
          44.195,
          44.383,
          44.556,
          44.707,
          44.831,
          44.924,
          44.981,
          45,
          45,
          44.92,
          44.724000000000004,
          44.499,
          44.254,
          44,
          43.746,
          43.501,
          43.275999999999996,
          43.08,
          42.919,
          42.798,
          42.723,
          42.699,
          42.723,
          42.798,
          42.919,
          43.08,
          43.275999999999996,
          43.501,
          43.746,
          44,
          44.254,
          44.499,
          44.724000000000004,
          44.92,
          45.081,
          45.202,
          45.277,
          45.301
         ],
         "y": [
          5,
          5.254,
          5.499,
          5.724,
          5.822,
          5,
          4.805,
          4.617,
          4.444,
          4.293,
          4.169,
          4.076,
          4.019,
          4,
          4.019,
          4.076,
          4.169,
          4.293,
          4.444,
          4.617,
          4.805,
          5,
          5.195,
          5.383,
          5.556,
          5.707,
          5.831,
          5.924,
          5.981,
          6,
          5.981,
          5.924,
          5.831,
          5.707,
          5.556,
          5.383,
          5.195,
          5,
          5.822,
          5.92,
          6.081,
          6.202,
          6.277,
          6.301,
          6.277,
          6.202,
          6.081,
          5.92,
          5.724,
          5.499,
          5.254,
          5,
          4.746,
          4.501,
          4.276,
          4.08,
          3.919,
          3.798,
          3.723,
          3.699,
          3.723,
          3.798,
          3.919,
          4.08,
          4.276,
          4.501,
          4.746,
          5
         ]
        },
        {
         "fill": "toself",
         "line": {
          "color": "orange"
         },
         "type": "scatter",
         "x": [
          41.3,
          41,
          41,
          41,
          39,
          39,
          41,
          41,
          38.7,
          38.7,
          41.3,
          41.3
         ],
         "y": [
          5.3,
          5.3,
          5,
          -5,
          -5,
          5,
          5,
          5.3,
          5.3,
          -5.3,
          -5.3,
          5.3
         ]
        },
        {
         "fill": "toself",
         "line": {
          "color": "orange"
         },
         "type": "scatter",
         "x": [
          45.301,
          45.277,
          45.202,
          45.081,
          45,
          45,
          44.981,
          44.924,
          44.831,
          44.707,
          44.556,
          44.383,
          44.195,
          44,
          43.805,
          43.617,
          43.444,
          43.293,
          43.169,
          43.076,
          43.019,
          43,
          43.019,
          43.076,
          43.169,
          43.293,
          43.444,
          43.617,
          43.805,
          44,
          44.195,
          44.383,
          44.556,
          44.707,
          44.831,
          44.924,
          44.981,
          45,
          45,
          44.92,
          44.724000000000004,
          44.499,
          44.254,
          44,
          43.746,
          43.501,
          43.275999999999996,
          43.08,
          42.919,
          42.798,
          42.723,
          42.699,
          42.723,
          42.798,
          42.919,
          43.08,
          43.275999999999996,
          43.501,
          43.746,
          44,
          44.254,
          44.499,
          44.724000000000004,
          44.92,
          45.081,
          45.202,
          45.277,
          45.301
         ],
         "y": [
          5,
          5.254,
          5.499,
          5.724,
          5.822,
          5,
          4.805,
          4.617,
          4.444,
          4.293,
          4.169,
          4.076,
          4.019,
          4,
          4.019,
          4.076,
          4.169,
          4.293,
          4.444,
          4.617,
          4.805,
          5,
          5.195,
          5.383,
          5.556,
          5.707,
          5.831,
          5.924,
          5.981,
          6,
          5.981,
          5.924,
          5.831,
          5.707,
          5.556,
          5.383,
          5.195,
          5,
          5.822,
          5.92,
          6.081,
          6.202,
          6.277,
          6.301,
          6.277,
          6.202,
          6.081,
          5.92,
          5.724,
          5.499,
          5.254,
          5,
          4.746,
          4.501,
          4.276,
          4.08,
          3.919,
          3.798,
          3.723,
          3.699,
          3.723,
          3.798,
          3.919,
          4.08,
          4.276,
          4.501,
          4.746,
          5
         ]
        }
       ],
       "layout": {
        "showlegend": false,
        "template": {
         "data": {
          "bar": [
           {
            "error_x": {
             "color": "#2a3f5f"
            },
            "error_y": {
             "color": "#2a3f5f"
            },
            "marker": {
             "line": {
              "color": "#E5ECF6",
              "width": 0.5
             },
             "pattern": {
              "fillmode": "overlay",
              "size": 10,
              "solidity": 0.2
             }
            },
            "type": "bar"
           }
          ],
          "barpolar": [
           {
            "marker": {
             "line": {
              "color": "#E5ECF6",
              "width": 0.5
             },
             "pattern": {
              "fillmode": "overlay",
              "size": 10,
              "solidity": 0.2
             }
            },
            "type": "barpolar"
           }
          ],
          "carpet": [
           {
            "aaxis": {
             "endlinecolor": "#2a3f5f",
             "gridcolor": "white",
             "linecolor": "white",
             "minorgridcolor": "white",
             "startlinecolor": "#2a3f5f"
            },
            "baxis": {
             "endlinecolor": "#2a3f5f",
             "gridcolor": "white",
             "linecolor": "white",
             "minorgridcolor": "white",
             "startlinecolor": "#2a3f5f"
            },
            "type": "carpet"
           }
          ],
          "choropleth": [
           {
            "colorbar": {
             "outlinewidth": 0,
             "ticks": ""
            },
            "type": "choropleth"
           }
          ],
          "contour": [
           {
            "colorbar": {
             "outlinewidth": 0,
             "ticks": ""
            },
            "colorscale": [
             [
              0,
              "#0d0887"
             ],
             [
              0.1111111111111111,
              "#46039f"
             ],
             [
              0.2222222222222222,
              "#7201a8"
             ],
             [
              0.3333333333333333,
              "#9c179e"
             ],
             [
              0.4444444444444444,
              "#bd3786"
             ],
             [
              0.5555555555555556,
              "#d8576b"
             ],
             [
              0.6666666666666666,
              "#ed7953"
             ],
             [
              0.7777777777777778,
              "#fb9f3a"
             ],
             [
              0.8888888888888888,
              "#fdca26"
             ],
             [
              1,
              "#f0f921"
             ]
            ],
            "type": "contour"
           }
          ],
          "contourcarpet": [
           {
            "colorbar": {
             "outlinewidth": 0,
             "ticks": ""
            },
            "type": "contourcarpet"
           }
          ],
          "heatmap": [
           {
            "colorbar": {
             "outlinewidth": 0,
             "ticks": ""
            },
            "colorscale": [
             [
              0,
              "#0d0887"
             ],
             [
              0.1111111111111111,
              "#46039f"
             ],
             [
              0.2222222222222222,
              "#7201a8"
             ],
             [
              0.3333333333333333,
              "#9c179e"
             ],
             [
              0.4444444444444444,
              "#bd3786"
             ],
             [
              0.5555555555555556,
              "#d8576b"
             ],
             [
              0.6666666666666666,
              "#ed7953"
             ],
             [
              0.7777777777777778,
              "#fb9f3a"
             ],
             [
              0.8888888888888888,
              "#fdca26"
             ],
             [
              1,
              "#f0f921"
             ]
            ],
            "type": "heatmap"
           }
          ],
          "heatmapgl": [
           {
            "colorbar": {
             "outlinewidth": 0,
             "ticks": ""
            },
            "colorscale": [
             [
              0,
              "#0d0887"
             ],
             [
              0.1111111111111111,
              "#46039f"
             ],
             [
              0.2222222222222222,
              "#7201a8"
             ],
             [
              0.3333333333333333,
              "#9c179e"
             ],
             [
              0.4444444444444444,
              "#bd3786"
             ],
             [
              0.5555555555555556,
              "#d8576b"
             ],
             [
              0.6666666666666666,
              "#ed7953"
             ],
             [
              0.7777777777777778,
              "#fb9f3a"
             ],
             [
              0.8888888888888888,
              "#fdca26"
             ],
             [
              1,
              "#f0f921"
             ]
            ],
            "type": "heatmapgl"
           }
          ],
          "histogram": [
           {
            "marker": {
             "pattern": {
              "fillmode": "overlay",
              "size": 10,
              "solidity": 0.2
             }
            },
            "type": "histogram"
           }
          ],
          "histogram2d": [
           {
            "colorbar": {
             "outlinewidth": 0,
             "ticks": ""
            },
            "colorscale": [
             [
              0,
              "#0d0887"
             ],
             [
              0.1111111111111111,
              "#46039f"
             ],
             [
              0.2222222222222222,
              "#7201a8"
             ],
             [
              0.3333333333333333,
              "#9c179e"
             ],
             [
              0.4444444444444444,
              "#bd3786"
             ],
             [
              0.5555555555555556,
              "#d8576b"
             ],
             [
              0.6666666666666666,
              "#ed7953"
             ],
             [
              0.7777777777777778,
              "#fb9f3a"
             ],
             [
              0.8888888888888888,
              "#fdca26"
             ],
             [
              1,
              "#f0f921"
             ]
            ],
            "type": "histogram2d"
           }
          ],
          "histogram2dcontour": [
           {
            "colorbar": {
             "outlinewidth": 0,
             "ticks": ""
            },
            "colorscale": [
             [
              0,
              "#0d0887"
             ],
             [
              0.1111111111111111,
              "#46039f"
             ],
             [
              0.2222222222222222,
              "#7201a8"
             ],
             [
              0.3333333333333333,
              "#9c179e"
             ],
             [
              0.4444444444444444,
              "#bd3786"
             ],
             [
              0.5555555555555556,
              "#d8576b"
             ],
             [
              0.6666666666666666,
              "#ed7953"
             ],
             [
              0.7777777777777778,
              "#fb9f3a"
             ],
             [
              0.8888888888888888,
              "#fdca26"
             ],
             [
              1,
              "#f0f921"
             ]
            ],
            "type": "histogram2dcontour"
           }
          ],
          "mesh3d": [
           {
            "colorbar": {
             "outlinewidth": 0,
             "ticks": ""
            },
            "type": "mesh3d"
           }
          ],
          "parcoords": [
           {
            "line": {
             "colorbar": {
              "outlinewidth": 0,
              "ticks": ""
             }
            },
            "type": "parcoords"
           }
          ],
          "pie": [
           {
            "automargin": true,
            "type": "pie"
           }
          ],
          "scatter": [
           {
            "fillpattern": {
             "fillmode": "overlay",
             "size": 10,
             "solidity": 0.2
            },
            "type": "scatter"
           }
          ],
          "scatter3d": [
           {
            "line": {
             "colorbar": {
              "outlinewidth": 0,
              "ticks": ""
             }
            },
            "marker": {
             "colorbar": {
              "outlinewidth": 0,
              "ticks": ""
             }
            },
            "type": "scatter3d"
           }
          ],
          "scattercarpet": [
           {
            "marker": {
             "colorbar": {
              "outlinewidth": 0,
              "ticks": ""
             }
            },
            "type": "scattercarpet"
           }
          ],
          "scattergeo": [
           {
            "marker": {
             "colorbar": {
              "outlinewidth": 0,
              "ticks": ""
             }
            },
            "type": "scattergeo"
           }
          ],
          "scattergl": [
           {
            "marker": {
             "colorbar": {
              "outlinewidth": 0,
              "ticks": ""
             }
            },
            "type": "scattergl"
           }
          ],
          "scattermapbox": [
           {
            "marker": {
             "colorbar": {
              "outlinewidth": 0,
              "ticks": ""
             }
            },
            "type": "scattermapbox"
           }
          ],
          "scatterpolar": [
           {
            "marker": {
             "colorbar": {
              "outlinewidth": 0,
              "ticks": ""
             }
            },
            "type": "scatterpolar"
           }
          ],
          "scatterpolargl": [
           {
            "marker": {
             "colorbar": {
              "outlinewidth": 0,
              "ticks": ""
             }
            },
            "type": "scatterpolargl"
           }
          ],
          "scatterternary": [
           {
            "marker": {
             "colorbar": {
              "outlinewidth": 0,
              "ticks": ""
             }
            },
            "type": "scatterternary"
           }
          ],
          "surface": [
           {
            "colorbar": {
             "outlinewidth": 0,
             "ticks": ""
            },
            "colorscale": [
             [
              0,
              "#0d0887"
             ],
             [
              0.1111111111111111,
              "#46039f"
             ],
             [
              0.2222222222222222,
              "#7201a8"
             ],
             [
              0.3333333333333333,
              "#9c179e"
             ],
             [
              0.4444444444444444,
              "#bd3786"
             ],
             [
              0.5555555555555556,
              "#d8576b"
             ],
             [
              0.6666666666666666,
              "#ed7953"
             ],
             [
              0.7777777777777778,
              "#fb9f3a"
             ],
             [
              0.8888888888888888,
              "#fdca26"
             ],
             [
              1,
              "#f0f921"
             ]
            ],
            "type": "surface"
           }
          ],
          "table": [
           {
            "cells": {
             "fill": {
              "color": "#EBF0F8"
             },
             "line": {
              "color": "white"
             }
            },
            "header": {
             "fill": {
              "color": "#C8D4E3"
             },
             "line": {
              "color": "white"
             }
            },
            "type": "table"
           }
          ]
         },
         "layout": {
          "annotationdefaults": {
           "arrowcolor": "#2a3f5f",
           "arrowhead": 0,
           "arrowwidth": 1
          },
          "autotypenumbers": "strict",
          "coloraxis": {
           "colorbar": {
            "outlinewidth": 0,
            "ticks": ""
           }
          },
          "colorscale": {
           "diverging": [
            [
             0,
             "#8e0152"
            ],
            [
             0.1,
             "#c51b7d"
            ],
            [
             0.2,
             "#de77ae"
            ],
            [
             0.3,
             "#f1b6da"
            ],
            [
             0.4,
             "#fde0ef"
            ],
            [
             0.5,
             "#f7f7f7"
            ],
            [
             0.6,
             "#e6f5d0"
            ],
            [
             0.7,
             "#b8e186"
            ],
            [
             0.8,
             "#7fbc41"
            ],
            [
             0.9,
             "#4d9221"
            ],
            [
             1,
             "#276419"
            ]
           ],
           "sequential": [
            [
             0,
             "#0d0887"
            ],
            [
             0.1111111111111111,
             "#46039f"
            ],
            [
             0.2222222222222222,
             "#7201a8"
            ],
            [
             0.3333333333333333,
             "#9c179e"
            ],
            [
             0.4444444444444444,
             "#bd3786"
            ],
            [
             0.5555555555555556,
             "#d8576b"
            ],
            [
             0.6666666666666666,
             "#ed7953"
            ],
            [
             0.7777777777777778,
             "#fb9f3a"
            ],
            [
             0.8888888888888888,
             "#fdca26"
            ],
            [
             1,
             "#f0f921"
            ]
           ],
           "sequentialminus": [
            [
             0,
             "#0d0887"
            ],
            [
             0.1111111111111111,
             "#46039f"
            ],
            [
             0.2222222222222222,
             "#7201a8"
            ],
            [
             0.3333333333333333,
             "#9c179e"
            ],
            [
             0.4444444444444444,
             "#bd3786"
            ],
            [
             0.5555555555555556,
             "#d8576b"
            ],
            [
             0.6666666666666666,
             "#ed7953"
            ],
            [
             0.7777777777777778,
             "#fb9f3a"
            ],
            [
             0.8888888888888888,
             "#fdca26"
            ],
            [
             1,
             "#f0f921"
            ]
           ]
          },
          "colorway": [
           "#636efa",
           "#EF553B",
           "#00cc96",
           "#ab63fa",
           "#FFA15A",
           "#19d3f3",
           "#FF6692",
           "#B6E880",
           "#FF97FF",
           "#FECB52"
          ],
          "font": {
           "color": "#2a3f5f"
          },
          "geo": {
           "bgcolor": "white",
           "lakecolor": "white",
           "landcolor": "#E5ECF6",
           "showlakes": true,
           "showland": true,
           "subunitcolor": "white"
          },
          "hoverlabel": {
           "align": "left"
          },
          "hovermode": "closest",
          "mapbox": {
           "style": "light"
          },
          "paper_bgcolor": "white",
          "plot_bgcolor": "#E5ECF6",
          "polar": {
           "angularaxis": {
            "gridcolor": "white",
            "linecolor": "white",
            "ticks": ""
           },
           "bgcolor": "#E5ECF6",
           "radialaxis": {
            "gridcolor": "white",
            "linecolor": "white",
            "ticks": ""
           }
          },
          "scene": {
           "xaxis": {
            "backgroundcolor": "#E5ECF6",
            "gridcolor": "white",
            "gridwidth": 2,
            "linecolor": "white",
            "showbackground": true,
            "ticks": "",
            "zerolinecolor": "white"
           },
           "yaxis": {
            "backgroundcolor": "#E5ECF6",
            "gridcolor": "white",
            "gridwidth": 2,
            "linecolor": "white",
            "showbackground": true,
            "ticks": "",
            "zerolinecolor": "white"
           },
           "zaxis": {
            "backgroundcolor": "#E5ECF6",
            "gridcolor": "white",
            "gridwidth": 2,
            "linecolor": "white",
            "showbackground": true,
            "ticks": "",
            "zerolinecolor": "white"
           }
          },
          "shapedefaults": {
           "line": {
            "color": "#2a3f5f"
           }
          },
          "ternary": {
           "aaxis": {
            "gridcolor": "white",
            "linecolor": "white",
            "ticks": ""
           },
           "baxis": {
            "gridcolor": "white",
            "linecolor": "white",
            "ticks": ""
           },
           "bgcolor": "#E5ECF6",
           "caxis": {
            "gridcolor": "white",
            "linecolor": "white",
            "ticks": ""
           }
          },
          "title": {
           "x": 0.05
          },
          "xaxis": {
           "automargin": true,
           "gridcolor": "white",
           "linecolor": "white",
           "ticks": "",
           "title": {
            "standoff": 15
           },
           "zerolinecolor": "white",
           "zerolinewidth": 2
          },
          "yaxis": {
           "automargin": true,
           "gridcolor": "white",
           "linecolor": "white",
           "ticks": "",
           "title": {
            "standoff": 15
           },
           "zerolinecolor": "white",
           "zerolinewidth": 2
          }
         }
        },
        "title": {
         "text": "Geometry View"
        },
        "xaxis": {
         "scaleanchor": "y",
         "scaleratio": 1
        }
       }
      }
     },
     "metadata": {},
     "output_type": "display_data"
    }
   ],
   "source": [
    "# OUTLINING\n",
    "# You can make the outline of a shape:\n",
    "out1 = base.copy()\n",
    "out1.set_layer(1)\n",
    "# Creates an outline of the shape with width of 0.3 um\n",
    "out1.poly_outlining(0.3, 1)\n",
    "out1.translate(40, 0)\n",
    "geomE+=out1\n",
    "GeomViewPlotly(geomE)"
   ]
  },
  {
   "cell_type": "code",
   "execution_count": 13,
   "metadata": {},
   "outputs": [
    {
     "name": "stdout",
     "output_type": "stream",
     "text": [
      "Opened 03_Tutorial_GroupManipulation.gds\n",
      "Writing structure: CELL00\n",
      "Writing to GDS complete.\n"
     ]
    }
   ],
   "source": [
    "# Let's add all to main cell\n",
    "themask.addToMainCell(geomE)    \n",
    "\n",
    "# Export to GDS\n",
    "themask.exportGDS()\n"
   ]
  },
  {
   "cell_type": "markdown",
   "metadata": {},
   "source": [
    "#  Tutorial 4"
   ]
  },
  {
   "cell_type": "code",
   "execution_count": 32,
   "metadata": {},
   "outputs": [],
   "source": [
    "\"\"\"\n",
    "04_Tutorial_Boolean\n",
    "\"\"\"\n",
    "\n",
    "\n",
    "# In this tutorial we learn how to do boolean operations between groups of \n",
    "# polygons\n",
    "\n",
    "# Let's import basic stuff\n",
    "import samplemaker.layout as smlay # used for layout \n",
    "import samplemaker.makers as sm # used for drawing\n",
    "from samplemaker.plotly_viewers import GeomViewPlotly # used for\n",
    "\n",
    "\n",
    "# Create a simple mask layout\n",
    "themask = smlay.Mask(\"04_Tutorial_Boolean\")\n"
   ]
  },
  {
   "cell_type": "code",
   "execution_count": 33,
   "metadata": {},
   "outputs": [
    {
     "data": {
      "application/vnd.plotly.v1+json": {
       "config": {
        "plotlyServerURL": "https://plot.ly"
       },
       "data": [
        {
         "fill": "toself",
         "line": {
          "color": "orange"
         },
         "type": "scatter",
         "x": [
          -50,
          50,
          50,
          -50,
          -50
         ],
         "y": [
          -50,
          -50,
          50,
          50,
          -50
         ]
        },
        {
         "fill": "toself",
         "line": {
          "color": "orange"
         },
         "type": "scatter",
         "x": [
          -16.245008972987527,
          -13.839382851364086,
          -13.33951897775051,
          -13.433892856127068,
          -13.9195357873057,
          -18.825161908929143,
          -19.839382851364086,
          -22.245008972987527,
          -21.245008972987527,
          -19.348955099268675,
          -15.424454201969922,
          -15.348955099268675,
          -17.245008972987527,
          -16.245008972987527
         ],
         "y": [
          -16.30726353381774,
          -14.918374644928852,
          -14.035849718652678,
          -8.316833810841596,
          -7.475675579703529,
          -4.534437449670224,
          -4.526069799515588,
          -5.914958688404477,
          -7.647009495973354,
          -6.552322281583742,
          -8.905312785610386,
          -13.480525511859252,
          -14.575212726248862,
          -16.30726353381774
         ]
        },
        {
         "fill": "toself",
         "line": {
          "color": "orange"
         },
         "type": "scatter",
         "x": [
          -14.676170508391367,
          -16.342837175058037,
          -18.07488798262691,
          -16.408221315960244,
          -14.676170508391367
         ],
         "y": [
          -14.246793685588859,
          -11.36004233964073,
          -12.36004233964073,
          -15.246793685588859,
          -14.246793685588859
         ]
        },
        {
         "fill": "toself",
         "line": {
          "color": "orange"
         },
         "type": "scatter",
         "x": [
          -18.0095038417247,
          -19.67617050839137,
          -21.408221315960244,
          -19.741554649293576,
          -18.0095038417247
         ],
         "y": [
          -8.4732909936926,
          -5.586539647744471,
          -6.586539647744471,
          -9.4732909936926,
          -8.4732909936926
         ]
        },
        {
         "fill": "toself",
         "line": {
          "color": "orange"
         },
         "type": "scatter",
         "x": [
          -6.622504486493764,
          -1.8112522432468832,
          -2.8112522432468827,
          -7.622504486493764,
          -6.622504486493764
         ],
         "y": [
          -10.751707978262187,
          -7.97393020048441,
          -6.241879392915533,
          -9.019657170693309,
          -10.751707978262187
         ]
        },
        {
         "fill": "toself",
         "line": {
          "color": "orange"
         },
         "type": "scatter",
         "x": [
          -11.622504486493764,
          -6.811252243246882,
          -7.811252243246882,
          -12.622504486493764,
          -11.622504486493764
         ],
         "y": [
          -2.0914539404177996,
          0.6863238373599768,
          2.4183746449288543,
          -0.3594031328489221,
          -2.0914539404177996
         ]
        },
        {
         "fill": "toself",
         "line": {
          "color": "orange"
         },
         "type": "scatter",
         "x": [
          -3.850852961085883,
          -8.850852961085883,
          -10.582903768654761,
          -5.582903768654761,
          -3.850852961085883
         ],
         "y": [
          -7.996793685588859,
          0.6634603522555282,
          -0.33653964774447126,
          -8.996793685588859,
          -7.996793685588859
         ]
        },
        {
         "fill": "toself",
         "line": {
          "color": "orange"
         },
         "type": "scatter",
         "x": [
          3.3660254037844384,
          -1.1339745962155612,
          2.811252243246883,
          1.8112522432468834,
          -2.999999999999999,
          -3.3660254037844384,
          1.6339745962155607,
          3.3660254037844384
         ],
         "y": [
          -3.8301270189221936,
          3.964101615137755,
          6.241879392915533,
          7.97393020048441,
          5.196152422706632,
          3.830127018922194,
          -4.830127018922194,
          -3.8301270189221936
         ]
        },
        {
         "fill": "toself",
         "line": {
          "color": "orange"
         },
         "type": "scatter",
         "x": [
          -0.33333333333333304,
          3.275105849101826,
          2.275105849101826,
          -1.3333333333333326,
          -0.33333333333333304
         ],
         "y": [
          0.5773502691896254,
          2.660683602522957,
          4.392734410091834,
          2.309401076758503,
          0.5773502691896254
         ]
        },
        {
         "fill": "toself",
         "line": {
          "color": "orange"
         },
         "type": "scatter",
         "x": [
          12.9885298902782,
          8.4885298902782,
          12.433756729740644,
          11.433756729740644,
          6.622504486493761,
          6.256479082709321,
          11.25647908270932,
          12.9885298902782
         ],
         "y": [
          1.7254285366333588,
          9.519657170693307,
          11.797434948471084,
          13.529485756039962,
          10.751707978262186,
          9.385682574477746,
          0.7254285366333593,
          1.7254285366333588
         ]
        },
        {
         "fill": "toself",
         "line": {
          "color": "orange"
         },
         "type": "scatter",
         "x": [
          9.289171153160428,
          12.897610335595587,
          11.897610335595587,
          8.289171153160428,
          9.289171153160428
         ],
         "y": [
          6.132905824745179,
          8.21623915807851,
          9.948289965647389,
          7.864956632314056,
          6.132905824745179
         ]
        }
       ],
       "layout": {
        "showlegend": false,
        "template": {
         "data": {
          "bar": [
           {
            "error_x": {
             "color": "#2a3f5f"
            },
            "error_y": {
             "color": "#2a3f5f"
            },
            "marker": {
             "line": {
              "color": "#E5ECF6",
              "width": 0.5
             },
             "pattern": {
              "fillmode": "overlay",
              "size": 10,
              "solidity": 0.2
             }
            },
            "type": "bar"
           }
          ],
          "barpolar": [
           {
            "marker": {
             "line": {
              "color": "#E5ECF6",
              "width": 0.5
             },
             "pattern": {
              "fillmode": "overlay",
              "size": 10,
              "solidity": 0.2
             }
            },
            "type": "barpolar"
           }
          ],
          "carpet": [
           {
            "aaxis": {
             "endlinecolor": "#2a3f5f",
             "gridcolor": "white",
             "linecolor": "white",
             "minorgridcolor": "white",
             "startlinecolor": "#2a3f5f"
            },
            "baxis": {
             "endlinecolor": "#2a3f5f",
             "gridcolor": "white",
             "linecolor": "white",
             "minorgridcolor": "white",
             "startlinecolor": "#2a3f5f"
            },
            "type": "carpet"
           }
          ],
          "choropleth": [
           {
            "colorbar": {
             "outlinewidth": 0,
             "ticks": ""
            },
            "type": "choropleth"
           }
          ],
          "contour": [
           {
            "colorbar": {
             "outlinewidth": 0,
             "ticks": ""
            },
            "colorscale": [
             [
              0,
              "#0d0887"
             ],
             [
              0.1111111111111111,
              "#46039f"
             ],
             [
              0.2222222222222222,
              "#7201a8"
             ],
             [
              0.3333333333333333,
              "#9c179e"
             ],
             [
              0.4444444444444444,
              "#bd3786"
             ],
             [
              0.5555555555555556,
              "#d8576b"
             ],
             [
              0.6666666666666666,
              "#ed7953"
             ],
             [
              0.7777777777777778,
              "#fb9f3a"
             ],
             [
              0.8888888888888888,
              "#fdca26"
             ],
             [
              1,
              "#f0f921"
             ]
            ],
            "type": "contour"
           }
          ],
          "contourcarpet": [
           {
            "colorbar": {
             "outlinewidth": 0,
             "ticks": ""
            },
            "type": "contourcarpet"
           }
          ],
          "heatmap": [
           {
            "colorbar": {
             "outlinewidth": 0,
             "ticks": ""
            },
            "colorscale": [
             [
              0,
              "#0d0887"
             ],
             [
              0.1111111111111111,
              "#46039f"
             ],
             [
              0.2222222222222222,
              "#7201a8"
             ],
             [
              0.3333333333333333,
              "#9c179e"
             ],
             [
              0.4444444444444444,
              "#bd3786"
             ],
             [
              0.5555555555555556,
              "#d8576b"
             ],
             [
              0.6666666666666666,
              "#ed7953"
             ],
             [
              0.7777777777777778,
              "#fb9f3a"
             ],
             [
              0.8888888888888888,
              "#fdca26"
             ],
             [
              1,
              "#f0f921"
             ]
            ],
            "type": "heatmap"
           }
          ],
          "heatmapgl": [
           {
            "colorbar": {
             "outlinewidth": 0,
             "ticks": ""
            },
            "colorscale": [
             [
              0,
              "#0d0887"
             ],
             [
              0.1111111111111111,
              "#46039f"
             ],
             [
              0.2222222222222222,
              "#7201a8"
             ],
             [
              0.3333333333333333,
              "#9c179e"
             ],
             [
              0.4444444444444444,
              "#bd3786"
             ],
             [
              0.5555555555555556,
              "#d8576b"
             ],
             [
              0.6666666666666666,
              "#ed7953"
             ],
             [
              0.7777777777777778,
              "#fb9f3a"
             ],
             [
              0.8888888888888888,
              "#fdca26"
             ],
             [
              1,
              "#f0f921"
             ]
            ],
            "type": "heatmapgl"
           }
          ],
          "histogram": [
           {
            "marker": {
             "pattern": {
              "fillmode": "overlay",
              "size": 10,
              "solidity": 0.2
             }
            },
            "type": "histogram"
           }
          ],
          "histogram2d": [
           {
            "colorbar": {
             "outlinewidth": 0,
             "ticks": ""
            },
            "colorscale": [
             [
              0,
              "#0d0887"
             ],
             [
              0.1111111111111111,
              "#46039f"
             ],
             [
              0.2222222222222222,
              "#7201a8"
             ],
             [
              0.3333333333333333,
              "#9c179e"
             ],
             [
              0.4444444444444444,
              "#bd3786"
             ],
             [
              0.5555555555555556,
              "#d8576b"
             ],
             [
              0.6666666666666666,
              "#ed7953"
             ],
             [
              0.7777777777777778,
              "#fb9f3a"
             ],
             [
              0.8888888888888888,
              "#fdca26"
             ],
             [
              1,
              "#f0f921"
             ]
            ],
            "type": "histogram2d"
           }
          ],
          "histogram2dcontour": [
           {
            "colorbar": {
             "outlinewidth": 0,
             "ticks": ""
            },
            "colorscale": [
             [
              0,
              "#0d0887"
             ],
             [
              0.1111111111111111,
              "#46039f"
             ],
             [
              0.2222222222222222,
              "#7201a8"
             ],
             [
              0.3333333333333333,
              "#9c179e"
             ],
             [
              0.4444444444444444,
              "#bd3786"
             ],
             [
              0.5555555555555556,
              "#d8576b"
             ],
             [
              0.6666666666666666,
              "#ed7953"
             ],
             [
              0.7777777777777778,
              "#fb9f3a"
             ],
             [
              0.8888888888888888,
              "#fdca26"
             ],
             [
              1,
              "#f0f921"
             ]
            ],
            "type": "histogram2dcontour"
           }
          ],
          "mesh3d": [
           {
            "colorbar": {
             "outlinewidth": 0,
             "ticks": ""
            },
            "type": "mesh3d"
           }
          ],
          "parcoords": [
           {
            "line": {
             "colorbar": {
              "outlinewidth": 0,
              "ticks": ""
             }
            },
            "type": "parcoords"
           }
          ],
          "pie": [
           {
            "automargin": true,
            "type": "pie"
           }
          ],
          "scatter": [
           {
            "fillpattern": {
             "fillmode": "overlay",
             "size": 10,
             "solidity": 0.2
            },
            "type": "scatter"
           }
          ],
          "scatter3d": [
           {
            "line": {
             "colorbar": {
              "outlinewidth": 0,
              "ticks": ""
             }
            },
            "marker": {
             "colorbar": {
              "outlinewidth": 0,
              "ticks": ""
             }
            },
            "type": "scatter3d"
           }
          ],
          "scattercarpet": [
           {
            "marker": {
             "colorbar": {
              "outlinewidth": 0,
              "ticks": ""
             }
            },
            "type": "scattercarpet"
           }
          ],
          "scattergeo": [
           {
            "marker": {
             "colorbar": {
              "outlinewidth": 0,
              "ticks": ""
             }
            },
            "type": "scattergeo"
           }
          ],
          "scattergl": [
           {
            "marker": {
             "colorbar": {
              "outlinewidth": 0,
              "ticks": ""
             }
            },
            "type": "scattergl"
           }
          ],
          "scattermapbox": [
           {
            "marker": {
             "colorbar": {
              "outlinewidth": 0,
              "ticks": ""
             }
            },
            "type": "scattermapbox"
           }
          ],
          "scatterpolar": [
           {
            "marker": {
             "colorbar": {
              "outlinewidth": 0,
              "ticks": ""
             }
            },
            "type": "scatterpolar"
           }
          ],
          "scatterpolargl": [
           {
            "marker": {
             "colorbar": {
              "outlinewidth": 0,
              "ticks": ""
             }
            },
            "type": "scatterpolargl"
           }
          ],
          "scatterternary": [
           {
            "marker": {
             "colorbar": {
              "outlinewidth": 0,
              "ticks": ""
             }
            },
            "type": "scatterternary"
           }
          ],
          "surface": [
           {
            "colorbar": {
             "outlinewidth": 0,
             "ticks": ""
            },
            "colorscale": [
             [
              0,
              "#0d0887"
             ],
             [
              0.1111111111111111,
              "#46039f"
             ],
             [
              0.2222222222222222,
              "#7201a8"
             ],
             [
              0.3333333333333333,
              "#9c179e"
             ],
             [
              0.4444444444444444,
              "#bd3786"
             ],
             [
              0.5555555555555556,
              "#d8576b"
             ],
             [
              0.6666666666666666,
              "#ed7953"
             ],
             [
              0.7777777777777778,
              "#fb9f3a"
             ],
             [
              0.8888888888888888,
              "#fdca26"
             ],
             [
              1,
              "#f0f921"
             ]
            ],
            "type": "surface"
           }
          ],
          "table": [
           {
            "cells": {
             "fill": {
              "color": "#EBF0F8"
             },
             "line": {
              "color": "white"
             }
            },
            "header": {
             "fill": {
              "color": "#C8D4E3"
             },
             "line": {
              "color": "white"
             }
            },
            "type": "table"
           }
          ]
         },
         "layout": {
          "annotationdefaults": {
           "arrowcolor": "#2a3f5f",
           "arrowhead": 0,
           "arrowwidth": 1
          },
          "autotypenumbers": "strict",
          "coloraxis": {
           "colorbar": {
            "outlinewidth": 0,
            "ticks": ""
           }
          },
          "colorscale": {
           "diverging": [
            [
             0,
             "#8e0152"
            ],
            [
             0.1,
             "#c51b7d"
            ],
            [
             0.2,
             "#de77ae"
            ],
            [
             0.3,
             "#f1b6da"
            ],
            [
             0.4,
             "#fde0ef"
            ],
            [
             0.5,
             "#f7f7f7"
            ],
            [
             0.6,
             "#e6f5d0"
            ],
            [
             0.7,
             "#b8e186"
            ],
            [
             0.8,
             "#7fbc41"
            ],
            [
             0.9,
             "#4d9221"
            ],
            [
             1,
             "#276419"
            ]
           ],
           "sequential": [
            [
             0,
             "#0d0887"
            ],
            [
             0.1111111111111111,
             "#46039f"
            ],
            [
             0.2222222222222222,
             "#7201a8"
            ],
            [
             0.3333333333333333,
             "#9c179e"
            ],
            [
             0.4444444444444444,
             "#bd3786"
            ],
            [
             0.5555555555555556,
             "#d8576b"
            ],
            [
             0.6666666666666666,
             "#ed7953"
            ],
            [
             0.7777777777777778,
             "#fb9f3a"
            ],
            [
             0.8888888888888888,
             "#fdca26"
            ],
            [
             1,
             "#f0f921"
            ]
           ],
           "sequentialminus": [
            [
             0,
             "#0d0887"
            ],
            [
             0.1111111111111111,
             "#46039f"
            ],
            [
             0.2222222222222222,
             "#7201a8"
            ],
            [
             0.3333333333333333,
             "#9c179e"
            ],
            [
             0.4444444444444444,
             "#bd3786"
            ],
            [
             0.5555555555555556,
             "#d8576b"
            ],
            [
             0.6666666666666666,
             "#ed7953"
            ],
            [
             0.7777777777777778,
             "#fb9f3a"
            ],
            [
             0.8888888888888888,
             "#fdca26"
            ],
            [
             1,
             "#f0f921"
            ]
           ]
          },
          "colorway": [
           "#636efa",
           "#EF553B",
           "#00cc96",
           "#ab63fa",
           "#FFA15A",
           "#19d3f3",
           "#FF6692",
           "#B6E880",
           "#FF97FF",
           "#FECB52"
          ],
          "font": {
           "color": "#2a3f5f"
          },
          "geo": {
           "bgcolor": "white",
           "lakecolor": "white",
           "landcolor": "#E5ECF6",
           "showlakes": true,
           "showland": true,
           "subunitcolor": "white"
          },
          "hoverlabel": {
           "align": "left"
          },
          "hovermode": "closest",
          "mapbox": {
           "style": "light"
          },
          "paper_bgcolor": "white",
          "plot_bgcolor": "#E5ECF6",
          "polar": {
           "angularaxis": {
            "gridcolor": "white",
            "linecolor": "white",
            "ticks": ""
           },
           "bgcolor": "#E5ECF6",
           "radialaxis": {
            "gridcolor": "white",
            "linecolor": "white",
            "ticks": ""
           }
          },
          "scene": {
           "xaxis": {
            "backgroundcolor": "#E5ECF6",
            "gridcolor": "white",
            "gridwidth": 2,
            "linecolor": "white",
            "showbackground": true,
            "ticks": "",
            "zerolinecolor": "white"
           },
           "yaxis": {
            "backgroundcolor": "#E5ECF6",
            "gridcolor": "white",
            "gridwidth": 2,
            "linecolor": "white",
            "showbackground": true,
            "ticks": "",
            "zerolinecolor": "white"
           },
           "zaxis": {
            "backgroundcolor": "#E5ECF6",
            "gridcolor": "white",
            "gridwidth": 2,
            "linecolor": "white",
            "showbackground": true,
            "ticks": "",
            "zerolinecolor": "white"
           }
          },
          "shapedefaults": {
           "line": {
            "color": "#2a3f5f"
           }
          },
          "ternary": {
           "aaxis": {
            "gridcolor": "white",
            "linecolor": "white",
            "ticks": ""
           },
           "baxis": {
            "gridcolor": "white",
            "linecolor": "white",
            "ticks": ""
           },
           "bgcolor": "#E5ECF6",
           "caxis": {
            "gridcolor": "white",
            "linecolor": "white",
            "ticks": ""
           }
          },
          "title": {
           "x": 0.05
          },
          "xaxis": {
           "automargin": true,
           "gridcolor": "white",
           "linecolor": "white",
           "ticks": "",
           "title": {
            "standoff": 15
           },
           "zerolinecolor": "white",
           "zerolinewidth": 2
          },
          "yaxis": {
           "automargin": true,
           "gridcolor": "white",
           "linecolor": "white",
           "ticks": "",
           "title": {
            "standoff": 15
           },
           "zerolinecolor": "white",
           "zerolinewidth": 2
          }
         }
        },
        "title": {
         "text": "Geometry View"
        },
        "xaxis": {
         "scaleanchor": "y",
         "scaleratio": 1
        }
       }
      }
     },
     "metadata": {},
     "output_type": "display_data"
    }
   ],
   "source": [
    "# Empty geometry\n",
    "geomE = sm.GeomGroup()\n",
    "\n",
    "# Let's make a large box\n",
    "box0 = sm.make_rect(0,0,100,100,layer=1)\n",
    "\n",
    "# And some text, because text is complex polygons!\n",
    "text0 = sm.make_text(0, 0, \"DIFF\", 10, 2,angle=30,to_poly=True,layer=1)\n",
    "\n",
    "GeomViewPlotly(box0+text0+ geomE)"
   ]
  },
  {
   "cell_type": "code",
   "execution_count": 34,
   "metadata": {},
   "outputs": [
    {
     "data": {
      "application/vnd.plotly.v1+json": {
       "config": {
        "plotlyServerURL": "https://plot.ly"
       },
       "data": [
        {
         "fill": "toself",
         "line": {
          "color": "orange"
         },
         "type": "scatter",
         "x": [
          50,
          12.989,
          12.989,
          11.256,
          6.256,
          6.623,
          11.434,
          12.434,
          8.489,
          9.155,
          11.898,
          12.898,
          10.155,
          12.989,
          12.989,
          3.366,
          3.366,
          1.634,
          -1.811,
          -1.811,
          -6.623,
          -7.623,
          -6.084,
          -10.084,
          -11.623,
          -12.623,
          -7.811,
          -6.811,
          -8.352,
          -4.351,
          -2.811,
          -1.811,
          -1.811,
          -3.366,
          -3,
          1.811,
          2.811,
          -1.134,
          -0.468,
          2.275,
          3.275,
          0.532,
          3.366,
          3.366,
          -13.34,
          -13.34,
          -13.839,
          -16.245,
          -17.245,
          -16.909,
          -18.075,
          -16.343,
          -15.356,
          -15.424,
          -18.998,
          -18.01,
          -19.742,
          -20.909,
          -21.245,
          -22.245,
          -19.839,
          -18.825,
          -13.92,
          -13.434,
          -13.34,
          -13.34,
          -50,
          -50,
          50,
          50
         ],
         "y": [
          50,
          50,
          1.725,
          0.725,
          9.386,
          10.752,
          13.529,
          11.797,
          9.52,
          8.365,
          9.948,
          8.216,
          6.633,
          1.725,
          50,
          50,
          -3.83,
          -4.83,
          1.136,
          -7.974,
          -10.752,
          -9.02,
          -8.131,
          -1.203,
          -2.091,
          -0.359,
          2.418,
          0.686,
          -0.203,
          -7.132,
          -6.242,
          -7.974,
          1.136,
          3.83,
          5.196,
          7.974,
          6.242,
          3.964,
          2.809,
          4.393,
          2.661,
          1.077,
          -3.83,
          50,
          50,
          -14.036,
          -14.918,
          -16.307,
          -14.575,
          -14.381,
          -12.36,
          -11.36,
          -13.07,
          -8.905,
          -6.763,
          -8.473,
          -9.473,
          -7.453,
          -7.647,
          -5.915,
          -4.526,
          -4.534,
          -7.476,
          -8.317,
          -14.036,
          50,
          50,
          -50,
          -50,
          50
         ]
        }
       ],
       "layout": {
        "showlegend": false,
        "template": {
         "data": {
          "bar": [
           {
            "error_x": {
             "color": "#2a3f5f"
            },
            "error_y": {
             "color": "#2a3f5f"
            },
            "marker": {
             "line": {
              "color": "#E5ECF6",
              "width": 0.5
             },
             "pattern": {
              "fillmode": "overlay",
              "size": 10,
              "solidity": 0.2
             }
            },
            "type": "bar"
           }
          ],
          "barpolar": [
           {
            "marker": {
             "line": {
              "color": "#E5ECF6",
              "width": 0.5
             },
             "pattern": {
              "fillmode": "overlay",
              "size": 10,
              "solidity": 0.2
             }
            },
            "type": "barpolar"
           }
          ],
          "carpet": [
           {
            "aaxis": {
             "endlinecolor": "#2a3f5f",
             "gridcolor": "white",
             "linecolor": "white",
             "minorgridcolor": "white",
             "startlinecolor": "#2a3f5f"
            },
            "baxis": {
             "endlinecolor": "#2a3f5f",
             "gridcolor": "white",
             "linecolor": "white",
             "minorgridcolor": "white",
             "startlinecolor": "#2a3f5f"
            },
            "type": "carpet"
           }
          ],
          "choropleth": [
           {
            "colorbar": {
             "outlinewidth": 0,
             "ticks": ""
            },
            "type": "choropleth"
           }
          ],
          "contour": [
           {
            "colorbar": {
             "outlinewidth": 0,
             "ticks": ""
            },
            "colorscale": [
             [
              0,
              "#0d0887"
             ],
             [
              0.1111111111111111,
              "#46039f"
             ],
             [
              0.2222222222222222,
              "#7201a8"
             ],
             [
              0.3333333333333333,
              "#9c179e"
             ],
             [
              0.4444444444444444,
              "#bd3786"
             ],
             [
              0.5555555555555556,
              "#d8576b"
             ],
             [
              0.6666666666666666,
              "#ed7953"
             ],
             [
              0.7777777777777778,
              "#fb9f3a"
             ],
             [
              0.8888888888888888,
              "#fdca26"
             ],
             [
              1,
              "#f0f921"
             ]
            ],
            "type": "contour"
           }
          ],
          "contourcarpet": [
           {
            "colorbar": {
             "outlinewidth": 0,
             "ticks": ""
            },
            "type": "contourcarpet"
           }
          ],
          "heatmap": [
           {
            "colorbar": {
             "outlinewidth": 0,
             "ticks": ""
            },
            "colorscale": [
             [
              0,
              "#0d0887"
             ],
             [
              0.1111111111111111,
              "#46039f"
             ],
             [
              0.2222222222222222,
              "#7201a8"
             ],
             [
              0.3333333333333333,
              "#9c179e"
             ],
             [
              0.4444444444444444,
              "#bd3786"
             ],
             [
              0.5555555555555556,
              "#d8576b"
             ],
             [
              0.6666666666666666,
              "#ed7953"
             ],
             [
              0.7777777777777778,
              "#fb9f3a"
             ],
             [
              0.8888888888888888,
              "#fdca26"
             ],
             [
              1,
              "#f0f921"
             ]
            ],
            "type": "heatmap"
           }
          ],
          "heatmapgl": [
           {
            "colorbar": {
             "outlinewidth": 0,
             "ticks": ""
            },
            "colorscale": [
             [
              0,
              "#0d0887"
             ],
             [
              0.1111111111111111,
              "#46039f"
             ],
             [
              0.2222222222222222,
              "#7201a8"
             ],
             [
              0.3333333333333333,
              "#9c179e"
             ],
             [
              0.4444444444444444,
              "#bd3786"
             ],
             [
              0.5555555555555556,
              "#d8576b"
             ],
             [
              0.6666666666666666,
              "#ed7953"
             ],
             [
              0.7777777777777778,
              "#fb9f3a"
             ],
             [
              0.8888888888888888,
              "#fdca26"
             ],
             [
              1,
              "#f0f921"
             ]
            ],
            "type": "heatmapgl"
           }
          ],
          "histogram": [
           {
            "marker": {
             "pattern": {
              "fillmode": "overlay",
              "size": 10,
              "solidity": 0.2
             }
            },
            "type": "histogram"
           }
          ],
          "histogram2d": [
           {
            "colorbar": {
             "outlinewidth": 0,
             "ticks": ""
            },
            "colorscale": [
             [
              0,
              "#0d0887"
             ],
             [
              0.1111111111111111,
              "#46039f"
             ],
             [
              0.2222222222222222,
              "#7201a8"
             ],
             [
              0.3333333333333333,
              "#9c179e"
             ],
             [
              0.4444444444444444,
              "#bd3786"
             ],
             [
              0.5555555555555556,
              "#d8576b"
             ],
             [
              0.6666666666666666,
              "#ed7953"
             ],
             [
              0.7777777777777778,
              "#fb9f3a"
             ],
             [
              0.8888888888888888,
              "#fdca26"
             ],
             [
              1,
              "#f0f921"
             ]
            ],
            "type": "histogram2d"
           }
          ],
          "histogram2dcontour": [
           {
            "colorbar": {
             "outlinewidth": 0,
             "ticks": ""
            },
            "colorscale": [
             [
              0,
              "#0d0887"
             ],
             [
              0.1111111111111111,
              "#46039f"
             ],
             [
              0.2222222222222222,
              "#7201a8"
             ],
             [
              0.3333333333333333,
              "#9c179e"
             ],
             [
              0.4444444444444444,
              "#bd3786"
             ],
             [
              0.5555555555555556,
              "#d8576b"
             ],
             [
              0.6666666666666666,
              "#ed7953"
             ],
             [
              0.7777777777777778,
              "#fb9f3a"
             ],
             [
              0.8888888888888888,
              "#fdca26"
             ],
             [
              1,
              "#f0f921"
             ]
            ],
            "type": "histogram2dcontour"
           }
          ],
          "mesh3d": [
           {
            "colorbar": {
             "outlinewidth": 0,
             "ticks": ""
            },
            "type": "mesh3d"
           }
          ],
          "parcoords": [
           {
            "line": {
             "colorbar": {
              "outlinewidth": 0,
              "ticks": ""
             }
            },
            "type": "parcoords"
           }
          ],
          "pie": [
           {
            "automargin": true,
            "type": "pie"
           }
          ],
          "scatter": [
           {
            "fillpattern": {
             "fillmode": "overlay",
             "size": 10,
             "solidity": 0.2
            },
            "type": "scatter"
           }
          ],
          "scatter3d": [
           {
            "line": {
             "colorbar": {
              "outlinewidth": 0,
              "ticks": ""
             }
            },
            "marker": {
             "colorbar": {
              "outlinewidth": 0,
              "ticks": ""
             }
            },
            "type": "scatter3d"
           }
          ],
          "scattercarpet": [
           {
            "marker": {
             "colorbar": {
              "outlinewidth": 0,
              "ticks": ""
             }
            },
            "type": "scattercarpet"
           }
          ],
          "scattergeo": [
           {
            "marker": {
             "colorbar": {
              "outlinewidth": 0,
              "ticks": ""
             }
            },
            "type": "scattergeo"
           }
          ],
          "scattergl": [
           {
            "marker": {
             "colorbar": {
              "outlinewidth": 0,
              "ticks": ""
             }
            },
            "type": "scattergl"
           }
          ],
          "scattermapbox": [
           {
            "marker": {
             "colorbar": {
              "outlinewidth": 0,
              "ticks": ""
             }
            },
            "type": "scattermapbox"
           }
          ],
          "scatterpolar": [
           {
            "marker": {
             "colorbar": {
              "outlinewidth": 0,
              "ticks": ""
             }
            },
            "type": "scatterpolar"
           }
          ],
          "scatterpolargl": [
           {
            "marker": {
             "colorbar": {
              "outlinewidth": 0,
              "ticks": ""
             }
            },
            "type": "scatterpolargl"
           }
          ],
          "scatterternary": [
           {
            "marker": {
             "colorbar": {
              "outlinewidth": 0,
              "ticks": ""
             }
            },
            "type": "scatterternary"
           }
          ],
          "surface": [
           {
            "colorbar": {
             "outlinewidth": 0,
             "ticks": ""
            },
            "colorscale": [
             [
              0,
              "#0d0887"
             ],
             [
              0.1111111111111111,
              "#46039f"
             ],
             [
              0.2222222222222222,
              "#7201a8"
             ],
             [
              0.3333333333333333,
              "#9c179e"
             ],
             [
              0.4444444444444444,
              "#bd3786"
             ],
             [
              0.5555555555555556,
              "#d8576b"
             ],
             [
              0.6666666666666666,
              "#ed7953"
             ],
             [
              0.7777777777777778,
              "#fb9f3a"
             ],
             [
              0.8888888888888888,
              "#fdca26"
             ],
             [
              1,
              "#f0f921"
             ]
            ],
            "type": "surface"
           }
          ],
          "table": [
           {
            "cells": {
             "fill": {
              "color": "#EBF0F8"
             },
             "line": {
              "color": "white"
             }
            },
            "header": {
             "fill": {
              "color": "#C8D4E3"
             },
             "line": {
              "color": "white"
             }
            },
            "type": "table"
           }
          ]
         },
         "layout": {
          "annotationdefaults": {
           "arrowcolor": "#2a3f5f",
           "arrowhead": 0,
           "arrowwidth": 1
          },
          "autotypenumbers": "strict",
          "coloraxis": {
           "colorbar": {
            "outlinewidth": 0,
            "ticks": ""
           }
          },
          "colorscale": {
           "diverging": [
            [
             0,
             "#8e0152"
            ],
            [
             0.1,
             "#c51b7d"
            ],
            [
             0.2,
             "#de77ae"
            ],
            [
             0.3,
             "#f1b6da"
            ],
            [
             0.4,
             "#fde0ef"
            ],
            [
             0.5,
             "#f7f7f7"
            ],
            [
             0.6,
             "#e6f5d0"
            ],
            [
             0.7,
             "#b8e186"
            ],
            [
             0.8,
             "#7fbc41"
            ],
            [
             0.9,
             "#4d9221"
            ],
            [
             1,
             "#276419"
            ]
           ],
           "sequential": [
            [
             0,
             "#0d0887"
            ],
            [
             0.1111111111111111,
             "#46039f"
            ],
            [
             0.2222222222222222,
             "#7201a8"
            ],
            [
             0.3333333333333333,
             "#9c179e"
            ],
            [
             0.4444444444444444,
             "#bd3786"
            ],
            [
             0.5555555555555556,
             "#d8576b"
            ],
            [
             0.6666666666666666,
             "#ed7953"
            ],
            [
             0.7777777777777778,
             "#fb9f3a"
            ],
            [
             0.8888888888888888,
             "#fdca26"
            ],
            [
             1,
             "#f0f921"
            ]
           ],
           "sequentialminus": [
            [
             0,
             "#0d0887"
            ],
            [
             0.1111111111111111,
             "#46039f"
            ],
            [
             0.2222222222222222,
             "#7201a8"
            ],
            [
             0.3333333333333333,
             "#9c179e"
            ],
            [
             0.4444444444444444,
             "#bd3786"
            ],
            [
             0.5555555555555556,
             "#d8576b"
            ],
            [
             0.6666666666666666,
             "#ed7953"
            ],
            [
             0.7777777777777778,
             "#fb9f3a"
            ],
            [
             0.8888888888888888,
             "#fdca26"
            ],
            [
             1,
             "#f0f921"
            ]
           ]
          },
          "colorway": [
           "#636efa",
           "#EF553B",
           "#00cc96",
           "#ab63fa",
           "#FFA15A",
           "#19d3f3",
           "#FF6692",
           "#B6E880",
           "#FF97FF",
           "#FECB52"
          ],
          "font": {
           "color": "#2a3f5f"
          },
          "geo": {
           "bgcolor": "white",
           "lakecolor": "white",
           "landcolor": "#E5ECF6",
           "showlakes": true,
           "showland": true,
           "subunitcolor": "white"
          },
          "hoverlabel": {
           "align": "left"
          },
          "hovermode": "closest",
          "mapbox": {
           "style": "light"
          },
          "paper_bgcolor": "white",
          "plot_bgcolor": "#E5ECF6",
          "polar": {
           "angularaxis": {
            "gridcolor": "white",
            "linecolor": "white",
            "ticks": ""
           },
           "bgcolor": "#E5ECF6",
           "radialaxis": {
            "gridcolor": "white",
            "linecolor": "white",
            "ticks": ""
           }
          },
          "scene": {
           "xaxis": {
            "backgroundcolor": "#E5ECF6",
            "gridcolor": "white",
            "gridwidth": 2,
            "linecolor": "white",
            "showbackground": true,
            "ticks": "",
            "zerolinecolor": "white"
           },
           "yaxis": {
            "backgroundcolor": "#E5ECF6",
            "gridcolor": "white",
            "gridwidth": 2,
            "linecolor": "white",
            "showbackground": true,
            "ticks": "",
            "zerolinecolor": "white"
           },
           "zaxis": {
            "backgroundcolor": "#E5ECF6",
            "gridcolor": "white",
            "gridwidth": 2,
            "linecolor": "white",
            "showbackground": true,
            "ticks": "",
            "zerolinecolor": "white"
           }
          },
          "shapedefaults": {
           "line": {
            "color": "#2a3f5f"
           }
          },
          "ternary": {
           "aaxis": {
            "gridcolor": "white",
            "linecolor": "white",
            "ticks": ""
           },
           "baxis": {
            "gridcolor": "white",
            "linecolor": "white",
            "ticks": ""
           },
           "bgcolor": "#E5ECF6",
           "caxis": {
            "gridcolor": "white",
            "linecolor": "white",
            "ticks": ""
           }
          },
          "title": {
           "x": 0.05
          },
          "xaxis": {
           "automargin": true,
           "gridcolor": "white",
           "linecolor": "white",
           "ticks": "",
           "title": {
            "standoff": 15
           },
           "zerolinecolor": "white",
           "zerolinewidth": 2
          },
          "yaxis": {
           "automargin": true,
           "gridcolor": "white",
           "linecolor": "white",
           "ticks": "",
           "title": {
            "standoff": 15
           },
           "zerolinecolor": "white",
           "zerolinewidth": 2
          }
         }
        },
        "title": {
         "text": "Geometry View"
        },
        "xaxis": {
         "scaleanchor": "y",
         "scaleratio": 1
        }
       }
      }
     },
     "metadata": {},
     "output_type": "display_data"
    }
   ],
   "source": [
    "# Let's take the boolean difference box-text\n",
    "bdiff = box0.copy() # Note that boolean operations alter the original element so we need to make a copy first\n",
    "bdiff.boolean_difference(text0, 1, 1)\n",
    "# The first integer is the layer from which you should subtract and the second is the subtracted layer\n",
    "# Now bdiff is box-text\n",
    "geomE+=bdiff\n",
    "GeomViewPlotly(geomE)"
   ]
  },
  {
   "cell_type": "code",
   "execution_count": 35,
   "metadata": {},
   "outputs": [
    {
     "data": {
      "application/vnd.plotly.v1+json": {
       "config": {
        "plotlyServerURL": "https://plot.ly"
       },
       "data": [
        {
         "fill": "toself",
         "line": {
          "color": "orange"
         },
         "type": "scatter",
         "x": [
          -17.66950987028628,
          -15.023321136500494,
          -14.273525326080131,
          -14.377336592294347,
          -15.105800989062296,
          -20.50198972284808,
          -22.023321136500495,
          -24.66950987028628,
          -23.16950987028628,
          -21.28767950835738,
          -17.36317861105863,
          -17.28767950835738,
          -19.16950987028628,
          -17.66950987028628
         ],
         "y": [
          -18.284400048713294,
          -16.756622270935512,
          -15.432834881521252,
          -9.141917382929062,
          -7.880180036221963,
          -4.644818093185327,
          -4.632266617953372,
          -6.16004439573115,
          -8.758120607084466,
          -7.671645341055604,
          -10.02463584508225,
          -14.599848571331115,
          -15.686323837359978,
          -18.284400048713294
         ]
        },
        {
         "fill": "toself",
         "line": {
          "color": "orange"
         },
         "type": "scatter",
         "x": [
          -15.79737739771673,
          -17.630710731050062,
          -20.228786942403378,
          -18.395453609070046,
          -15.79737739771673
         ],
         "y": [
          -15.471473054147744,
          -12.296046573604803,
          -13.796046573604803,
          -16.971473054147744,
          -15.471473054147744
         ]
        },
        {
         "fill": "toself",
         "line": {
          "color": "orange"
         },
         "type": "scatter",
         "x": [
          -19.464044064383398,
          -21.29737739771673,
          -23.895453609070046,
          -22.062120275736714,
          -19.464044064383398
         ],
         "y": [
          -9.120620093061861,
          -5.945193612518919,
          -7.445193612518919,
          -10.620620093061861,
          -9.120620093061861
         ]
        },
        {
         "fill": "toself",
         "line": {
          "color": "orange"
         },
         "type": "scatter",
         "x": [
          -7.08475493514314,
          -1.7923774675715698,
          -3.292377467571569,
          -8.58475493514314,
          -7.08475493514314
         ],
         "y": [
          -12.173288937602182,
          -9.117733382046627,
          -6.519657170693311,
          -9.575212726248866,
          -12.173288937602182
         ]
        },
        {
         "fill": "toself",
         "line": {
          "color": "orange"
         },
         "type": "scatter",
         "x": [
          -12.58475493514314,
          -7.292377467571569,
          -8.79237746757157,
          -14.08475493514314,
          -12.58475493514314
         ],
         "y": [
          -2.6470094959733554,
          0.40854605958220036,
          3.0066222709355164,
          -0.04893328462003943,
          -2.6470094959733554
         ]
        },
        {
         "fill": "toself",
         "line": {
          "color": "orange"
         },
         "type": "scatter",
         "x": [
          -3.8895280956806975,
          -9.389528095680697,
          -11.987604307034013,
          -6.4876043070340135,
          -3.8895280956806975
         ],
         "y": [
          -8.596473054147747,
          0.92980638748108,
          -0.5701936125189193,
          -10.096473054147747,
          -8.596473054147747
         ]
        },
        {
         "fill": "toself",
         "line": {
          "color": "orange"
         },
         "type": "scatter",
         "x": [
          4.049038105676658,
          -0.7009618943233424,
          3.29237746757157,
          1.7923774675715691,
          -3.5,
          -4.049038105676658,
          1.4509618943233413,
          4.049038105676658
         ],
         "y": [
          -4.013139720814413,
          4.214101615137755,
          6.519657170693311,
          9.117733382046627,
          6.062177826491071,
          4.013139720814413,
          -5.513139720814413,
          -4.013139720814413
         ]
        },
        {
         "fill": "toself",
         "line": {
          "color": "orange"
         },
         "type": "scatter",
         "x": [
          -0.16666666666666663,
          3.80261643401201,
          2.3026164340120103,
          -1.666666666666666,
          -0.16666666666666663
         ],
         "y": [
          0.28867513459481264,
          2.5803418012614783,
          5.178418012614794,
          2.8867513459481287,
          0.28867513459481264
         ]
        },
        {
         "fill": "toself",
         "line": {
          "color": "orange"
         },
         "type": "scatter",
         "x": [
          14.6337930408198,
          9.8837930408198,
          13.877132402714714,
          12.377132402714714,
          7.084754935143142,
          6.535716829466484,
          12.035716829466484,
          14.6337930408198
         ],
         "y": [
          2.0979713902966983,
          10.325212726248868,
          12.630768281804423,
          15.22884449315774,
          12.173288937602184,
          10.124250831925526,
          0.5979713902966988,
          2.0979713902966983
         ]
        },
        {
         "fill": "toself",
         "line": {
          "color": "orange"
         },
         "type": "scatter",
         "x": [
          10.418088268476476,
          14.387371369155156,
          12.887371369155156,
          8.918088268476476,
          10.418088268476476
         ],
         "y": [
          6.399786245705924,
          8.691452912372592,
          11.289529123725908,
          8.99786245705924,
          6.399786245705924
         ]
        },
        {
         "fill": "toself",
         "line": {
          "color": "green"
         },
         "type": "scatter",
         "x": [
          -16.245008972987527,
          -13.839382851364086,
          -13.33951897775051,
          -13.433892856127068,
          -13.9195357873057,
          -18.825161908929143,
          -19.839382851364086,
          -22.245008972987527,
          -21.245008972987527,
          -19.348955099268675,
          -15.424454201969922,
          -15.348955099268675,
          -17.245008972987527,
          -16.245008972987527
         ],
         "y": [
          -16.30726353381774,
          -14.918374644928852,
          -14.035849718652678,
          -8.316833810841596,
          -7.475675579703529,
          -4.534437449670224,
          -4.526069799515588,
          -5.914958688404477,
          -7.647009495973354,
          -6.552322281583742,
          -8.905312785610386,
          -13.480525511859252,
          -14.575212726248862,
          -16.30726353381774
         ]
        },
        {
         "fill": "toself",
         "line": {
          "color": "green"
         },
         "type": "scatter",
         "x": [
          -14.676170508391367,
          -16.342837175058037,
          -18.07488798262691,
          -16.408221315960244,
          -14.676170508391367
         ],
         "y": [
          -14.246793685588859,
          -11.36004233964073,
          -12.36004233964073,
          -15.246793685588859,
          -14.246793685588859
         ]
        },
        {
         "fill": "toself",
         "line": {
          "color": "green"
         },
         "type": "scatter",
         "x": [
          -18.0095038417247,
          -19.67617050839137,
          -21.408221315960244,
          -19.741554649293576,
          -18.0095038417247
         ],
         "y": [
          -8.4732909936926,
          -5.586539647744471,
          -6.586539647744471,
          -9.4732909936926,
          -8.4732909936926
         ]
        },
        {
         "fill": "toself",
         "line": {
          "color": "green"
         },
         "type": "scatter",
         "x": [
          -6.622504486493764,
          -1.8112522432468832,
          -2.8112522432468827,
          -7.622504486493764,
          -6.622504486493764
         ],
         "y": [
          -10.751707978262187,
          -7.97393020048441,
          -6.241879392915533,
          -9.019657170693309,
          -10.751707978262187
         ]
        },
        {
         "fill": "toself",
         "line": {
          "color": "green"
         },
         "type": "scatter",
         "x": [
          -11.622504486493764,
          -6.811252243246882,
          -7.811252243246882,
          -12.622504486493764,
          -11.622504486493764
         ],
         "y": [
          -2.0914539404177996,
          0.6863238373599768,
          2.4183746449288543,
          -0.3594031328489221,
          -2.0914539404177996
         ]
        },
        {
         "fill": "toself",
         "line": {
          "color": "green"
         },
         "type": "scatter",
         "x": [
          -3.850852961085883,
          -8.850852961085883,
          -10.582903768654761,
          -5.582903768654761,
          -3.850852961085883
         ],
         "y": [
          -7.996793685588859,
          0.6634603522555282,
          -0.33653964774447126,
          -8.996793685588859,
          -7.996793685588859
         ]
        },
        {
         "fill": "toself",
         "line": {
          "color": "green"
         },
         "type": "scatter",
         "x": [
          3.3660254037844384,
          -1.1339745962155612,
          2.811252243246883,
          1.8112522432468834,
          -2.999999999999999,
          -3.3660254037844384,
          1.6339745962155607,
          3.3660254037844384
         ],
         "y": [
          -3.8301270189221936,
          3.964101615137755,
          6.241879392915533,
          7.97393020048441,
          5.196152422706632,
          3.830127018922194,
          -4.830127018922194,
          -3.8301270189221936
         ]
        },
        {
         "fill": "toself",
         "line": {
          "color": "green"
         },
         "type": "scatter",
         "x": [
          -0.33333333333333304,
          3.275105849101826,
          2.275105849101826,
          -1.3333333333333326,
          -0.33333333333333304
         ],
         "y": [
          0.5773502691896254,
          2.660683602522957,
          4.392734410091834,
          2.309401076758503,
          0.5773502691896254
         ]
        },
        {
         "fill": "toself",
         "line": {
          "color": "green"
         },
         "type": "scatter",
         "x": [
          12.9885298902782,
          8.4885298902782,
          12.433756729740644,
          11.433756729740644,
          6.622504486493761,
          6.256479082709321,
          11.25647908270932,
          12.9885298902782
         ],
         "y": [
          1.7254285366333588,
          9.519657170693307,
          11.797434948471084,
          13.529485756039962,
          10.751707978262186,
          9.385682574477746,
          0.7254285366333593,
          1.7254285366333588
         ]
        },
        {
         "fill": "toself",
         "line": {
          "color": "green"
         },
         "type": "scatter",
         "x": [
          9.289171153160428,
          12.897610335595587,
          11.897610335595587,
          8.289171153160428,
          9.289171153160428
         ],
         "y": [
          6.132905824745179,
          8.21623915807851,
          9.948289965647389,
          7.864956632314056,
          6.132905824745179
         ]
        }
       ],
       "layout": {
        "showlegend": false,
        "template": {
         "data": {
          "bar": [
           {
            "error_x": {
             "color": "#2a3f5f"
            },
            "error_y": {
             "color": "#2a3f5f"
            },
            "marker": {
             "line": {
              "color": "#E5ECF6",
              "width": 0.5
             },
             "pattern": {
              "fillmode": "overlay",
              "size": 10,
              "solidity": 0.2
             }
            },
            "type": "bar"
           }
          ],
          "barpolar": [
           {
            "marker": {
             "line": {
              "color": "#E5ECF6",
              "width": 0.5
             },
             "pattern": {
              "fillmode": "overlay",
              "size": 10,
              "solidity": 0.2
             }
            },
            "type": "barpolar"
           }
          ],
          "carpet": [
           {
            "aaxis": {
             "endlinecolor": "#2a3f5f",
             "gridcolor": "white",
             "linecolor": "white",
             "minorgridcolor": "white",
             "startlinecolor": "#2a3f5f"
            },
            "baxis": {
             "endlinecolor": "#2a3f5f",
             "gridcolor": "white",
             "linecolor": "white",
             "minorgridcolor": "white",
             "startlinecolor": "#2a3f5f"
            },
            "type": "carpet"
           }
          ],
          "choropleth": [
           {
            "colorbar": {
             "outlinewidth": 0,
             "ticks": ""
            },
            "type": "choropleth"
           }
          ],
          "contour": [
           {
            "colorbar": {
             "outlinewidth": 0,
             "ticks": ""
            },
            "colorscale": [
             [
              0,
              "#0d0887"
             ],
             [
              0.1111111111111111,
              "#46039f"
             ],
             [
              0.2222222222222222,
              "#7201a8"
             ],
             [
              0.3333333333333333,
              "#9c179e"
             ],
             [
              0.4444444444444444,
              "#bd3786"
             ],
             [
              0.5555555555555556,
              "#d8576b"
             ],
             [
              0.6666666666666666,
              "#ed7953"
             ],
             [
              0.7777777777777778,
              "#fb9f3a"
             ],
             [
              0.8888888888888888,
              "#fdca26"
             ],
             [
              1,
              "#f0f921"
             ]
            ],
            "type": "contour"
           }
          ],
          "contourcarpet": [
           {
            "colorbar": {
             "outlinewidth": 0,
             "ticks": ""
            },
            "type": "contourcarpet"
           }
          ],
          "heatmap": [
           {
            "colorbar": {
             "outlinewidth": 0,
             "ticks": ""
            },
            "colorscale": [
             [
              0,
              "#0d0887"
             ],
             [
              0.1111111111111111,
              "#46039f"
             ],
             [
              0.2222222222222222,
              "#7201a8"
             ],
             [
              0.3333333333333333,
              "#9c179e"
             ],
             [
              0.4444444444444444,
              "#bd3786"
             ],
             [
              0.5555555555555556,
              "#d8576b"
             ],
             [
              0.6666666666666666,
              "#ed7953"
             ],
             [
              0.7777777777777778,
              "#fb9f3a"
             ],
             [
              0.8888888888888888,
              "#fdca26"
             ],
             [
              1,
              "#f0f921"
             ]
            ],
            "type": "heatmap"
           }
          ],
          "heatmapgl": [
           {
            "colorbar": {
             "outlinewidth": 0,
             "ticks": ""
            },
            "colorscale": [
             [
              0,
              "#0d0887"
             ],
             [
              0.1111111111111111,
              "#46039f"
             ],
             [
              0.2222222222222222,
              "#7201a8"
             ],
             [
              0.3333333333333333,
              "#9c179e"
             ],
             [
              0.4444444444444444,
              "#bd3786"
             ],
             [
              0.5555555555555556,
              "#d8576b"
             ],
             [
              0.6666666666666666,
              "#ed7953"
             ],
             [
              0.7777777777777778,
              "#fb9f3a"
             ],
             [
              0.8888888888888888,
              "#fdca26"
             ],
             [
              1,
              "#f0f921"
             ]
            ],
            "type": "heatmapgl"
           }
          ],
          "histogram": [
           {
            "marker": {
             "pattern": {
              "fillmode": "overlay",
              "size": 10,
              "solidity": 0.2
             }
            },
            "type": "histogram"
           }
          ],
          "histogram2d": [
           {
            "colorbar": {
             "outlinewidth": 0,
             "ticks": ""
            },
            "colorscale": [
             [
              0,
              "#0d0887"
             ],
             [
              0.1111111111111111,
              "#46039f"
             ],
             [
              0.2222222222222222,
              "#7201a8"
             ],
             [
              0.3333333333333333,
              "#9c179e"
             ],
             [
              0.4444444444444444,
              "#bd3786"
             ],
             [
              0.5555555555555556,
              "#d8576b"
             ],
             [
              0.6666666666666666,
              "#ed7953"
             ],
             [
              0.7777777777777778,
              "#fb9f3a"
             ],
             [
              0.8888888888888888,
              "#fdca26"
             ],
             [
              1,
              "#f0f921"
             ]
            ],
            "type": "histogram2d"
           }
          ],
          "histogram2dcontour": [
           {
            "colorbar": {
             "outlinewidth": 0,
             "ticks": ""
            },
            "colorscale": [
             [
              0,
              "#0d0887"
             ],
             [
              0.1111111111111111,
              "#46039f"
             ],
             [
              0.2222222222222222,
              "#7201a8"
             ],
             [
              0.3333333333333333,
              "#9c179e"
             ],
             [
              0.4444444444444444,
              "#bd3786"
             ],
             [
              0.5555555555555556,
              "#d8576b"
             ],
             [
              0.6666666666666666,
              "#ed7953"
             ],
             [
              0.7777777777777778,
              "#fb9f3a"
             ],
             [
              0.8888888888888888,
              "#fdca26"
             ],
             [
              1,
              "#f0f921"
             ]
            ],
            "type": "histogram2dcontour"
           }
          ],
          "mesh3d": [
           {
            "colorbar": {
             "outlinewidth": 0,
             "ticks": ""
            },
            "type": "mesh3d"
           }
          ],
          "parcoords": [
           {
            "line": {
             "colorbar": {
              "outlinewidth": 0,
              "ticks": ""
             }
            },
            "type": "parcoords"
           }
          ],
          "pie": [
           {
            "automargin": true,
            "type": "pie"
           }
          ],
          "scatter": [
           {
            "fillpattern": {
             "fillmode": "overlay",
             "size": 10,
             "solidity": 0.2
            },
            "type": "scatter"
           }
          ],
          "scatter3d": [
           {
            "line": {
             "colorbar": {
              "outlinewidth": 0,
              "ticks": ""
             }
            },
            "marker": {
             "colorbar": {
              "outlinewidth": 0,
              "ticks": ""
             }
            },
            "type": "scatter3d"
           }
          ],
          "scattercarpet": [
           {
            "marker": {
             "colorbar": {
              "outlinewidth": 0,
              "ticks": ""
             }
            },
            "type": "scattercarpet"
           }
          ],
          "scattergeo": [
           {
            "marker": {
             "colorbar": {
              "outlinewidth": 0,
              "ticks": ""
             }
            },
            "type": "scattergeo"
           }
          ],
          "scattergl": [
           {
            "marker": {
             "colorbar": {
              "outlinewidth": 0,
              "ticks": ""
             }
            },
            "type": "scattergl"
           }
          ],
          "scattermapbox": [
           {
            "marker": {
             "colorbar": {
              "outlinewidth": 0,
              "ticks": ""
             }
            },
            "type": "scattermapbox"
           }
          ],
          "scatterpolar": [
           {
            "marker": {
             "colorbar": {
              "outlinewidth": 0,
              "ticks": ""
             }
            },
            "type": "scatterpolar"
           }
          ],
          "scatterpolargl": [
           {
            "marker": {
             "colorbar": {
              "outlinewidth": 0,
              "ticks": ""
             }
            },
            "type": "scatterpolargl"
           }
          ],
          "scatterternary": [
           {
            "marker": {
             "colorbar": {
              "outlinewidth": 0,
              "ticks": ""
             }
            },
            "type": "scatterternary"
           }
          ],
          "surface": [
           {
            "colorbar": {
             "outlinewidth": 0,
             "ticks": ""
            },
            "colorscale": [
             [
              0,
              "#0d0887"
             ],
             [
              0.1111111111111111,
              "#46039f"
             ],
             [
              0.2222222222222222,
              "#7201a8"
             ],
             [
              0.3333333333333333,
              "#9c179e"
             ],
             [
              0.4444444444444444,
              "#bd3786"
             ],
             [
              0.5555555555555556,
              "#d8576b"
             ],
             [
              0.6666666666666666,
              "#ed7953"
             ],
             [
              0.7777777777777778,
              "#fb9f3a"
             ],
             [
              0.8888888888888888,
              "#fdca26"
             ],
             [
              1,
              "#f0f921"
             ]
            ],
            "type": "surface"
           }
          ],
          "table": [
           {
            "cells": {
             "fill": {
              "color": "#EBF0F8"
             },
             "line": {
              "color": "white"
             }
            },
            "header": {
             "fill": {
              "color": "#C8D4E3"
             },
             "line": {
              "color": "white"
             }
            },
            "type": "table"
           }
          ]
         },
         "layout": {
          "annotationdefaults": {
           "arrowcolor": "#2a3f5f",
           "arrowhead": 0,
           "arrowwidth": 1
          },
          "autotypenumbers": "strict",
          "coloraxis": {
           "colorbar": {
            "outlinewidth": 0,
            "ticks": ""
           }
          },
          "colorscale": {
           "diverging": [
            [
             0,
             "#8e0152"
            ],
            [
             0.1,
             "#c51b7d"
            ],
            [
             0.2,
             "#de77ae"
            ],
            [
             0.3,
             "#f1b6da"
            ],
            [
             0.4,
             "#fde0ef"
            ],
            [
             0.5,
             "#f7f7f7"
            ],
            [
             0.6,
             "#e6f5d0"
            ],
            [
             0.7,
             "#b8e186"
            ],
            [
             0.8,
             "#7fbc41"
            ],
            [
             0.9,
             "#4d9221"
            ],
            [
             1,
             "#276419"
            ]
           ],
           "sequential": [
            [
             0,
             "#0d0887"
            ],
            [
             0.1111111111111111,
             "#46039f"
            ],
            [
             0.2222222222222222,
             "#7201a8"
            ],
            [
             0.3333333333333333,
             "#9c179e"
            ],
            [
             0.4444444444444444,
             "#bd3786"
            ],
            [
             0.5555555555555556,
             "#d8576b"
            ],
            [
             0.6666666666666666,
             "#ed7953"
            ],
            [
             0.7777777777777778,
             "#fb9f3a"
            ],
            [
             0.8888888888888888,
             "#fdca26"
            ],
            [
             1,
             "#f0f921"
            ]
           ],
           "sequentialminus": [
            [
             0,
             "#0d0887"
            ],
            [
             0.1111111111111111,
             "#46039f"
            ],
            [
             0.2222222222222222,
             "#7201a8"
            ],
            [
             0.3333333333333333,
             "#9c179e"
            ],
            [
             0.4444444444444444,
             "#bd3786"
            ],
            [
             0.5555555555555556,
             "#d8576b"
            ],
            [
             0.6666666666666666,
             "#ed7953"
            ],
            [
             0.7777777777777778,
             "#fb9f3a"
            ],
            [
             0.8888888888888888,
             "#fdca26"
            ],
            [
             1,
             "#f0f921"
            ]
           ]
          },
          "colorway": [
           "#636efa",
           "#EF553B",
           "#00cc96",
           "#ab63fa",
           "#FFA15A",
           "#19d3f3",
           "#FF6692",
           "#B6E880",
           "#FF97FF",
           "#FECB52"
          ],
          "font": {
           "color": "#2a3f5f"
          },
          "geo": {
           "bgcolor": "white",
           "lakecolor": "white",
           "landcolor": "#E5ECF6",
           "showlakes": true,
           "showland": true,
           "subunitcolor": "white"
          },
          "hoverlabel": {
           "align": "left"
          },
          "hovermode": "closest",
          "mapbox": {
           "style": "light"
          },
          "paper_bgcolor": "white",
          "plot_bgcolor": "#E5ECF6",
          "polar": {
           "angularaxis": {
            "gridcolor": "white",
            "linecolor": "white",
            "ticks": ""
           },
           "bgcolor": "#E5ECF6",
           "radialaxis": {
            "gridcolor": "white",
            "linecolor": "white",
            "ticks": ""
           }
          },
          "scene": {
           "xaxis": {
            "backgroundcolor": "#E5ECF6",
            "gridcolor": "white",
            "gridwidth": 2,
            "linecolor": "white",
            "showbackground": true,
            "ticks": "",
            "zerolinecolor": "white"
           },
           "yaxis": {
            "backgroundcolor": "#E5ECF6",
            "gridcolor": "white",
            "gridwidth": 2,
            "linecolor": "white",
            "showbackground": true,
            "ticks": "",
            "zerolinecolor": "white"
           },
           "zaxis": {
            "backgroundcolor": "#E5ECF6",
            "gridcolor": "white",
            "gridwidth": 2,
            "linecolor": "white",
            "showbackground": true,
            "ticks": "",
            "zerolinecolor": "white"
           }
          },
          "shapedefaults": {
           "line": {
            "color": "#2a3f5f"
           }
          },
          "ternary": {
           "aaxis": {
            "gridcolor": "white",
            "linecolor": "white",
            "ticks": ""
           },
           "baxis": {
            "gridcolor": "white",
            "linecolor": "white",
            "ticks": ""
           },
           "bgcolor": "#E5ECF6",
           "caxis": {
            "gridcolor": "white",
            "linecolor": "white",
            "ticks": ""
           }
          },
          "title": {
           "x": 0.05
          },
          "xaxis": {
           "automargin": true,
           "gridcolor": "white",
           "linecolor": "white",
           "ticks": "",
           "title": {
            "standoff": 15
           },
           "zerolinecolor": "white",
           "zerolinewidth": 2
          },
          "yaxis": {
           "automargin": true,
           "gridcolor": "white",
           "linecolor": "white",
           "ticks": "",
           "title": {
            "standoff": 15
           },
           "zerolinecolor": "white",
           "zerolinewidth": 2
          }
         }
        },
        "title": {
         "text": "Geometry View"
        },
        "xaxis": {
         "scaleanchor": "y",
         "scaleratio": 1
        }
       }
      }
     },
     "metadata": {},
     "output_type": "display_data"
    },
    {
     "data": {
      "application/vnd.plotly.v1+json": {
       "config": {
        "plotlyServerURL": "https://plot.ly"
       },
       "data": [
        {
         "fill": "toself",
         "line": {
          "color": "orange"
         },
         "type": "scatter",
         "x": [
          50,
          12.989,
          12.989,
          11.256,
          6.256,
          6.623,
          11.434,
          12.434,
          8.489,
          9.155,
          11.898,
          12.898,
          10.155,
          12.989,
          12.989,
          3.366,
          3.366,
          1.634,
          -1.811,
          -1.811,
          -6.623,
          -7.623,
          -6.084,
          -10.084,
          -11.623,
          -12.623,
          -7.811,
          -6.811,
          -8.352,
          -4.351,
          -2.811,
          -1.811,
          -1.811,
          -3.366,
          -3,
          1.811,
          2.811,
          -1.134,
          -0.468,
          2.275,
          3.275,
          0.532,
          3.366,
          3.366,
          -13.34,
          -13.34,
          -13.839,
          -16.245,
          -17.245,
          -16.909,
          -18.075,
          -16.343,
          -15.356,
          -15.424,
          -18.998,
          -18.01,
          -19.742,
          -20.909,
          -21.245,
          -22.245,
          -19.839,
          -18.825,
          -13.92,
          -13.434,
          -13.34,
          -13.34,
          -50,
          -50,
          50,
          50
         ],
         "y": [
          50,
          50,
          1.725,
          0.725,
          9.386,
          10.752,
          13.529,
          11.797,
          9.52,
          8.365,
          9.948,
          8.216,
          6.633,
          1.725,
          50,
          50,
          -3.83,
          -4.83,
          1.136,
          -7.974,
          -10.752,
          -9.02,
          -8.131,
          -1.203,
          -2.091,
          -0.359,
          2.418,
          0.686,
          -0.203,
          -7.132,
          -6.242,
          -7.974,
          1.136,
          3.83,
          5.196,
          7.974,
          6.242,
          3.964,
          2.809,
          4.393,
          2.661,
          1.077,
          -3.83,
          50,
          50,
          -14.036,
          -14.918,
          -16.307,
          -14.575,
          -14.381,
          -12.36,
          -11.36,
          -13.07,
          -8.905,
          -6.763,
          -8.473,
          -9.473,
          -7.453,
          -7.647,
          -5.915,
          -4.526,
          -4.534,
          -7.476,
          -8.317,
          -14.036,
          50,
          50,
          -50,
          -50,
          50
         ]
        },
        {
         "fill": "toself",
         "line": {
          "color": "orange"
         },
         "type": "scatter",
         "x": [
          85.721,
          85.623,
          84.894,
          79.72200000000001,
          77.755,
          78.005,
          78.755,
          79.09100000000001,
          79.486,
          80.175,
          80.536,
          80.22200000000001,
          81,
          81.99,
          81.002,
          84.576,
          84.644,
          83.657,
          82.668,
          82.68299999999999,
          82.369,
          82.008,
          82.697,
          83.09100000000001,
          82.755,
          83.505,
          83.755,
          85.721
         ],
         "y": [
          -15.172,
          -9.142,
          -7.88,
          -4.78,
          -5.915,
          -6.349,
          -7.647,
          -7.453,
          -8.137,
          -9.33,
          -9.121,
          -8.578,
          -9.045,
          -8.473,
          -6.763,
          -8.905,
          -13.07,
          -11.36,
          -11.931,
          -12.84,
          -12.296,
          -12.505,
          -13.698,
          -14.381,
          -14.575,
          -15.875,
          -16.307,
          -15.172
         ]
        },
        {
         "fill": "toself",
         "line": {
          "color": "orange"
         },
         "type": "scatter",
         "x": [
          97.707,
          96.708,
          95.649,
          95.36,
          91.36,
          91.648,
          92.708,
          91.708,
          87.377,
          88.377,
          88.761,
          89.916,
          93.916,
          92.762,
          92.377,
          93.377,
          97.707
         ],
         "y": [
          -8.252,
          -6.52,
          -7.132,
          -7.298,
          -0.37,
          -0.203,
          0.409,
          2.14,
          -0.359,
          -2.091,
          -1.869,
          -1.203,
          -8.131,
          -8.798,
          -9.02,
          -10.752,
          -8.252
         ]
        },
        {
         "fill": "toself",
         "line": {
          "color": "orange"
         },
         "type": "scatter",
         "x": [
          103.366,
          100.699,
          100.532,
          100.965,
          103.275,
          102.275,
          99.965,
          99.532,
          99.199,
          98.866,
          99.299,
          99.742,
          102.81,
          101.811,
          97,
          96.634,
          101.634,
          103.366
         ],
         "y": [
          -3.83,
          0.788,
          1.077,
          1.327,
          2.661,
          4.393,
          3.059,
          2.809,
          3.386,
          3.964,
          4.214,
          4.47,
          6.242,
          7.974,
          5.196,
          3.83,
          -4.83,
          -3.83
         ]
        },
        {
         "fill": "toself",
         "line": {
          "color": "orange"
         },
         "type": "scatter",
         "x": [
          112.989,
          110.155,
          110.251,
          111.55,
          112.898,
          111.898,
          110.55,
          109.251,
          109.155,
          108.489,
          109.884,
          110.423,
          112.43299999999999,
          111.434,
          106.719,
          106.536,
          111.786,
          112.989
         ],
         "y": [
          1.725,
          6.633,
          6.688,
          7.438,
          8.216,
          9.948,
          9.17,
          8.42,
          8.365,
          9.52,
          10.325,
          10.636,
          11.797,
          13.529,
          10.807,
          10.124,
          1.03,
          1.725
         ]
        }
       ],
       "layout": {
        "showlegend": false,
        "template": {
         "data": {
          "bar": [
           {
            "error_x": {
             "color": "#2a3f5f"
            },
            "error_y": {
             "color": "#2a3f5f"
            },
            "marker": {
             "line": {
              "color": "#E5ECF6",
              "width": 0.5
             },
             "pattern": {
              "fillmode": "overlay",
              "size": 10,
              "solidity": 0.2
             }
            },
            "type": "bar"
           }
          ],
          "barpolar": [
           {
            "marker": {
             "line": {
              "color": "#E5ECF6",
              "width": 0.5
             },
             "pattern": {
              "fillmode": "overlay",
              "size": 10,
              "solidity": 0.2
             }
            },
            "type": "barpolar"
           }
          ],
          "carpet": [
           {
            "aaxis": {
             "endlinecolor": "#2a3f5f",
             "gridcolor": "white",
             "linecolor": "white",
             "minorgridcolor": "white",
             "startlinecolor": "#2a3f5f"
            },
            "baxis": {
             "endlinecolor": "#2a3f5f",
             "gridcolor": "white",
             "linecolor": "white",
             "minorgridcolor": "white",
             "startlinecolor": "#2a3f5f"
            },
            "type": "carpet"
           }
          ],
          "choropleth": [
           {
            "colorbar": {
             "outlinewidth": 0,
             "ticks": ""
            },
            "type": "choropleth"
           }
          ],
          "contour": [
           {
            "colorbar": {
             "outlinewidth": 0,
             "ticks": ""
            },
            "colorscale": [
             [
              0,
              "#0d0887"
             ],
             [
              0.1111111111111111,
              "#46039f"
             ],
             [
              0.2222222222222222,
              "#7201a8"
             ],
             [
              0.3333333333333333,
              "#9c179e"
             ],
             [
              0.4444444444444444,
              "#bd3786"
             ],
             [
              0.5555555555555556,
              "#d8576b"
             ],
             [
              0.6666666666666666,
              "#ed7953"
             ],
             [
              0.7777777777777778,
              "#fb9f3a"
             ],
             [
              0.8888888888888888,
              "#fdca26"
             ],
             [
              1,
              "#f0f921"
             ]
            ],
            "type": "contour"
           }
          ],
          "contourcarpet": [
           {
            "colorbar": {
             "outlinewidth": 0,
             "ticks": ""
            },
            "type": "contourcarpet"
           }
          ],
          "heatmap": [
           {
            "colorbar": {
             "outlinewidth": 0,
             "ticks": ""
            },
            "colorscale": [
             [
              0,
              "#0d0887"
             ],
             [
              0.1111111111111111,
              "#46039f"
             ],
             [
              0.2222222222222222,
              "#7201a8"
             ],
             [
              0.3333333333333333,
              "#9c179e"
             ],
             [
              0.4444444444444444,
              "#bd3786"
             ],
             [
              0.5555555555555556,
              "#d8576b"
             ],
             [
              0.6666666666666666,
              "#ed7953"
             ],
             [
              0.7777777777777778,
              "#fb9f3a"
             ],
             [
              0.8888888888888888,
              "#fdca26"
             ],
             [
              1,
              "#f0f921"
             ]
            ],
            "type": "heatmap"
           }
          ],
          "heatmapgl": [
           {
            "colorbar": {
             "outlinewidth": 0,
             "ticks": ""
            },
            "colorscale": [
             [
              0,
              "#0d0887"
             ],
             [
              0.1111111111111111,
              "#46039f"
             ],
             [
              0.2222222222222222,
              "#7201a8"
             ],
             [
              0.3333333333333333,
              "#9c179e"
             ],
             [
              0.4444444444444444,
              "#bd3786"
             ],
             [
              0.5555555555555556,
              "#d8576b"
             ],
             [
              0.6666666666666666,
              "#ed7953"
             ],
             [
              0.7777777777777778,
              "#fb9f3a"
             ],
             [
              0.8888888888888888,
              "#fdca26"
             ],
             [
              1,
              "#f0f921"
             ]
            ],
            "type": "heatmapgl"
           }
          ],
          "histogram": [
           {
            "marker": {
             "pattern": {
              "fillmode": "overlay",
              "size": 10,
              "solidity": 0.2
             }
            },
            "type": "histogram"
           }
          ],
          "histogram2d": [
           {
            "colorbar": {
             "outlinewidth": 0,
             "ticks": ""
            },
            "colorscale": [
             [
              0,
              "#0d0887"
             ],
             [
              0.1111111111111111,
              "#46039f"
             ],
             [
              0.2222222222222222,
              "#7201a8"
             ],
             [
              0.3333333333333333,
              "#9c179e"
             ],
             [
              0.4444444444444444,
              "#bd3786"
             ],
             [
              0.5555555555555556,
              "#d8576b"
             ],
             [
              0.6666666666666666,
              "#ed7953"
             ],
             [
              0.7777777777777778,
              "#fb9f3a"
             ],
             [
              0.8888888888888888,
              "#fdca26"
             ],
             [
              1,
              "#f0f921"
             ]
            ],
            "type": "histogram2d"
           }
          ],
          "histogram2dcontour": [
           {
            "colorbar": {
             "outlinewidth": 0,
             "ticks": ""
            },
            "colorscale": [
             [
              0,
              "#0d0887"
             ],
             [
              0.1111111111111111,
              "#46039f"
             ],
             [
              0.2222222222222222,
              "#7201a8"
             ],
             [
              0.3333333333333333,
              "#9c179e"
             ],
             [
              0.4444444444444444,
              "#bd3786"
             ],
             [
              0.5555555555555556,
              "#d8576b"
             ],
             [
              0.6666666666666666,
              "#ed7953"
             ],
             [
              0.7777777777777778,
              "#fb9f3a"
             ],
             [
              0.8888888888888888,
              "#fdca26"
             ],
             [
              1,
              "#f0f921"
             ]
            ],
            "type": "histogram2dcontour"
           }
          ],
          "mesh3d": [
           {
            "colorbar": {
             "outlinewidth": 0,
             "ticks": ""
            },
            "type": "mesh3d"
           }
          ],
          "parcoords": [
           {
            "line": {
             "colorbar": {
              "outlinewidth": 0,
              "ticks": ""
             }
            },
            "type": "parcoords"
           }
          ],
          "pie": [
           {
            "automargin": true,
            "type": "pie"
           }
          ],
          "scatter": [
           {
            "fillpattern": {
             "fillmode": "overlay",
             "size": 10,
             "solidity": 0.2
            },
            "type": "scatter"
           }
          ],
          "scatter3d": [
           {
            "line": {
             "colorbar": {
              "outlinewidth": 0,
              "ticks": ""
             }
            },
            "marker": {
             "colorbar": {
              "outlinewidth": 0,
              "ticks": ""
             }
            },
            "type": "scatter3d"
           }
          ],
          "scattercarpet": [
           {
            "marker": {
             "colorbar": {
              "outlinewidth": 0,
              "ticks": ""
             }
            },
            "type": "scattercarpet"
           }
          ],
          "scattergeo": [
           {
            "marker": {
             "colorbar": {
              "outlinewidth": 0,
              "ticks": ""
             }
            },
            "type": "scattergeo"
           }
          ],
          "scattergl": [
           {
            "marker": {
             "colorbar": {
              "outlinewidth": 0,
              "ticks": ""
             }
            },
            "type": "scattergl"
           }
          ],
          "scattermapbox": [
           {
            "marker": {
             "colorbar": {
              "outlinewidth": 0,
              "ticks": ""
             }
            },
            "type": "scattermapbox"
           }
          ],
          "scatterpolar": [
           {
            "marker": {
             "colorbar": {
              "outlinewidth": 0,
              "ticks": ""
             }
            },
            "type": "scatterpolar"
           }
          ],
          "scatterpolargl": [
           {
            "marker": {
             "colorbar": {
              "outlinewidth": 0,
              "ticks": ""
             }
            },
            "type": "scatterpolargl"
           }
          ],
          "scatterternary": [
           {
            "marker": {
             "colorbar": {
              "outlinewidth": 0,
              "ticks": ""
             }
            },
            "type": "scatterternary"
           }
          ],
          "surface": [
           {
            "colorbar": {
             "outlinewidth": 0,
             "ticks": ""
            },
            "colorscale": [
             [
              0,
              "#0d0887"
             ],
             [
              0.1111111111111111,
              "#46039f"
             ],
             [
              0.2222222222222222,
              "#7201a8"
             ],
             [
              0.3333333333333333,
              "#9c179e"
             ],
             [
              0.4444444444444444,
              "#bd3786"
             ],
             [
              0.5555555555555556,
              "#d8576b"
             ],
             [
              0.6666666666666666,
              "#ed7953"
             ],
             [
              0.7777777777777778,
              "#fb9f3a"
             ],
             [
              0.8888888888888888,
              "#fdca26"
             ],
             [
              1,
              "#f0f921"
             ]
            ],
            "type": "surface"
           }
          ],
          "table": [
           {
            "cells": {
             "fill": {
              "color": "#EBF0F8"
             },
             "line": {
              "color": "white"
             }
            },
            "header": {
             "fill": {
              "color": "#C8D4E3"
             },
             "line": {
              "color": "white"
             }
            },
            "type": "table"
           }
          ]
         },
         "layout": {
          "annotationdefaults": {
           "arrowcolor": "#2a3f5f",
           "arrowhead": 0,
           "arrowwidth": 1
          },
          "autotypenumbers": "strict",
          "coloraxis": {
           "colorbar": {
            "outlinewidth": 0,
            "ticks": ""
           }
          },
          "colorscale": {
           "diverging": [
            [
             0,
             "#8e0152"
            ],
            [
             0.1,
             "#c51b7d"
            ],
            [
             0.2,
             "#de77ae"
            ],
            [
             0.3,
             "#f1b6da"
            ],
            [
             0.4,
             "#fde0ef"
            ],
            [
             0.5,
             "#f7f7f7"
            ],
            [
             0.6,
             "#e6f5d0"
            ],
            [
             0.7,
             "#b8e186"
            ],
            [
             0.8,
             "#7fbc41"
            ],
            [
             0.9,
             "#4d9221"
            ],
            [
             1,
             "#276419"
            ]
           ],
           "sequential": [
            [
             0,
             "#0d0887"
            ],
            [
             0.1111111111111111,
             "#46039f"
            ],
            [
             0.2222222222222222,
             "#7201a8"
            ],
            [
             0.3333333333333333,
             "#9c179e"
            ],
            [
             0.4444444444444444,
             "#bd3786"
            ],
            [
             0.5555555555555556,
             "#d8576b"
            ],
            [
             0.6666666666666666,
             "#ed7953"
            ],
            [
             0.7777777777777778,
             "#fb9f3a"
            ],
            [
             0.8888888888888888,
             "#fdca26"
            ],
            [
             1,
             "#f0f921"
            ]
           ],
           "sequentialminus": [
            [
             0,
             "#0d0887"
            ],
            [
             0.1111111111111111,
             "#46039f"
            ],
            [
             0.2222222222222222,
             "#7201a8"
            ],
            [
             0.3333333333333333,
             "#9c179e"
            ],
            [
             0.4444444444444444,
             "#bd3786"
            ],
            [
             0.5555555555555556,
             "#d8576b"
            ],
            [
             0.6666666666666666,
             "#ed7953"
            ],
            [
             0.7777777777777778,
             "#fb9f3a"
            ],
            [
             0.8888888888888888,
             "#fdca26"
            ],
            [
             1,
             "#f0f921"
            ]
           ]
          },
          "colorway": [
           "#636efa",
           "#EF553B",
           "#00cc96",
           "#ab63fa",
           "#FFA15A",
           "#19d3f3",
           "#FF6692",
           "#B6E880",
           "#FF97FF",
           "#FECB52"
          ],
          "font": {
           "color": "#2a3f5f"
          },
          "geo": {
           "bgcolor": "white",
           "lakecolor": "white",
           "landcolor": "#E5ECF6",
           "showlakes": true,
           "showland": true,
           "subunitcolor": "white"
          },
          "hoverlabel": {
           "align": "left"
          },
          "hovermode": "closest",
          "mapbox": {
           "style": "light"
          },
          "paper_bgcolor": "white",
          "plot_bgcolor": "#E5ECF6",
          "polar": {
           "angularaxis": {
            "gridcolor": "white",
            "linecolor": "white",
            "ticks": ""
           },
           "bgcolor": "#E5ECF6",
           "radialaxis": {
            "gridcolor": "white",
            "linecolor": "white",
            "ticks": ""
           }
          },
          "scene": {
           "xaxis": {
            "backgroundcolor": "#E5ECF6",
            "gridcolor": "white",
            "gridwidth": 2,
            "linecolor": "white",
            "showbackground": true,
            "ticks": "",
            "zerolinecolor": "white"
           },
           "yaxis": {
            "backgroundcolor": "#E5ECF6",
            "gridcolor": "white",
            "gridwidth": 2,
            "linecolor": "white",
            "showbackground": true,
            "ticks": "",
            "zerolinecolor": "white"
           },
           "zaxis": {
            "backgroundcolor": "#E5ECF6",
            "gridcolor": "white",
            "gridwidth": 2,
            "linecolor": "white",
            "showbackground": true,
            "ticks": "",
            "zerolinecolor": "white"
           }
          },
          "shapedefaults": {
           "line": {
            "color": "#2a3f5f"
           }
          },
          "ternary": {
           "aaxis": {
            "gridcolor": "white",
            "linecolor": "white",
            "ticks": ""
           },
           "baxis": {
            "gridcolor": "white",
            "linecolor": "white",
            "ticks": ""
           },
           "bgcolor": "#E5ECF6",
           "caxis": {
            "gridcolor": "white",
            "linecolor": "white",
            "ticks": ""
           }
          },
          "title": {
           "x": 0.05
          },
          "xaxis": {
           "automargin": true,
           "gridcolor": "white",
           "linecolor": "white",
           "ticks": "",
           "title": {
            "standoff": 15
           },
           "zerolinecolor": "white",
           "zerolinewidth": 2
          },
          "yaxis": {
           "automargin": true,
           "gridcolor": "white",
           "linecolor": "white",
           "ticks": "",
           "title": {
            "standoff": 15
           },
           "zerolinecolor": "white",
           "zerolinewidth": 2
          }
         }
        },
        "title": {
         "text": "Geometry View"
        },
        "xaxis": {
         "scaleanchor": "y",
         "scaleratio": 1
        }
       }
      }
     },
     "metadata": {},
     "output_type": "display_data"
    }
   ],
   "source": [
    "# Now let's try intersection (AND operation)\n",
    "# Let's use two overlapping texts, slighlty larger\n",
    "text1 = sm.make_text(0,0,\"DIFF\",11,3,angle=30,to_poly=True,layer=1)\n",
    "GeomViewPlotly(text1+text0.copy().set_layer(2))\n",
    "text1.boolean_intersection(text0, 1, 1)\n",
    "text1.translate(100, 0)\n",
    "geomE+=text1\n",
    "GeomViewPlotly(geomE)"
   ]
  },
  {
   "cell_type": "code",
   "execution_count": 36,
   "metadata": {},
   "outputs": [
    {
     "data": {
      "application/vnd.plotly.v1+json": {
       "config": {
        "plotlyServerURL": "https://plot.ly"
       },
       "data": [
        {
         "fill": "toself",
         "line": {
          "color": "orange"
         },
         "type": "scatter",
         "x": [
          33.770411971394104,
          39.32596752694966,
          38.451810250828125,
          32.89625469527257,
          33.770411971394104
         ],
         "y": [
          -5.242821465589316,
          4.757178534410684,
          5.242821465589316,
          -4.757178534410684,
          -5.242821465589316
         ]
        },
        {
         "fill": "toself",
         "line": {
          "color": "orange"
         },
         "type": "scatter",
         "x": [
          32.89625469527257,
          38.451810250828125,
          39.32596752694966,
          33.770411971394104,
          32.89625469527257
         ],
         "y": [
          4.757178534410684,
          -5.242821465589316,
          -4.757178534410684,
          5.242821465589316,
          4.757178534410684
         ]
        },
        {
         "fill": "toself",
         "line": {
          "color": "orange"
         },
         "type": "scatter",
         "x": [
          47.97977994274006,
          47.57067099659123,
          46.97568366104162,
          44.94444444444444,
          44.94444444444444,
          46.97568366104162,
          47.46876078340283,
          49.5,
          49.5,
          48.43198311457876,
          49.34579466319902,
          50.45690577431013,
          50.5,
          50.5,
          50.44721359549996,
          48.22499137327774,
          47.77777777777778,
          46.66666666666667,
          46.21945307116671,
          43.99723084894448,
          43.94444444444444,
          43.94444444444444,
          43.99723084894448,
          46.21945307116671,
          46.66666666666667,
          47.77777777777778,
          48.131331168371055,
          48.68688672392661,
          47.97977994274006
         ],
         "y": [
          -4.090891053851171,
          -4.5,
          -4.5,
          -0.4375215668056601,
          0.4375215668056603,
          4.5,
          4.5,
          0.43752156680566046,
          -0.44944833033104253,
          -2.852486322528833,
          -3.258624788582279,
          -0.7586247885822786,
          -0.5555555555555554,
          0.5555555555555554,
          0.7791623533055343,
          5.223606797749979,
          5.5,
          5.5,
          5.223606797749979,
          0.7791623533055347,
          0.5555555555555555,
          -0.5555555555555552,
          -0.7791623533055348,
          -5.223606797749979,
          -5.5,
          -5.5,
          -5.353553390593275,
          -4.7979978350377195,
          -4.090891053851171
         ]
        },
        {
         "fill": "toself",
         "line": {
          "color": "orange"
         },
         "type": "scatter",
         "x": [
          56.05555555555556,
          56.05555555555556,
          59.792893218813454,
          60.611111111111114,
          60.611111111111114,
          59.792893218813454,
          57.5,
          57.060354016731615,
          60.67146512784273,
          61.5507570943795,
          58.339472669331506,
          60,
          60.35355339059328,
          61.46466450170439,
          61.611111111111114,
          61.611111111111114,
          61.46466450170439,
          60.35355339059328,
          60,
          55.55555555555556,
          55.05555555555556,
          55.05555555555556,
          56.05555555555556
         ],
         "y": [
          -5,
          4.5,
          4.5,
          3.6817821077023414,
          2.9848845589643247,
          2.166666666666666,
          2.166666666666666,
          1.4285250923962896,
          -5.238141574270377,
          -4.761858425729623,
          1.166666666666666,
          1.166666666666666,
          1.3131132760733917,
          2.4242243871845024,
          2.777777777777777,
          3.8888888888888893,
          4.242442279482163,
          5.353553390593274,
          5.5,
          5.5,
          5,
          -5,
          -5
         ]
        },
        {
         "fill": "toself",
         "line": {
          "color": "green"
         },
         "type": "scatter",
         "x": [
          -50,
          50,
          50,
          -50,
          -50
         ],
         "y": [
          -50,
          -50,
          50,
          50,
          -50
         ]
        }
       ],
       "layout": {
        "showlegend": false,
        "template": {
         "data": {
          "bar": [
           {
            "error_x": {
             "color": "#2a3f5f"
            },
            "error_y": {
             "color": "#2a3f5f"
            },
            "marker": {
             "line": {
              "color": "#E5ECF6",
              "width": 0.5
             },
             "pattern": {
              "fillmode": "overlay",
              "size": 10,
              "solidity": 0.2
             }
            },
            "type": "bar"
           }
          ],
          "barpolar": [
           {
            "marker": {
             "line": {
              "color": "#E5ECF6",
              "width": 0.5
             },
             "pattern": {
              "fillmode": "overlay",
              "size": 10,
              "solidity": 0.2
             }
            },
            "type": "barpolar"
           }
          ],
          "carpet": [
           {
            "aaxis": {
             "endlinecolor": "#2a3f5f",
             "gridcolor": "white",
             "linecolor": "white",
             "minorgridcolor": "white",
             "startlinecolor": "#2a3f5f"
            },
            "baxis": {
             "endlinecolor": "#2a3f5f",
             "gridcolor": "white",
             "linecolor": "white",
             "minorgridcolor": "white",
             "startlinecolor": "#2a3f5f"
            },
            "type": "carpet"
           }
          ],
          "choropleth": [
           {
            "colorbar": {
             "outlinewidth": 0,
             "ticks": ""
            },
            "type": "choropleth"
           }
          ],
          "contour": [
           {
            "colorbar": {
             "outlinewidth": 0,
             "ticks": ""
            },
            "colorscale": [
             [
              0,
              "#0d0887"
             ],
             [
              0.1111111111111111,
              "#46039f"
             ],
             [
              0.2222222222222222,
              "#7201a8"
             ],
             [
              0.3333333333333333,
              "#9c179e"
             ],
             [
              0.4444444444444444,
              "#bd3786"
             ],
             [
              0.5555555555555556,
              "#d8576b"
             ],
             [
              0.6666666666666666,
              "#ed7953"
             ],
             [
              0.7777777777777778,
              "#fb9f3a"
             ],
             [
              0.8888888888888888,
              "#fdca26"
             ],
             [
              1,
              "#f0f921"
             ]
            ],
            "type": "contour"
           }
          ],
          "contourcarpet": [
           {
            "colorbar": {
             "outlinewidth": 0,
             "ticks": ""
            },
            "type": "contourcarpet"
           }
          ],
          "heatmap": [
           {
            "colorbar": {
             "outlinewidth": 0,
             "ticks": ""
            },
            "colorscale": [
             [
              0,
              "#0d0887"
             ],
             [
              0.1111111111111111,
              "#46039f"
             ],
             [
              0.2222222222222222,
              "#7201a8"
             ],
             [
              0.3333333333333333,
              "#9c179e"
             ],
             [
              0.4444444444444444,
              "#bd3786"
             ],
             [
              0.5555555555555556,
              "#d8576b"
             ],
             [
              0.6666666666666666,
              "#ed7953"
             ],
             [
              0.7777777777777778,
              "#fb9f3a"
             ],
             [
              0.8888888888888888,
              "#fdca26"
             ],
             [
              1,
              "#f0f921"
             ]
            ],
            "type": "heatmap"
           }
          ],
          "heatmapgl": [
           {
            "colorbar": {
             "outlinewidth": 0,
             "ticks": ""
            },
            "colorscale": [
             [
              0,
              "#0d0887"
             ],
             [
              0.1111111111111111,
              "#46039f"
             ],
             [
              0.2222222222222222,
              "#7201a8"
             ],
             [
              0.3333333333333333,
              "#9c179e"
             ],
             [
              0.4444444444444444,
              "#bd3786"
             ],
             [
              0.5555555555555556,
              "#d8576b"
             ],
             [
              0.6666666666666666,
              "#ed7953"
             ],
             [
              0.7777777777777778,
              "#fb9f3a"
             ],
             [
              0.8888888888888888,
              "#fdca26"
             ],
             [
              1,
              "#f0f921"
             ]
            ],
            "type": "heatmapgl"
           }
          ],
          "histogram": [
           {
            "marker": {
             "pattern": {
              "fillmode": "overlay",
              "size": 10,
              "solidity": 0.2
             }
            },
            "type": "histogram"
           }
          ],
          "histogram2d": [
           {
            "colorbar": {
             "outlinewidth": 0,
             "ticks": ""
            },
            "colorscale": [
             [
              0,
              "#0d0887"
             ],
             [
              0.1111111111111111,
              "#46039f"
             ],
             [
              0.2222222222222222,
              "#7201a8"
             ],
             [
              0.3333333333333333,
              "#9c179e"
             ],
             [
              0.4444444444444444,
              "#bd3786"
             ],
             [
              0.5555555555555556,
              "#d8576b"
             ],
             [
              0.6666666666666666,
              "#ed7953"
             ],
             [
              0.7777777777777778,
              "#fb9f3a"
             ],
             [
              0.8888888888888888,
              "#fdca26"
             ],
             [
              1,
              "#f0f921"
             ]
            ],
            "type": "histogram2d"
           }
          ],
          "histogram2dcontour": [
           {
            "colorbar": {
             "outlinewidth": 0,
             "ticks": ""
            },
            "colorscale": [
             [
              0,
              "#0d0887"
             ],
             [
              0.1111111111111111,
              "#46039f"
             ],
             [
              0.2222222222222222,
              "#7201a8"
             ],
             [
              0.3333333333333333,
              "#9c179e"
             ],
             [
              0.4444444444444444,
              "#bd3786"
             ],
             [
              0.5555555555555556,
              "#d8576b"
             ],
             [
              0.6666666666666666,
              "#ed7953"
             ],
             [
              0.7777777777777778,
              "#fb9f3a"
             ],
             [
              0.8888888888888888,
              "#fdca26"
             ],
             [
              1,
              "#f0f921"
             ]
            ],
            "type": "histogram2dcontour"
           }
          ],
          "mesh3d": [
           {
            "colorbar": {
             "outlinewidth": 0,
             "ticks": ""
            },
            "type": "mesh3d"
           }
          ],
          "parcoords": [
           {
            "line": {
             "colorbar": {
              "outlinewidth": 0,
              "ticks": ""
             }
            },
            "type": "parcoords"
           }
          ],
          "pie": [
           {
            "automargin": true,
            "type": "pie"
           }
          ],
          "scatter": [
           {
            "fillpattern": {
             "fillmode": "overlay",
             "size": 10,
             "solidity": 0.2
            },
            "type": "scatter"
           }
          ],
          "scatter3d": [
           {
            "line": {
             "colorbar": {
              "outlinewidth": 0,
              "ticks": ""
             }
            },
            "marker": {
             "colorbar": {
              "outlinewidth": 0,
              "ticks": ""
             }
            },
            "type": "scatter3d"
           }
          ],
          "scattercarpet": [
           {
            "marker": {
             "colorbar": {
              "outlinewidth": 0,
              "ticks": ""
             }
            },
            "type": "scattercarpet"
           }
          ],
          "scattergeo": [
           {
            "marker": {
             "colorbar": {
              "outlinewidth": 0,
              "ticks": ""
             }
            },
            "type": "scattergeo"
           }
          ],
          "scattergl": [
           {
            "marker": {
             "colorbar": {
              "outlinewidth": 0,
              "ticks": ""
             }
            },
            "type": "scattergl"
           }
          ],
          "scattermapbox": [
           {
            "marker": {
             "colorbar": {
              "outlinewidth": 0,
              "ticks": ""
             }
            },
            "type": "scattermapbox"
           }
          ],
          "scatterpolar": [
           {
            "marker": {
             "colorbar": {
              "outlinewidth": 0,
              "ticks": ""
             }
            },
            "type": "scatterpolar"
           }
          ],
          "scatterpolargl": [
           {
            "marker": {
             "colorbar": {
              "outlinewidth": 0,
              "ticks": ""
             }
            },
            "type": "scatterpolargl"
           }
          ],
          "scatterternary": [
           {
            "marker": {
             "colorbar": {
              "outlinewidth": 0,
              "ticks": ""
             }
            },
            "type": "scatterternary"
           }
          ],
          "surface": [
           {
            "colorbar": {
             "outlinewidth": 0,
             "ticks": ""
            },
            "colorscale": [
             [
              0,
              "#0d0887"
             ],
             [
              0.1111111111111111,
              "#46039f"
             ],
             [
              0.2222222222222222,
              "#7201a8"
             ],
             [
              0.3333333333333333,
              "#9c179e"
             ],
             [
              0.4444444444444444,
              "#bd3786"
             ],
             [
              0.5555555555555556,
              "#d8576b"
             ],
             [
              0.6666666666666666,
              "#ed7953"
             ],
             [
              0.7777777777777778,
              "#fb9f3a"
             ],
             [
              0.8888888888888888,
              "#fdca26"
             ],
             [
              1,
              "#f0f921"
             ]
            ],
            "type": "surface"
           }
          ],
          "table": [
           {
            "cells": {
             "fill": {
              "color": "#EBF0F8"
             },
             "line": {
              "color": "white"
             }
            },
            "header": {
             "fill": {
              "color": "#C8D4E3"
             },
             "line": {
              "color": "white"
             }
            },
            "type": "table"
           }
          ]
         },
         "layout": {
          "annotationdefaults": {
           "arrowcolor": "#2a3f5f",
           "arrowhead": 0,
           "arrowwidth": 1
          },
          "autotypenumbers": "strict",
          "coloraxis": {
           "colorbar": {
            "outlinewidth": 0,
            "ticks": ""
           }
          },
          "colorscale": {
           "diverging": [
            [
             0,
             "#8e0152"
            ],
            [
             0.1,
             "#c51b7d"
            ],
            [
             0.2,
             "#de77ae"
            ],
            [
             0.3,
             "#f1b6da"
            ],
            [
             0.4,
             "#fde0ef"
            ],
            [
             0.5,
             "#f7f7f7"
            ],
            [
             0.6,
             "#e6f5d0"
            ],
            [
             0.7,
             "#b8e186"
            ],
            [
             0.8,
             "#7fbc41"
            ],
            [
             0.9,
             "#4d9221"
            ],
            [
             1,
             "#276419"
            ]
           ],
           "sequential": [
            [
             0,
             "#0d0887"
            ],
            [
             0.1111111111111111,
             "#46039f"
            ],
            [
             0.2222222222222222,
             "#7201a8"
            ],
            [
             0.3333333333333333,
             "#9c179e"
            ],
            [
             0.4444444444444444,
             "#bd3786"
            ],
            [
             0.5555555555555556,
             "#d8576b"
            ],
            [
             0.6666666666666666,
             "#ed7953"
            ],
            [
             0.7777777777777778,
             "#fb9f3a"
            ],
            [
             0.8888888888888888,
             "#fdca26"
            ],
            [
             1,
             "#f0f921"
            ]
           ],
           "sequentialminus": [
            [
             0,
             "#0d0887"
            ],
            [
             0.1111111111111111,
             "#46039f"
            ],
            [
             0.2222222222222222,
             "#7201a8"
            ],
            [
             0.3333333333333333,
             "#9c179e"
            ],
            [
             0.4444444444444444,
             "#bd3786"
            ],
            [
             0.5555555555555556,
             "#d8576b"
            ],
            [
             0.6666666666666666,
             "#ed7953"
            ],
            [
             0.7777777777777778,
             "#fb9f3a"
            ],
            [
             0.8888888888888888,
             "#fdca26"
            ],
            [
             1,
             "#f0f921"
            ]
           ]
          },
          "colorway": [
           "#636efa",
           "#EF553B",
           "#00cc96",
           "#ab63fa",
           "#FFA15A",
           "#19d3f3",
           "#FF6692",
           "#B6E880",
           "#FF97FF",
           "#FECB52"
          ],
          "font": {
           "color": "#2a3f5f"
          },
          "geo": {
           "bgcolor": "white",
           "lakecolor": "white",
           "landcolor": "#E5ECF6",
           "showlakes": true,
           "showland": true,
           "subunitcolor": "white"
          },
          "hoverlabel": {
           "align": "left"
          },
          "hovermode": "closest",
          "mapbox": {
           "style": "light"
          },
          "paper_bgcolor": "white",
          "plot_bgcolor": "#E5ECF6",
          "polar": {
           "angularaxis": {
            "gridcolor": "white",
            "linecolor": "white",
            "ticks": ""
           },
           "bgcolor": "#E5ECF6",
           "radialaxis": {
            "gridcolor": "white",
            "linecolor": "white",
            "ticks": ""
           }
          },
          "scene": {
           "xaxis": {
            "backgroundcolor": "#E5ECF6",
            "gridcolor": "white",
            "gridwidth": 2,
            "linecolor": "white",
            "showbackground": true,
            "ticks": "",
            "zerolinecolor": "white"
           },
           "yaxis": {
            "backgroundcolor": "#E5ECF6",
            "gridcolor": "white",
            "gridwidth": 2,
            "linecolor": "white",
            "showbackground": true,
            "ticks": "",
            "zerolinecolor": "white"
           },
           "zaxis": {
            "backgroundcolor": "#E5ECF6",
            "gridcolor": "white",
            "gridwidth": 2,
            "linecolor": "white",
            "showbackground": true,
            "ticks": "",
            "zerolinecolor": "white"
           }
          },
          "shapedefaults": {
           "line": {
            "color": "#2a3f5f"
           }
          },
          "ternary": {
           "aaxis": {
            "gridcolor": "white",
            "linecolor": "white",
            "ticks": ""
           },
           "baxis": {
            "gridcolor": "white",
            "linecolor": "white",
            "ticks": ""
           },
           "bgcolor": "#E5ECF6",
           "caxis": {
            "gridcolor": "white",
            "linecolor": "white",
            "ticks": ""
           }
          },
          "title": {
           "x": 0.05
          },
          "xaxis": {
           "automargin": true,
           "gridcolor": "white",
           "linecolor": "white",
           "ticks": "",
           "title": {
            "standoff": 15
           },
           "zerolinecolor": "white",
           "zerolinewidth": 2
          },
          "yaxis": {
           "automargin": true,
           "gridcolor": "white",
           "linecolor": "white",
           "ticks": "",
           "title": {
            "standoff": 15
           },
           "zerolinecolor": "white",
           "zerolinewidth": 2
          }
         }
        },
        "title": {
         "text": "Geometry View"
        },
        "xaxis": {
         "scaleanchor": "y",
         "scaleratio": 1
        }
       }
      }
     },
     "metadata": {},
     "output_type": "display_data"
    },
    {
     "data": {
      "application/vnd.plotly.v1+json": {
       "config": {
        "plotlyServerURL": "https://plot.ly"
       },
       "data": [
        {
         "fill": "toself",
         "line": {
          "color": "orange"
         },
         "type": "scatter",
         "x": [
          50,
          12.989,
          12.989,
          11.256,
          6.256,
          6.623,
          11.434,
          12.434,
          8.489,
          9.155,
          11.898,
          12.898,
          10.155,
          12.989,
          12.989,
          3.366,
          3.366,
          1.634,
          -1.811,
          -1.811,
          -6.623,
          -7.623,
          -6.084,
          -10.084,
          -11.623,
          -12.623,
          -7.811,
          -6.811,
          -8.352,
          -4.351,
          -2.811,
          -1.811,
          -1.811,
          -3.366,
          -3,
          1.811,
          2.811,
          -1.134,
          -0.468,
          2.275,
          3.275,
          0.532,
          3.366,
          3.366,
          -13.34,
          -13.34,
          -13.839,
          -16.245,
          -17.245,
          -16.909,
          -18.075,
          -16.343,
          -15.356,
          -15.424,
          -18.998,
          -18.01,
          -19.742,
          -20.909,
          -21.245,
          -22.245,
          -19.839,
          -18.825,
          -13.92,
          -13.434,
          -13.34,
          -13.34,
          -50,
          -50,
          50,
          50
         ],
         "y": [
          50,
          50,
          1.725,
          0.725,
          9.386,
          10.752,
          13.529,
          11.797,
          9.52,
          8.365,
          9.948,
          8.216,
          6.633,
          1.725,
          50,
          50,
          -3.83,
          -4.83,
          1.136,
          -7.974,
          -10.752,
          -9.02,
          -8.131,
          -1.203,
          -2.091,
          -0.359,
          2.418,
          0.686,
          -0.203,
          -7.132,
          -6.242,
          -7.974,
          1.136,
          3.83,
          5.196,
          7.974,
          6.242,
          3.964,
          2.809,
          4.393,
          2.661,
          1.077,
          -3.83,
          50,
          50,
          -14.036,
          -14.918,
          -16.307,
          -14.575,
          -14.381,
          -12.36,
          -11.36,
          -13.07,
          -8.905,
          -6.763,
          -8.473,
          -9.473,
          -7.453,
          -7.647,
          -5.915,
          -4.526,
          -4.534,
          -7.476,
          -8.317,
          -14.036,
          50,
          50,
          -50,
          -50,
          50
         ]
        },
        {
         "fill": "toself",
         "line": {
          "color": "orange"
         },
         "type": "scatter",
         "x": [
          85.721,
          85.623,
          84.894,
          79.72200000000001,
          77.755,
          78.005,
          78.755,
          79.09100000000001,
          79.486,
          80.175,
          80.536,
          80.22200000000001,
          81,
          81.99,
          81.002,
          84.576,
          84.644,
          83.657,
          82.668,
          82.68299999999999,
          82.369,
          82.008,
          82.697,
          83.09100000000001,
          82.755,
          83.505,
          83.755,
          85.721
         ],
         "y": [
          -15.172,
          -9.142,
          -7.88,
          -4.78,
          -5.915,
          -6.349,
          -7.647,
          -7.453,
          -8.137,
          -9.33,
          -9.121,
          -8.578,
          -9.045,
          -8.473,
          -6.763,
          -8.905,
          -13.07,
          -11.36,
          -11.931,
          -12.84,
          -12.296,
          -12.505,
          -13.698,
          -14.381,
          -14.575,
          -15.875,
          -16.307,
          -15.172
         ]
        },
        {
         "fill": "toself",
         "line": {
          "color": "orange"
         },
         "type": "scatter",
         "x": [
          97.707,
          96.708,
          95.649,
          95.36,
          91.36,
          91.648,
          92.708,
          91.708,
          87.377,
          88.377,
          88.761,
          89.916,
          93.916,
          92.762,
          92.377,
          93.377,
          97.707
         ],
         "y": [
          -8.252,
          -6.52,
          -7.132,
          -7.298,
          -0.37,
          -0.203,
          0.409,
          2.14,
          -0.359,
          -2.091,
          -1.869,
          -1.203,
          -8.131,
          -8.798,
          -9.02,
          -10.752,
          -8.252
         ]
        },
        {
         "fill": "toself",
         "line": {
          "color": "orange"
         },
         "type": "scatter",
         "x": [
          103.366,
          100.699,
          100.532,
          100.965,
          103.275,
          102.275,
          99.965,
          99.532,
          99.199,
          98.866,
          99.299,
          99.742,
          102.81,
          101.811,
          97,
          96.634,
          101.634,
          103.366
         ],
         "y": [
          -3.83,
          0.788,
          1.077,
          1.327,
          2.661,
          4.393,
          3.059,
          2.809,
          3.386,
          3.964,
          4.214,
          4.47,
          6.242,
          7.974,
          5.196,
          3.83,
          -4.83,
          -3.83
         ]
        },
        {
         "fill": "toself",
         "line": {
          "color": "orange"
         },
         "type": "scatter",
         "x": [
          112.989,
          110.155,
          110.251,
          111.55,
          112.898,
          111.898,
          110.55,
          109.251,
          109.155,
          108.489,
          109.884,
          110.423,
          112.43299999999999,
          111.434,
          106.719,
          106.536,
          111.786,
          112.989
         ],
         "y": [
          1.725,
          6.633,
          6.688,
          7.438,
          8.216,
          9.948,
          9.17,
          8.42,
          8.365,
          9.52,
          10.325,
          10.636,
          11.797,
          13.529,
          10.807,
          10.124,
          1.03,
          1.725
         ]
        },
        {
         "fill": "toself",
         "line": {
          "color": "orange"
         },
         "type": "scatter",
         "x": [
          250,
          239.326,
          239.326,
          236.683,
          239.326,
          238.452,
          236.111,
          233.77,
          232.89600000000002,
          235.538,
          232.89600000000002,
          233.77,
          236.111,
          238.452,
          239.326,
          239.326,
          150,
          150,
          250,
          250,
          249.346,
          248.43200000000002,
          249.5,
          249.5,
          247.469,
          246.976,
          244.94400000000002,
          244.94400000000002,
          246.976,
          247.571,
          247.98,
          248.687,
          248.131,
          247.778,
          246.667,
          246.219,
          243.997,
          243.94400000000002,
          243.94400000000002,
          243.997,
          246.219,
          246.667,
          247.778,
          248.225,
          250,
          250
         ],
         "y": [
          50,
          50,
          4.757,
          0,
          -4.757,
          -5.243,
          -1.03,
          -5.243,
          -4.757,
          0,
          4.757,
          5.243,
          1.029,
          5.243,
          4.757,
          50,
          50,
          -50,
          -50,
          -1.787,
          -3.259,
          -2.852,
          -0.449,
          0.438,
          4.5,
          4.5,
          0.438,
          -0.438,
          -4.5,
          -4.5,
          -4.091,
          -4.798,
          -5.354,
          -5.5,
          -5.5,
          -5.224,
          -0.779,
          -0.556,
          0.556,
          0.779,
          5.224,
          5.5,
          5.5,
          5.224,
          1.673,
          50
         ]
        },
        {
         "fill": "toself",
         "line": {
          "color": "orange"
         },
         "type": "scatter",
         "x": [
          250.5,
          250.447,
          250,
          250,
          250.457,
          250.5,
          250.5
         ],
         "y": [
          0.556,
          0.779,
          1.673,
          -1.787,
          -0.759,
          -0.556,
          0.556
         ]
        },
        {
         "fill": "toself",
         "line": {
          "color": "orange"
         },
         "type": "scatter",
         "x": [
          261.611,
          261.46500000000003,
          260.354,
          260,
          255.55599999999998,
          255.05599999999998,
          255.05599999999998,
          256.056,
          256.056,
          259.793,
          260.611,
          260.611,
          259.793,
          257.5,
          257.06,
          260.671,
          261.551,
          258.339,
          260,
          260.354,
          261.46500000000003,
          261.611,
          261.611
         ],
         "y": [
          3.889,
          4.242,
          5.354,
          5.5,
          5.5,
          5,
          -5,
          -5,
          4.5,
          4.5,
          3.682,
          2.985,
          2.167,
          2.167,
          1.429,
          -5.238,
          -4.762,
          1.167,
          1.167,
          1.313,
          2.424,
          2.778,
          3.889
         ]
        }
       ],
       "layout": {
        "showlegend": false,
        "template": {
         "data": {
          "bar": [
           {
            "error_x": {
             "color": "#2a3f5f"
            },
            "error_y": {
             "color": "#2a3f5f"
            },
            "marker": {
             "line": {
              "color": "#E5ECF6",
              "width": 0.5
             },
             "pattern": {
              "fillmode": "overlay",
              "size": 10,
              "solidity": 0.2
             }
            },
            "type": "bar"
           }
          ],
          "barpolar": [
           {
            "marker": {
             "line": {
              "color": "#E5ECF6",
              "width": 0.5
             },
             "pattern": {
              "fillmode": "overlay",
              "size": 10,
              "solidity": 0.2
             }
            },
            "type": "barpolar"
           }
          ],
          "carpet": [
           {
            "aaxis": {
             "endlinecolor": "#2a3f5f",
             "gridcolor": "white",
             "linecolor": "white",
             "minorgridcolor": "white",
             "startlinecolor": "#2a3f5f"
            },
            "baxis": {
             "endlinecolor": "#2a3f5f",
             "gridcolor": "white",
             "linecolor": "white",
             "minorgridcolor": "white",
             "startlinecolor": "#2a3f5f"
            },
            "type": "carpet"
           }
          ],
          "choropleth": [
           {
            "colorbar": {
             "outlinewidth": 0,
             "ticks": ""
            },
            "type": "choropleth"
           }
          ],
          "contour": [
           {
            "colorbar": {
             "outlinewidth": 0,
             "ticks": ""
            },
            "colorscale": [
             [
              0,
              "#0d0887"
             ],
             [
              0.1111111111111111,
              "#46039f"
             ],
             [
              0.2222222222222222,
              "#7201a8"
             ],
             [
              0.3333333333333333,
              "#9c179e"
             ],
             [
              0.4444444444444444,
              "#bd3786"
             ],
             [
              0.5555555555555556,
              "#d8576b"
             ],
             [
              0.6666666666666666,
              "#ed7953"
             ],
             [
              0.7777777777777778,
              "#fb9f3a"
             ],
             [
              0.8888888888888888,
              "#fdca26"
             ],
             [
              1,
              "#f0f921"
             ]
            ],
            "type": "contour"
           }
          ],
          "contourcarpet": [
           {
            "colorbar": {
             "outlinewidth": 0,
             "ticks": ""
            },
            "type": "contourcarpet"
           }
          ],
          "heatmap": [
           {
            "colorbar": {
             "outlinewidth": 0,
             "ticks": ""
            },
            "colorscale": [
             [
              0,
              "#0d0887"
             ],
             [
              0.1111111111111111,
              "#46039f"
             ],
             [
              0.2222222222222222,
              "#7201a8"
             ],
             [
              0.3333333333333333,
              "#9c179e"
             ],
             [
              0.4444444444444444,
              "#bd3786"
             ],
             [
              0.5555555555555556,
              "#d8576b"
             ],
             [
              0.6666666666666666,
              "#ed7953"
             ],
             [
              0.7777777777777778,
              "#fb9f3a"
             ],
             [
              0.8888888888888888,
              "#fdca26"
             ],
             [
              1,
              "#f0f921"
             ]
            ],
            "type": "heatmap"
           }
          ],
          "heatmapgl": [
           {
            "colorbar": {
             "outlinewidth": 0,
             "ticks": ""
            },
            "colorscale": [
             [
              0,
              "#0d0887"
             ],
             [
              0.1111111111111111,
              "#46039f"
             ],
             [
              0.2222222222222222,
              "#7201a8"
             ],
             [
              0.3333333333333333,
              "#9c179e"
             ],
             [
              0.4444444444444444,
              "#bd3786"
             ],
             [
              0.5555555555555556,
              "#d8576b"
             ],
             [
              0.6666666666666666,
              "#ed7953"
             ],
             [
              0.7777777777777778,
              "#fb9f3a"
             ],
             [
              0.8888888888888888,
              "#fdca26"
             ],
             [
              1,
              "#f0f921"
             ]
            ],
            "type": "heatmapgl"
           }
          ],
          "histogram": [
           {
            "marker": {
             "pattern": {
              "fillmode": "overlay",
              "size": 10,
              "solidity": 0.2
             }
            },
            "type": "histogram"
           }
          ],
          "histogram2d": [
           {
            "colorbar": {
             "outlinewidth": 0,
             "ticks": ""
            },
            "colorscale": [
             [
              0,
              "#0d0887"
             ],
             [
              0.1111111111111111,
              "#46039f"
             ],
             [
              0.2222222222222222,
              "#7201a8"
             ],
             [
              0.3333333333333333,
              "#9c179e"
             ],
             [
              0.4444444444444444,
              "#bd3786"
             ],
             [
              0.5555555555555556,
              "#d8576b"
             ],
             [
              0.6666666666666666,
              "#ed7953"
             ],
             [
              0.7777777777777778,
              "#fb9f3a"
             ],
             [
              0.8888888888888888,
              "#fdca26"
             ],
             [
              1,
              "#f0f921"
             ]
            ],
            "type": "histogram2d"
           }
          ],
          "histogram2dcontour": [
           {
            "colorbar": {
             "outlinewidth": 0,
             "ticks": ""
            },
            "colorscale": [
             [
              0,
              "#0d0887"
             ],
             [
              0.1111111111111111,
              "#46039f"
             ],
             [
              0.2222222222222222,
              "#7201a8"
             ],
             [
              0.3333333333333333,
              "#9c179e"
             ],
             [
              0.4444444444444444,
              "#bd3786"
             ],
             [
              0.5555555555555556,
              "#d8576b"
             ],
             [
              0.6666666666666666,
              "#ed7953"
             ],
             [
              0.7777777777777778,
              "#fb9f3a"
             ],
             [
              0.8888888888888888,
              "#fdca26"
             ],
             [
              1,
              "#f0f921"
             ]
            ],
            "type": "histogram2dcontour"
           }
          ],
          "mesh3d": [
           {
            "colorbar": {
             "outlinewidth": 0,
             "ticks": ""
            },
            "type": "mesh3d"
           }
          ],
          "parcoords": [
           {
            "line": {
             "colorbar": {
              "outlinewidth": 0,
              "ticks": ""
             }
            },
            "type": "parcoords"
           }
          ],
          "pie": [
           {
            "automargin": true,
            "type": "pie"
           }
          ],
          "scatter": [
           {
            "fillpattern": {
             "fillmode": "overlay",
             "size": 10,
             "solidity": 0.2
            },
            "type": "scatter"
           }
          ],
          "scatter3d": [
           {
            "line": {
             "colorbar": {
              "outlinewidth": 0,
              "ticks": ""
             }
            },
            "marker": {
             "colorbar": {
              "outlinewidth": 0,
              "ticks": ""
             }
            },
            "type": "scatter3d"
           }
          ],
          "scattercarpet": [
           {
            "marker": {
             "colorbar": {
              "outlinewidth": 0,
              "ticks": ""
             }
            },
            "type": "scattercarpet"
           }
          ],
          "scattergeo": [
           {
            "marker": {
             "colorbar": {
              "outlinewidth": 0,
              "ticks": ""
             }
            },
            "type": "scattergeo"
           }
          ],
          "scattergl": [
           {
            "marker": {
             "colorbar": {
              "outlinewidth": 0,
              "ticks": ""
             }
            },
            "type": "scattergl"
           }
          ],
          "scattermapbox": [
           {
            "marker": {
             "colorbar": {
              "outlinewidth": 0,
              "ticks": ""
             }
            },
            "type": "scattermapbox"
           }
          ],
          "scatterpolar": [
           {
            "marker": {
             "colorbar": {
              "outlinewidth": 0,
              "ticks": ""
             }
            },
            "type": "scatterpolar"
           }
          ],
          "scatterpolargl": [
           {
            "marker": {
             "colorbar": {
              "outlinewidth": 0,
              "ticks": ""
             }
            },
            "type": "scatterpolargl"
           }
          ],
          "scatterternary": [
           {
            "marker": {
             "colorbar": {
              "outlinewidth": 0,
              "ticks": ""
             }
            },
            "type": "scatterternary"
           }
          ],
          "surface": [
           {
            "colorbar": {
             "outlinewidth": 0,
             "ticks": ""
            },
            "colorscale": [
             [
              0,
              "#0d0887"
             ],
             [
              0.1111111111111111,
              "#46039f"
             ],
             [
              0.2222222222222222,
              "#7201a8"
             ],
             [
              0.3333333333333333,
              "#9c179e"
             ],
             [
              0.4444444444444444,
              "#bd3786"
             ],
             [
              0.5555555555555556,
              "#d8576b"
             ],
             [
              0.6666666666666666,
              "#ed7953"
             ],
             [
              0.7777777777777778,
              "#fb9f3a"
             ],
             [
              0.8888888888888888,
              "#fdca26"
             ],
             [
              1,
              "#f0f921"
             ]
            ],
            "type": "surface"
           }
          ],
          "table": [
           {
            "cells": {
             "fill": {
              "color": "#EBF0F8"
             },
             "line": {
              "color": "white"
             }
            },
            "header": {
             "fill": {
              "color": "#C8D4E3"
             },
             "line": {
              "color": "white"
             }
            },
            "type": "table"
           }
          ]
         },
         "layout": {
          "annotationdefaults": {
           "arrowcolor": "#2a3f5f",
           "arrowhead": 0,
           "arrowwidth": 1
          },
          "autotypenumbers": "strict",
          "coloraxis": {
           "colorbar": {
            "outlinewidth": 0,
            "ticks": ""
           }
          },
          "colorscale": {
           "diverging": [
            [
             0,
             "#8e0152"
            ],
            [
             0.1,
             "#c51b7d"
            ],
            [
             0.2,
             "#de77ae"
            ],
            [
             0.3,
             "#f1b6da"
            ],
            [
             0.4,
             "#fde0ef"
            ],
            [
             0.5,
             "#f7f7f7"
            ],
            [
             0.6,
             "#e6f5d0"
            ],
            [
             0.7,
             "#b8e186"
            ],
            [
             0.8,
             "#7fbc41"
            ],
            [
             0.9,
             "#4d9221"
            ],
            [
             1,
             "#276419"
            ]
           ],
           "sequential": [
            [
             0,
             "#0d0887"
            ],
            [
             0.1111111111111111,
             "#46039f"
            ],
            [
             0.2222222222222222,
             "#7201a8"
            ],
            [
             0.3333333333333333,
             "#9c179e"
            ],
            [
             0.4444444444444444,
             "#bd3786"
            ],
            [
             0.5555555555555556,
             "#d8576b"
            ],
            [
             0.6666666666666666,
             "#ed7953"
            ],
            [
             0.7777777777777778,
             "#fb9f3a"
            ],
            [
             0.8888888888888888,
             "#fdca26"
            ],
            [
             1,
             "#f0f921"
            ]
           ],
           "sequentialminus": [
            [
             0,
             "#0d0887"
            ],
            [
             0.1111111111111111,
             "#46039f"
            ],
            [
             0.2222222222222222,
             "#7201a8"
            ],
            [
             0.3333333333333333,
             "#9c179e"
            ],
            [
             0.4444444444444444,
             "#bd3786"
            ],
            [
             0.5555555555555556,
             "#d8576b"
            ],
            [
             0.6666666666666666,
             "#ed7953"
            ],
            [
             0.7777777777777778,
             "#fb9f3a"
            ],
            [
             0.8888888888888888,
             "#fdca26"
            ],
            [
             1,
             "#f0f921"
            ]
           ]
          },
          "colorway": [
           "#636efa",
           "#EF553B",
           "#00cc96",
           "#ab63fa",
           "#FFA15A",
           "#19d3f3",
           "#FF6692",
           "#B6E880",
           "#FF97FF",
           "#FECB52"
          ],
          "font": {
           "color": "#2a3f5f"
          },
          "geo": {
           "bgcolor": "white",
           "lakecolor": "white",
           "landcolor": "#E5ECF6",
           "showlakes": true,
           "showland": true,
           "subunitcolor": "white"
          },
          "hoverlabel": {
           "align": "left"
          },
          "hovermode": "closest",
          "mapbox": {
           "style": "light"
          },
          "paper_bgcolor": "white",
          "plot_bgcolor": "#E5ECF6",
          "polar": {
           "angularaxis": {
            "gridcolor": "white",
            "linecolor": "white",
            "ticks": ""
           },
           "bgcolor": "#E5ECF6",
           "radialaxis": {
            "gridcolor": "white",
            "linecolor": "white",
            "ticks": ""
           }
          },
          "scene": {
           "xaxis": {
            "backgroundcolor": "#E5ECF6",
            "gridcolor": "white",
            "gridwidth": 2,
            "linecolor": "white",
            "showbackground": true,
            "ticks": "",
            "zerolinecolor": "white"
           },
           "yaxis": {
            "backgroundcolor": "#E5ECF6",
            "gridcolor": "white",
            "gridwidth": 2,
            "linecolor": "white",
            "showbackground": true,
            "ticks": "",
            "zerolinecolor": "white"
           },
           "zaxis": {
            "backgroundcolor": "#E5ECF6",
            "gridcolor": "white",
            "gridwidth": 2,
            "linecolor": "white",
            "showbackground": true,
            "ticks": "",
            "zerolinecolor": "white"
           }
          },
          "shapedefaults": {
           "line": {
            "color": "#2a3f5f"
           }
          },
          "ternary": {
           "aaxis": {
            "gridcolor": "white",
            "linecolor": "white",
            "ticks": ""
           },
           "baxis": {
            "gridcolor": "white",
            "linecolor": "white",
            "ticks": ""
           },
           "bgcolor": "#E5ECF6",
           "caxis": {
            "gridcolor": "white",
            "linecolor": "white",
            "ticks": ""
           }
          },
          "title": {
           "x": 0.05
          },
          "xaxis": {
           "automargin": true,
           "gridcolor": "white",
           "linecolor": "white",
           "ticks": "",
           "title": {
            "standoff": 15
           },
           "zerolinecolor": "white",
           "zerolinewidth": 2
          },
          "yaxis": {
           "automargin": true,
           "gridcolor": "white",
           "linecolor": "white",
           "ticks": "",
           "title": {
            "standoff": 15
           },
           "zerolinecolor": "white",
           "zerolinewidth": 2
          }
         }
        },
        "title": {
         "text": "Geometry View"
        },
        "xaxis": {
         "scaleanchor": "y",
         "scaleratio": 1
        }
       }
      }
     },
     "metadata": {},
     "output_type": "display_data"
    }
   ],
   "source": [
    "# XOR is also quite useful, only keeps parts that are not in both\n",
    "text2 = sm.make_text(50,0,\"XOR\",10,1,angle=0,to_poly=True,layer=1)\n",
    "GeomViewPlotly(text2+box0.copy().set_layer(2))\n",
    "text2.boolean_xor(box0, 1, 1)\n",
    "text2.translate(200, 0)\n",
    "geomE+=text2\n",
    "GeomViewPlotly(geomE)"
   ]
  },
  {
   "cell_type": "code",
   "execution_count": 37,
   "metadata": {},
   "outputs": [
    {
     "data": {
      "application/vnd.plotly.v1+json": {
       "config": {
        "plotlyServerURL": "https://plot.ly"
       },
       "data": [
        {
         "fill": "toself",
         "line": {
          "color": "orange"
         },
         "type": "scatter",
         "x": [
          250,
          239.326,
          239.326,
          236.683,
          239.326,
          238.452,
          236.111,
          233.77,
          232.89600000000002,
          235.538,
          232.89600000000002,
          233.77,
          236.111,
          238.452,
          239.326,
          239.326,
          150,
          150,
          250,
          250,
          249.346,
          248.43200000000002,
          249.5,
          249.5,
          247.469,
          246.976,
          244.94400000000002,
          244.94400000000002,
          246.976,
          247.571,
          247.98,
          248.687,
          248.131,
          247.778,
          246.667,
          246.219,
          243.997,
          243.94400000000002,
          243.94400000000002,
          243.997,
          246.219,
          246.667,
          247.778,
          248.225,
          250,
          250
         ],
         "y": [
          50,
          50,
          4.757,
          0,
          -4.757,
          -5.243,
          -1.03,
          -5.243,
          -4.757,
          0,
          4.757,
          5.243,
          1.029,
          5.243,
          4.757,
          50,
          50,
          -50,
          -50,
          -1.787,
          -3.259,
          -2.852,
          -0.449,
          0.438,
          4.5,
          4.5,
          0.438,
          -0.438,
          -4.5,
          -4.5,
          -4.091,
          -4.798,
          -5.354,
          -5.5,
          -5.5,
          -5.224,
          -0.779,
          -0.556,
          0.556,
          0.779,
          5.224,
          5.5,
          5.5,
          5.224,
          1.673,
          50
         ]
        },
        {
         "fill": "toself",
         "line": {
          "color": "orange"
         },
         "type": "scatter",
         "x": [
          250.5,
          250.447,
          250,
          250,
          250.457,
          250.5,
          250.5
         ],
         "y": [
          0.556,
          0.779,
          1.673,
          -1.787,
          -0.759,
          -0.556,
          0.556
         ]
        },
        {
         "fill": "toself",
         "line": {
          "color": "orange"
         },
         "type": "scatter",
         "x": [
          261.611,
          261.46500000000003,
          260.354,
          260,
          255.55599999999998,
          255.05599999999998,
          255.05599999999998,
          256.056,
          256.056,
          259.793,
          260.611,
          260.611,
          259.793,
          257.5,
          257.06,
          260.671,
          261.551,
          258.339,
          260,
          260.354,
          261.46500000000003,
          261.611,
          261.611
         ],
         "y": [
          3.889,
          4.242,
          5.354,
          5.5,
          5.5,
          5,
          -5,
          -5,
          4.5,
          4.5,
          3.682,
          2.985,
          2.167,
          2.167,
          1.429,
          -5.238,
          -4.762,
          1.167,
          1.167,
          1.313,
          2.424,
          2.778,
          3.889
         ]
        }
       ],
       "layout": {
        "showlegend": false,
        "template": {
         "data": {
          "bar": [
           {
            "error_x": {
             "color": "#2a3f5f"
            },
            "error_y": {
             "color": "#2a3f5f"
            },
            "marker": {
             "line": {
              "color": "#E5ECF6",
              "width": 0.5
             },
             "pattern": {
              "fillmode": "overlay",
              "size": 10,
              "solidity": 0.2
             }
            },
            "type": "bar"
           }
          ],
          "barpolar": [
           {
            "marker": {
             "line": {
              "color": "#E5ECF6",
              "width": 0.5
             },
             "pattern": {
              "fillmode": "overlay",
              "size": 10,
              "solidity": 0.2
             }
            },
            "type": "barpolar"
           }
          ],
          "carpet": [
           {
            "aaxis": {
             "endlinecolor": "#2a3f5f",
             "gridcolor": "white",
             "linecolor": "white",
             "minorgridcolor": "white",
             "startlinecolor": "#2a3f5f"
            },
            "baxis": {
             "endlinecolor": "#2a3f5f",
             "gridcolor": "white",
             "linecolor": "white",
             "minorgridcolor": "white",
             "startlinecolor": "#2a3f5f"
            },
            "type": "carpet"
           }
          ],
          "choropleth": [
           {
            "colorbar": {
             "outlinewidth": 0,
             "ticks": ""
            },
            "type": "choropleth"
           }
          ],
          "contour": [
           {
            "colorbar": {
             "outlinewidth": 0,
             "ticks": ""
            },
            "colorscale": [
             [
              0,
              "#0d0887"
             ],
             [
              0.1111111111111111,
              "#46039f"
             ],
             [
              0.2222222222222222,
              "#7201a8"
             ],
             [
              0.3333333333333333,
              "#9c179e"
             ],
             [
              0.4444444444444444,
              "#bd3786"
             ],
             [
              0.5555555555555556,
              "#d8576b"
             ],
             [
              0.6666666666666666,
              "#ed7953"
             ],
             [
              0.7777777777777778,
              "#fb9f3a"
             ],
             [
              0.8888888888888888,
              "#fdca26"
             ],
             [
              1,
              "#f0f921"
             ]
            ],
            "type": "contour"
           }
          ],
          "contourcarpet": [
           {
            "colorbar": {
             "outlinewidth": 0,
             "ticks": ""
            },
            "type": "contourcarpet"
           }
          ],
          "heatmap": [
           {
            "colorbar": {
             "outlinewidth": 0,
             "ticks": ""
            },
            "colorscale": [
             [
              0,
              "#0d0887"
             ],
             [
              0.1111111111111111,
              "#46039f"
             ],
             [
              0.2222222222222222,
              "#7201a8"
             ],
             [
              0.3333333333333333,
              "#9c179e"
             ],
             [
              0.4444444444444444,
              "#bd3786"
             ],
             [
              0.5555555555555556,
              "#d8576b"
             ],
             [
              0.6666666666666666,
              "#ed7953"
             ],
             [
              0.7777777777777778,
              "#fb9f3a"
             ],
             [
              0.8888888888888888,
              "#fdca26"
             ],
             [
              1,
              "#f0f921"
             ]
            ],
            "type": "heatmap"
           }
          ],
          "heatmapgl": [
           {
            "colorbar": {
             "outlinewidth": 0,
             "ticks": ""
            },
            "colorscale": [
             [
              0,
              "#0d0887"
             ],
             [
              0.1111111111111111,
              "#46039f"
             ],
             [
              0.2222222222222222,
              "#7201a8"
             ],
             [
              0.3333333333333333,
              "#9c179e"
             ],
             [
              0.4444444444444444,
              "#bd3786"
             ],
             [
              0.5555555555555556,
              "#d8576b"
             ],
             [
              0.6666666666666666,
              "#ed7953"
             ],
             [
              0.7777777777777778,
              "#fb9f3a"
             ],
             [
              0.8888888888888888,
              "#fdca26"
             ],
             [
              1,
              "#f0f921"
             ]
            ],
            "type": "heatmapgl"
           }
          ],
          "histogram": [
           {
            "marker": {
             "pattern": {
              "fillmode": "overlay",
              "size": 10,
              "solidity": 0.2
             }
            },
            "type": "histogram"
           }
          ],
          "histogram2d": [
           {
            "colorbar": {
             "outlinewidth": 0,
             "ticks": ""
            },
            "colorscale": [
             [
              0,
              "#0d0887"
             ],
             [
              0.1111111111111111,
              "#46039f"
             ],
             [
              0.2222222222222222,
              "#7201a8"
             ],
             [
              0.3333333333333333,
              "#9c179e"
             ],
             [
              0.4444444444444444,
              "#bd3786"
             ],
             [
              0.5555555555555556,
              "#d8576b"
             ],
             [
              0.6666666666666666,
              "#ed7953"
             ],
             [
              0.7777777777777778,
              "#fb9f3a"
             ],
             [
              0.8888888888888888,
              "#fdca26"
             ],
             [
              1,
              "#f0f921"
             ]
            ],
            "type": "histogram2d"
           }
          ],
          "histogram2dcontour": [
           {
            "colorbar": {
             "outlinewidth": 0,
             "ticks": ""
            },
            "colorscale": [
             [
              0,
              "#0d0887"
             ],
             [
              0.1111111111111111,
              "#46039f"
             ],
             [
              0.2222222222222222,
              "#7201a8"
             ],
             [
              0.3333333333333333,
              "#9c179e"
             ],
             [
              0.4444444444444444,
              "#bd3786"
             ],
             [
              0.5555555555555556,
              "#d8576b"
             ],
             [
              0.6666666666666666,
              "#ed7953"
             ],
             [
              0.7777777777777778,
              "#fb9f3a"
             ],
             [
              0.8888888888888888,
              "#fdca26"
             ],
             [
              1,
              "#f0f921"
             ]
            ],
            "type": "histogram2dcontour"
           }
          ],
          "mesh3d": [
           {
            "colorbar": {
             "outlinewidth": 0,
             "ticks": ""
            },
            "type": "mesh3d"
           }
          ],
          "parcoords": [
           {
            "line": {
             "colorbar": {
              "outlinewidth": 0,
              "ticks": ""
             }
            },
            "type": "parcoords"
           }
          ],
          "pie": [
           {
            "automargin": true,
            "type": "pie"
           }
          ],
          "scatter": [
           {
            "fillpattern": {
             "fillmode": "overlay",
             "size": 10,
             "solidity": 0.2
            },
            "type": "scatter"
           }
          ],
          "scatter3d": [
           {
            "line": {
             "colorbar": {
              "outlinewidth": 0,
              "ticks": ""
             }
            },
            "marker": {
             "colorbar": {
              "outlinewidth": 0,
              "ticks": ""
             }
            },
            "type": "scatter3d"
           }
          ],
          "scattercarpet": [
           {
            "marker": {
             "colorbar": {
              "outlinewidth": 0,
              "ticks": ""
             }
            },
            "type": "scattercarpet"
           }
          ],
          "scattergeo": [
           {
            "marker": {
             "colorbar": {
              "outlinewidth": 0,
              "ticks": ""
             }
            },
            "type": "scattergeo"
           }
          ],
          "scattergl": [
           {
            "marker": {
             "colorbar": {
              "outlinewidth": 0,
              "ticks": ""
             }
            },
            "type": "scattergl"
           }
          ],
          "scattermapbox": [
           {
            "marker": {
             "colorbar": {
              "outlinewidth": 0,
              "ticks": ""
             }
            },
            "type": "scattermapbox"
           }
          ],
          "scatterpolar": [
           {
            "marker": {
             "colorbar": {
              "outlinewidth": 0,
              "ticks": ""
             }
            },
            "type": "scatterpolar"
           }
          ],
          "scatterpolargl": [
           {
            "marker": {
             "colorbar": {
              "outlinewidth": 0,
              "ticks": ""
             }
            },
            "type": "scatterpolargl"
           }
          ],
          "scatterternary": [
           {
            "marker": {
             "colorbar": {
              "outlinewidth": 0,
              "ticks": ""
             }
            },
            "type": "scatterternary"
           }
          ],
          "surface": [
           {
            "colorbar": {
             "outlinewidth": 0,
             "ticks": ""
            },
            "colorscale": [
             [
              0,
              "#0d0887"
             ],
             [
              0.1111111111111111,
              "#46039f"
             ],
             [
              0.2222222222222222,
              "#7201a8"
             ],
             [
              0.3333333333333333,
              "#9c179e"
             ],
             [
              0.4444444444444444,
              "#bd3786"
             ],
             [
              0.5555555555555556,
              "#d8576b"
             ],
             [
              0.6666666666666666,
              "#ed7953"
             ],
             [
              0.7777777777777778,
              "#fb9f3a"
             ],
             [
              0.8888888888888888,
              "#fdca26"
             ],
             [
              1,
              "#f0f921"
             ]
            ],
            "type": "surface"
           }
          ],
          "table": [
           {
            "cells": {
             "fill": {
              "color": "#EBF0F8"
             },
             "line": {
              "color": "white"
             }
            },
            "header": {
             "fill": {
              "color": "#C8D4E3"
             },
             "line": {
              "color": "white"
             }
            },
            "type": "table"
           }
          ]
         },
         "layout": {
          "annotationdefaults": {
           "arrowcolor": "#2a3f5f",
           "arrowhead": 0,
           "arrowwidth": 1
          },
          "autotypenumbers": "strict",
          "coloraxis": {
           "colorbar": {
            "outlinewidth": 0,
            "ticks": ""
           }
          },
          "colorscale": {
           "diverging": [
            [
             0,
             "#8e0152"
            ],
            [
             0.1,
             "#c51b7d"
            ],
            [
             0.2,
             "#de77ae"
            ],
            [
             0.3,
             "#f1b6da"
            ],
            [
             0.4,
             "#fde0ef"
            ],
            [
             0.5,
             "#f7f7f7"
            ],
            [
             0.6,
             "#e6f5d0"
            ],
            [
             0.7,
             "#b8e186"
            ],
            [
             0.8,
             "#7fbc41"
            ],
            [
             0.9,
             "#4d9221"
            ],
            [
             1,
             "#276419"
            ]
           ],
           "sequential": [
            [
             0,
             "#0d0887"
            ],
            [
             0.1111111111111111,
             "#46039f"
            ],
            [
             0.2222222222222222,
             "#7201a8"
            ],
            [
             0.3333333333333333,
             "#9c179e"
            ],
            [
             0.4444444444444444,
             "#bd3786"
            ],
            [
             0.5555555555555556,
             "#d8576b"
            ],
            [
             0.6666666666666666,
             "#ed7953"
            ],
            [
             0.7777777777777778,
             "#fb9f3a"
            ],
            [
             0.8888888888888888,
             "#fdca26"
            ],
            [
             1,
             "#f0f921"
            ]
           ],
           "sequentialminus": [
            [
             0,
             "#0d0887"
            ],
            [
             0.1111111111111111,
             "#46039f"
            ],
            [
             0.2222222222222222,
             "#7201a8"
            ],
            [
             0.3333333333333333,
             "#9c179e"
            ],
            [
             0.4444444444444444,
             "#bd3786"
            ],
            [
             0.5555555555555556,
             "#d8576b"
            ],
            [
             0.6666666666666666,
             "#ed7953"
            ],
            [
             0.7777777777777778,
             "#fb9f3a"
            ],
            [
             0.8888888888888888,
             "#fdca26"
            ],
            [
             1,
             "#f0f921"
            ]
           ]
          },
          "colorway": [
           "#636efa",
           "#EF553B",
           "#00cc96",
           "#ab63fa",
           "#FFA15A",
           "#19d3f3",
           "#FF6692",
           "#B6E880",
           "#FF97FF",
           "#FECB52"
          ],
          "font": {
           "color": "#2a3f5f"
          },
          "geo": {
           "bgcolor": "white",
           "lakecolor": "white",
           "landcolor": "#E5ECF6",
           "showlakes": true,
           "showland": true,
           "subunitcolor": "white"
          },
          "hoverlabel": {
           "align": "left"
          },
          "hovermode": "closest",
          "mapbox": {
           "style": "light"
          },
          "paper_bgcolor": "white",
          "plot_bgcolor": "#E5ECF6",
          "polar": {
           "angularaxis": {
            "gridcolor": "white",
            "linecolor": "white",
            "ticks": ""
           },
           "bgcolor": "#E5ECF6",
           "radialaxis": {
            "gridcolor": "white",
            "linecolor": "white",
            "ticks": ""
           }
          },
          "scene": {
           "xaxis": {
            "backgroundcolor": "#E5ECF6",
            "gridcolor": "white",
            "gridwidth": 2,
            "linecolor": "white",
            "showbackground": true,
            "ticks": "",
            "zerolinecolor": "white"
           },
           "yaxis": {
            "backgroundcolor": "#E5ECF6",
            "gridcolor": "white",
            "gridwidth": 2,
            "linecolor": "white",
            "showbackground": true,
            "ticks": "",
            "zerolinecolor": "white"
           },
           "zaxis": {
            "backgroundcolor": "#E5ECF6",
            "gridcolor": "white",
            "gridwidth": 2,
            "linecolor": "white",
            "showbackground": true,
            "ticks": "",
            "zerolinecolor": "white"
           }
          },
          "shapedefaults": {
           "line": {
            "color": "#2a3f5f"
           }
          },
          "ternary": {
           "aaxis": {
            "gridcolor": "white",
            "linecolor": "white",
            "ticks": ""
           },
           "baxis": {
            "gridcolor": "white",
            "linecolor": "white",
            "ticks": ""
           },
           "bgcolor": "#E5ECF6",
           "caxis": {
            "gridcolor": "white",
            "linecolor": "white",
            "ticks": ""
           }
          },
          "title": {
           "x": 0.05
          },
          "xaxis": {
           "automargin": true,
           "gridcolor": "white",
           "linecolor": "white",
           "ticks": "",
           "title": {
            "standoff": 15
           },
           "zerolinecolor": "white",
           "zerolinewidth": 2
          },
          "yaxis": {
           "automargin": true,
           "gridcolor": "white",
           "linecolor": "white",
           "ticks": "",
           "title": {
            "standoff": 15
           },
           "zerolinecolor": "white",
           "zerolinewidth": 2
          }
         }
        },
        "title": {
         "text": "Geometry View"
        },
        "xaxis": {
         "scaleanchor": "y",
         "scaleratio": 1
        }
       }
      }
     },
     "metadata": {},
     "output_type": "display_data"
    },
    {
     "data": {
      "application/vnd.plotly.v1+json": {
       "config": {
        "plotlyServerURL": "https://plot.ly"
       },
       "data": [
        {
         "fill": "toself",
         "line": {
          "color": "orange"
         },
         "type": "scatter",
         "x": [
          250,
          239.326,
          239.326,
          236.683,
          239.326,
          238.452,
          236.111,
          233.77,
          232.89600000000002,
          235.538,
          232.89600000000002,
          233.77,
          236.111,
          238.452,
          239.326,
          239.326,
          150,
          150,
          250,
          250,
          249.346,
          248.43200000000002,
          249.5,
          249.5,
          247.469,
          246.976,
          244.94400000000002,
          244.94400000000002,
          246.976,
          247.571,
          247.98,
          248.687,
          248.131,
          247.778,
          246.667,
          246.219,
          243.997,
          243.94400000000002,
          243.94400000000002,
          243.997,
          246.219,
          246.667,
          247.778,
          248.225,
          250,
          250
         ],
         "y": [
          50,
          50,
          4.757,
          0,
          -4.757,
          -5.243,
          -1.03,
          -5.243,
          -4.757,
          0,
          4.757,
          5.243,
          1.029,
          5.243,
          4.757,
          50,
          50,
          -50,
          -50,
          -1.787,
          -3.259,
          -2.852,
          -0.449,
          0.438,
          4.5,
          4.5,
          0.438,
          -0.438,
          -4.5,
          -4.5,
          -4.091,
          -4.798,
          -5.354,
          -5.5,
          -5.5,
          -5.224,
          -0.779,
          -0.556,
          0.556,
          0.779,
          5.224,
          5.5,
          5.5,
          5.224,
          1.673,
          50
         ]
        },
        {
         "fill": "toself",
         "line": {
          "color": "orange"
         },
         "type": "scatter",
         "x": [
          250.5,
          250.447,
          250,
          250,
          250.457,
          250.5,
          250.5
         ],
         "y": [
          0.556,
          0.779,
          1.673,
          -1.787,
          -0.759,
          -0.556,
          0.556
         ]
        },
        {
         "fill": "toself",
         "line": {
          "color": "orange"
         },
         "type": "scatter",
         "x": [
          261.611,
          261.46500000000003,
          260.354,
          260,
          255.55599999999998,
          255.05599999999998,
          255.05599999999998,
          256.056,
          256.056,
          259.793,
          260.611,
          260.611,
          259.793,
          257.5,
          257.06,
          260.671,
          261.551,
          258.339,
          260,
          260.354,
          261.46500000000003,
          261.611,
          261.611
         ],
         "y": [
          3.889,
          4.242,
          5.354,
          5.5,
          5.5,
          5,
          -5,
          -5,
          4.5,
          4.5,
          3.682,
          2.985,
          2.167,
          2.167,
          1.429,
          -5.238,
          -4.762,
          1.167,
          1.167,
          1.313,
          2.424,
          2.778,
          3.889
         ]
        },
        {
         "fill": "toself",
         "line": {
          "color": "green"
         },
         "type": "scatter",
         "x": [
          232.896,
          150,
          150,
          232.896,
          232.896
         ],
         "y": [
          50,
          50,
          -50,
          -50,
          50
         ]
        },
        {
         "fill": "toself",
         "line": {
          "color": "green"
         },
         "type": "scatter",
         "x": [
          233.77,
          232.896,
          232.896,
          233.77,
          233.77
         ],
         "y": [
          -5.243,
          -4.757,
          -50,
          -50,
          -5.243
         ]
        },
        {
         "fill": "toself",
         "line": {
          "color": "green"
         },
         "type": "scatter",
         "x": [
          233.77,
          233.77,
          232.896,
          232.896,
          233.77
         ],
         "y": [
          50,
          5.243,
          4.757,
          50,
          50
         ]
        },
        {
         "fill": "toself",
         "line": {
          "color": "green"
         },
         "type": "scatter",
         "x": [
          235.538,
          232.896,
          232.896,
          235.538
         ],
         "y": [
          0,
          -4.757,
          4.757,
          0
         ]
        },
        {
         "fill": "toself",
         "line": {
          "color": "green"
         },
         "type": "scatter",
         "x": [
          236.111,
          233.77,
          233.77,
          236.111,
          236.111
         ],
         "y": [
          -1.03,
          -5.243,
          -50,
          -50,
          -1.03
         ]
        },
        {
         "fill": "toself",
         "line": {
          "color": "green"
         },
         "type": "scatter",
         "x": [
          236.111,
          233.77,
          233.77,
          236.111,
          236.111
         ],
         "y": [
          50,
          50,
          5.243,
          1.029,
          50
         ]
        },
        {
         "fill": "toself",
         "line": {
          "color": "green"
         },
         "type": "scatter",
         "x": [
          238.452,
          236.111,
          236.111,
          238.452,
          238.452
         ],
         "y": [
          -5.243,
          -1.03,
          -50,
          -50,
          -5.243
         ]
        },
        {
         "fill": "toself",
         "line": {
          "color": "green"
         },
         "type": "scatter",
         "x": [
          238.452,
          236.111,
          236.111,
          238.452,
          238.452
         ],
         "y": [
          50,
          50,
          1.029,
          5.243,
          50
         ]
        },
        {
         "fill": "toself",
         "line": {
          "color": "green"
         },
         "type": "scatter",
         "x": [
          239.326,
          238.452,
          238.452,
          239.326,
          239.326
         ],
         "y": [
          -4.757,
          -5.243,
          -50,
          -50,
          -4.757
         ]
        },
        {
         "fill": "toself",
         "line": {
          "color": "green"
         },
         "type": "scatter",
         "x": [
          239.326,
          236.683,
          239.326,
          239.326
         ],
         "y": [
          4.757,
          0,
          -4.757,
          4.757
         ]
        },
        {
         "fill": "toself",
         "line": {
          "color": "green"
         },
         "type": "scatter",
         "x": [
          239.326,
          238.452,
          238.452,
          239.326,
          239.326
         ],
         "y": [
          50,
          50,
          5.243,
          4.757,
          50
         ]
        },
        {
         "fill": "toself",
         "line": {
          "color": "green"
         },
         "type": "scatter",
         "x": [
          243.944,
          239.326,
          239.326,
          243.944,
          243.944,
          243.944
         ],
         "y": [
          50,
          50,
          -50,
          -50,
          0.556,
          50
         ]
        },
        {
         "fill": "toself",
         "line": {
          "color": "green"
         },
         "type": "scatter",
         "x": [
          243.997,
          243.944,
          243.944,
          243.997,
          243.997
         ],
         "y": [
          -0.779,
          -0.556,
          -50,
          -50,
          -0.779
         ]
        },
        {
         "fill": "toself",
         "line": {
          "color": "green"
         },
         "type": "scatter",
         "x": [
          243.997,
          243.944,
          243.944,
          243.997,
          243.997
         ],
         "y": [
          50,
          50,
          0.556,
          0.779,
          50
         ]
        },
        {
         "fill": "toself",
         "line": {
          "color": "green"
         },
         "type": "scatter",
         "x": [
          246.219,
          243.997,
          243.997,
          246.219,
          246.219
         ],
         "y": [
          -5.224,
          -0.779,
          -50,
          -50,
          -5.224
         ]
        },
        {
         "fill": "toself",
         "line": {
          "color": "green"
         },
         "type": "scatter",
         "x": [
          246.219,
          243.997,
          243.997,
          246.219,
          246.219
         ],
         "y": [
          50,
          50,
          0.779,
          5.224,
          50
         ]
        },
        {
         "fill": "toself",
         "line": {
          "color": "green"
         },
         "type": "scatter",
         "x": [
          246.667,
          246.219,
          246.219,
          246.667,
          246.667
         ],
         "y": [
          -5.5,
          -5.224,
          -50,
          -50,
          -5.5
         ]
        },
        {
         "fill": "toself",
         "line": {
          "color": "green"
         },
         "type": "scatter",
         "x": [
          246.667,
          246.219,
          246.219,
          246.667,
          246.667
         ],
         "y": [
          50,
          50,
          5.224,
          5.5,
          50
         ]
        },
        {
         "fill": "toself",
         "line": {
          "color": "green"
         },
         "type": "scatter",
         "x": [
          246.976,
          244.944,
          244.944,
          246.976,
          246.976
         ],
         "y": [
          4.5,
          0.438,
          -0.438,
          -4.5,
          4.5
         ]
        },
        {
         "fill": "toself",
         "line": {
          "color": "green"
         },
         "type": "scatter",
         "x": [
          247.469,
          246.976,
          246.976,
          247.469,
          247.469
         ],
         "y": [
          4.5,
          4.5,
          -4.5,
          -4.5,
          4.5
         ]
        },
        {
         "fill": "toself",
         "line": {
          "color": "green"
         },
         "type": "scatter",
         "x": [
          247.571,
          247.469,
          247.469,
          247.571,
          247.571
         ],
         "y": [
          4.296,
          4.5,
          -4.5,
          -4.5,
          4.296
         ]
        },
        {
         "fill": "toself",
         "line": {
          "color": "green"
         },
         "type": "scatter",
         "x": [
          247.778,
          246.667,
          246.667,
          247.778,
          247.778
         ],
         "y": [
          -5.5,
          -5.5,
          -50,
          -50,
          -5.5
         ]
        },
        {
         "fill": "toself",
         "line": {
          "color": "green"
         },
         "type": "scatter",
         "x": [
          247.778,
          246.667,
          246.667,
          247.778,
          247.778
         ],
         "y": [
          50,
          50,
          5.5,
          5.5,
          50
         ]
        },
        {
         "fill": "toself",
         "line": {
          "color": "green"
         },
         "type": "scatter",
         "x": [
          247.98,
          247.571,
          247.571,
          247.98,
          247.98
         ],
         "y": [
          3.478,
          4.296,
          -4.5,
          -4.091,
          3.478
         ]
        },
        {
         "fill": "toself",
         "line": {
          "color": "green"
         },
         "type": "scatter",
         "x": [
          248.131,
          247.778,
          247.778,
          248.131,
          248.131
         ],
         "y": [
          -5.354,
          -5.5,
          -50,
          -50,
          -5.354
         ]
        },
        {
         "fill": "toself",
         "line": {
          "color": "green"
         },
         "type": "scatter",
         "x": [
          248.225,
          247.778,
          247.778,
          248.225,
          248.225
         ],
         "y": [
          50,
          50,
          5.5,
          5.224,
          50
         ]
        },
        {
         "fill": "toself",
         "line": {
          "color": "green"
         },
         "type": "scatter",
         "x": [
          248.432,
          247.98,
          247.98,
          248.432,
          248.432
         ],
         "y": [
          2.574,
          3.478,
          -4.091,
          -4.543,
          2.574
         ]
        },
        {
         "fill": "toself",
         "line": {
          "color": "green"
         },
         "type": "scatter",
         "x": [
          248.687,
          248.131,
          248.131,
          248.687,
          248.687
         ],
         "y": [
          -4.798,
          -5.354,
          -50,
          -50,
          -4.798
         ]
        },
        {
         "fill": "toself",
         "line": {
          "color": "green"
         },
         "type": "scatter",
         "x": [
          248.687,
          248.432,
          248.432,
          248.687,
          248.687
         ],
         "y": [
          -2.965,
          -2.852,
          -4.543,
          -4.798,
          -2.965
         ]
        },
        {
         "fill": "toself",
         "line": {
          "color": "green"
         },
         "type": "scatter",
         "x": [
          249.346,
          248.687,
          248.687,
          249.346,
          249.346
         ],
         "y": [
          -3.259,
          -2.965,
          -50,
          -50,
          -3.259
         ]
        },
        {
         "fill": "toself",
         "line": {
          "color": "green"
         },
         "type": "scatter",
         "x": [
          249.5,
          249.5,
          248.432,
          248.432,
          249.5
         ],
         "y": [
          0.438,
          -0.449,
          -2.852,
          2.574,
          0.438
         ]
        },
        {
         "fill": "toself",
         "line": {
          "color": "green"
         },
         "type": "scatter",
         "x": [
          250,
          249.346,
          249.346,
          250,
          250
         ],
         "y": [
          -1.787,
          -3.259,
          -50,
          -50,
          -1.787
         ]
        },
        {
         "fill": "toself",
         "line": {
          "color": "green"
         },
         "type": "scatter",
         "x": [
          250,
          248.225,
          248.225,
          250,
          250
         ],
         "y": [
          50,
          50,
          5.224,
          1.673,
          50
         ]
        },
        {
         "fill": "toself",
         "line": {
          "color": "green"
         },
         "type": "scatter",
         "x": [
          250.447,
          250,
          250,
          250.447,
          250.447
         ],
         "y": [
          0.779,
          1.673,
          -1.787,
          -0.781,
          0.779
         ]
        },
        {
         "fill": "toself",
         "line": {
          "color": "green"
         },
         "type": "scatter",
         "x": [
          250.457,
          250.447,
          250.447,
          250.457,
          250.457
         ],
         "y": [
          0.736,
          0.779,
          -0.781,
          -0.759,
          0.736
         ]
        },
        {
         "fill": "toself",
         "line": {
          "color": "green"
         },
         "type": "scatter",
         "x": [
          250.5,
          250.457,
          250.457,
          250.5,
          250.5
         ],
         "y": [
          0.556,
          0.736,
          -0.759,
          -0.556,
          0.556
         ]
        },
        {
         "fill": "toself",
         "line": {
          "color": "green"
         },
         "type": "scatter",
         "x": [
          255.556,
          255.056,
          255.056,
          255.556,
          255.556
         ],
         "y": [
          5.5,
          5,
          -5,
          -5,
          5.5
         ]
        },
        {
         "fill": "toself",
         "line": {
          "color": "green"
         },
         "type": "scatter",
         "x": [
          256.056,
          255.556,
          255.556,
          256.056,
          256.056,
          256.056
         ],
         "y": [
          5.5,
          5.5,
          -5,
          -5,
          4.5,
          5.5
         ]
        },
        {
         "fill": "toself",
         "line": {
          "color": "green"
         },
         "type": "scatter",
         "x": [
          257.5,
          257.06,
          257.5,
          257.5
         ],
         "y": [
          2.167,
          1.429,
          0.616,
          2.167
         ]
        },
        {
         "fill": "toself",
         "line": {
          "color": "green"
         },
         "type": "scatter",
         "x": [
          258.339,
          257.5,
          257.5,
          258.339,
          258.339
         ],
         "y": [
          2.167,
          2.167,
          0.616,
          -0.932,
          2.167
         ]
        },
        {
         "fill": "toself",
         "line": {
          "color": "green"
         },
         "type": "scatter",
         "x": [
          259.793,
          259.793,
          258.339,
          258.339,
          259.793
         ],
         "y": [
          2.167,
          1.167,
          1.167,
          2.167,
          2.167
         ]
        },
        {
         "fill": "toself",
         "line": {
          "color": "green"
         },
         "type": "scatter",
         "x": [
          259.793,
          256.056,
          256.056,
          259.793,
          259.793
         ],
         "y": [
          5.5,
          5.5,
          4.5,
          4.5,
          5.5
         ]
        },
        {
         "fill": "toself",
         "line": {
          "color": "green"
         },
         "type": "scatter",
         "x": [
          260,
          259.793,
          259.793,
          260,
          260
         ],
         "y": [
          2.374,
          2.167,
          1.167,
          1.167,
          2.374
         ]
        },
        {
         "fill": "toself",
         "line": {
          "color": "green"
         },
         "type": "scatter",
         "x": [
          260,
          259.793,
          259.793,
          260,
          260
         ],
         "y": [
          5.5,
          5.5,
          4.5,
          4.293,
          5.5
         ]
        },
        {
         "fill": "toself",
         "line": {
          "color": "green"
         },
         "type": "scatter",
         "x": [
          260.354,
          260,
          260,
          260.354,
          260.354
         ],
         "y": [
          2.728,
          2.374,
          1.167,
          1.313,
          2.728
         ]
        },
        {
         "fill": "toself",
         "line": {
          "color": "green"
         },
         "type": "scatter",
         "x": [
          260.354,
          260,
          260,
          260.354,
          260.354
         ],
         "y": [
          5.354,
          5.5,
          4.293,
          3.939,
          5.354
         ]
        },
        {
         "fill": "toself",
         "line": {
          "color": "green"
         },
         "type": "scatter",
         "x": [
          260.611,
          260.354,
          260.354,
          260.611,
          260.611
         ],
         "y": [
          2.985,
          2.728,
          1.313,
          1.57,
          2.985
         ]
        },
        {
         "fill": "toself",
         "line": {
          "color": "green"
         },
         "type": "scatter",
         "x": [
          260.611,
          260.354,
          260.354,
          260.611,
          260.611
         ],
         "y": [
          5.096,
          5.354,
          3.939,
          3.682,
          5.096
         ]
        },
        {
         "fill": "toself",
         "line": {
          "color": "green"
         },
         "type": "scatter",
         "x": [
          260.671,
          258.339,
          258.339,
          260.671,
          260.671
         ],
         "y": [
          -3.137,
          1.167,
          -0.932,
          -5.238,
          -3.137
         ]
        },
        {
         "fill": "toself",
         "line": {
          "color": "green"
         },
         "type": "scatter",
         "x": [
          261.465,
          260.611,
          260.611,
          261.465,
          261.465
         ],
         "y": [
          4.242,
          5.096,
          1.57,
          2.424,
          4.242
         ]
        },
        {
         "fill": "toself",
         "line": {
          "color": "green"
         },
         "type": "scatter",
         "x": [
          261.551,
          260.671,
          260.671,
          261.551
         ],
         "y": [
          -4.762,
          -3.137,
          -5.238,
          -4.762
         ]
        },
        {
         "fill": "toself",
         "line": {
          "color": "green"
         },
         "type": "scatter",
         "x": [
          261.611,
          261.465,
          261.465,
          261.611,
          261.611
         ],
         "y": [
          3.889,
          4.242,
          2.424,
          2.778,
          3.889
         ]
        }
       ],
       "layout": {
        "showlegend": false,
        "template": {
         "data": {
          "bar": [
           {
            "error_x": {
             "color": "#2a3f5f"
            },
            "error_y": {
             "color": "#2a3f5f"
            },
            "marker": {
             "line": {
              "color": "#E5ECF6",
              "width": 0.5
             },
             "pattern": {
              "fillmode": "overlay",
              "size": 10,
              "solidity": 0.2
             }
            },
            "type": "bar"
           }
          ],
          "barpolar": [
           {
            "marker": {
             "line": {
              "color": "#E5ECF6",
              "width": 0.5
             },
             "pattern": {
              "fillmode": "overlay",
              "size": 10,
              "solidity": 0.2
             }
            },
            "type": "barpolar"
           }
          ],
          "carpet": [
           {
            "aaxis": {
             "endlinecolor": "#2a3f5f",
             "gridcolor": "white",
             "linecolor": "white",
             "minorgridcolor": "white",
             "startlinecolor": "#2a3f5f"
            },
            "baxis": {
             "endlinecolor": "#2a3f5f",
             "gridcolor": "white",
             "linecolor": "white",
             "minorgridcolor": "white",
             "startlinecolor": "#2a3f5f"
            },
            "type": "carpet"
           }
          ],
          "choropleth": [
           {
            "colorbar": {
             "outlinewidth": 0,
             "ticks": ""
            },
            "type": "choropleth"
           }
          ],
          "contour": [
           {
            "colorbar": {
             "outlinewidth": 0,
             "ticks": ""
            },
            "colorscale": [
             [
              0,
              "#0d0887"
             ],
             [
              0.1111111111111111,
              "#46039f"
             ],
             [
              0.2222222222222222,
              "#7201a8"
             ],
             [
              0.3333333333333333,
              "#9c179e"
             ],
             [
              0.4444444444444444,
              "#bd3786"
             ],
             [
              0.5555555555555556,
              "#d8576b"
             ],
             [
              0.6666666666666666,
              "#ed7953"
             ],
             [
              0.7777777777777778,
              "#fb9f3a"
             ],
             [
              0.8888888888888888,
              "#fdca26"
             ],
             [
              1,
              "#f0f921"
             ]
            ],
            "type": "contour"
           }
          ],
          "contourcarpet": [
           {
            "colorbar": {
             "outlinewidth": 0,
             "ticks": ""
            },
            "type": "contourcarpet"
           }
          ],
          "heatmap": [
           {
            "colorbar": {
             "outlinewidth": 0,
             "ticks": ""
            },
            "colorscale": [
             [
              0,
              "#0d0887"
             ],
             [
              0.1111111111111111,
              "#46039f"
             ],
             [
              0.2222222222222222,
              "#7201a8"
             ],
             [
              0.3333333333333333,
              "#9c179e"
             ],
             [
              0.4444444444444444,
              "#bd3786"
             ],
             [
              0.5555555555555556,
              "#d8576b"
             ],
             [
              0.6666666666666666,
              "#ed7953"
             ],
             [
              0.7777777777777778,
              "#fb9f3a"
             ],
             [
              0.8888888888888888,
              "#fdca26"
             ],
             [
              1,
              "#f0f921"
             ]
            ],
            "type": "heatmap"
           }
          ],
          "heatmapgl": [
           {
            "colorbar": {
             "outlinewidth": 0,
             "ticks": ""
            },
            "colorscale": [
             [
              0,
              "#0d0887"
             ],
             [
              0.1111111111111111,
              "#46039f"
             ],
             [
              0.2222222222222222,
              "#7201a8"
             ],
             [
              0.3333333333333333,
              "#9c179e"
             ],
             [
              0.4444444444444444,
              "#bd3786"
             ],
             [
              0.5555555555555556,
              "#d8576b"
             ],
             [
              0.6666666666666666,
              "#ed7953"
             ],
             [
              0.7777777777777778,
              "#fb9f3a"
             ],
             [
              0.8888888888888888,
              "#fdca26"
             ],
             [
              1,
              "#f0f921"
             ]
            ],
            "type": "heatmapgl"
           }
          ],
          "histogram": [
           {
            "marker": {
             "pattern": {
              "fillmode": "overlay",
              "size": 10,
              "solidity": 0.2
             }
            },
            "type": "histogram"
           }
          ],
          "histogram2d": [
           {
            "colorbar": {
             "outlinewidth": 0,
             "ticks": ""
            },
            "colorscale": [
             [
              0,
              "#0d0887"
             ],
             [
              0.1111111111111111,
              "#46039f"
             ],
             [
              0.2222222222222222,
              "#7201a8"
             ],
             [
              0.3333333333333333,
              "#9c179e"
             ],
             [
              0.4444444444444444,
              "#bd3786"
             ],
             [
              0.5555555555555556,
              "#d8576b"
             ],
             [
              0.6666666666666666,
              "#ed7953"
             ],
             [
              0.7777777777777778,
              "#fb9f3a"
             ],
             [
              0.8888888888888888,
              "#fdca26"
             ],
             [
              1,
              "#f0f921"
             ]
            ],
            "type": "histogram2d"
           }
          ],
          "histogram2dcontour": [
           {
            "colorbar": {
             "outlinewidth": 0,
             "ticks": ""
            },
            "colorscale": [
             [
              0,
              "#0d0887"
             ],
             [
              0.1111111111111111,
              "#46039f"
             ],
             [
              0.2222222222222222,
              "#7201a8"
             ],
             [
              0.3333333333333333,
              "#9c179e"
             ],
             [
              0.4444444444444444,
              "#bd3786"
             ],
             [
              0.5555555555555556,
              "#d8576b"
             ],
             [
              0.6666666666666666,
              "#ed7953"
             ],
             [
              0.7777777777777778,
              "#fb9f3a"
             ],
             [
              0.8888888888888888,
              "#fdca26"
             ],
             [
              1,
              "#f0f921"
             ]
            ],
            "type": "histogram2dcontour"
           }
          ],
          "mesh3d": [
           {
            "colorbar": {
             "outlinewidth": 0,
             "ticks": ""
            },
            "type": "mesh3d"
           }
          ],
          "parcoords": [
           {
            "line": {
             "colorbar": {
              "outlinewidth": 0,
              "ticks": ""
             }
            },
            "type": "parcoords"
           }
          ],
          "pie": [
           {
            "automargin": true,
            "type": "pie"
           }
          ],
          "scatter": [
           {
            "fillpattern": {
             "fillmode": "overlay",
             "size": 10,
             "solidity": 0.2
            },
            "type": "scatter"
           }
          ],
          "scatter3d": [
           {
            "line": {
             "colorbar": {
              "outlinewidth": 0,
              "ticks": ""
             }
            },
            "marker": {
             "colorbar": {
              "outlinewidth": 0,
              "ticks": ""
             }
            },
            "type": "scatter3d"
           }
          ],
          "scattercarpet": [
           {
            "marker": {
             "colorbar": {
              "outlinewidth": 0,
              "ticks": ""
             }
            },
            "type": "scattercarpet"
           }
          ],
          "scattergeo": [
           {
            "marker": {
             "colorbar": {
              "outlinewidth": 0,
              "ticks": ""
             }
            },
            "type": "scattergeo"
           }
          ],
          "scattergl": [
           {
            "marker": {
             "colorbar": {
              "outlinewidth": 0,
              "ticks": ""
             }
            },
            "type": "scattergl"
           }
          ],
          "scattermapbox": [
           {
            "marker": {
             "colorbar": {
              "outlinewidth": 0,
              "ticks": ""
             }
            },
            "type": "scattermapbox"
           }
          ],
          "scatterpolar": [
           {
            "marker": {
             "colorbar": {
              "outlinewidth": 0,
              "ticks": ""
             }
            },
            "type": "scatterpolar"
           }
          ],
          "scatterpolargl": [
           {
            "marker": {
             "colorbar": {
              "outlinewidth": 0,
              "ticks": ""
             }
            },
            "type": "scatterpolargl"
           }
          ],
          "scatterternary": [
           {
            "marker": {
             "colorbar": {
              "outlinewidth": 0,
              "ticks": ""
             }
            },
            "type": "scatterternary"
           }
          ],
          "surface": [
           {
            "colorbar": {
             "outlinewidth": 0,
             "ticks": ""
            },
            "colorscale": [
             [
              0,
              "#0d0887"
             ],
             [
              0.1111111111111111,
              "#46039f"
             ],
             [
              0.2222222222222222,
              "#7201a8"
             ],
             [
              0.3333333333333333,
              "#9c179e"
             ],
             [
              0.4444444444444444,
              "#bd3786"
             ],
             [
              0.5555555555555556,
              "#d8576b"
             ],
             [
              0.6666666666666666,
              "#ed7953"
             ],
             [
              0.7777777777777778,
              "#fb9f3a"
             ],
             [
              0.8888888888888888,
              "#fdca26"
             ],
             [
              1,
              "#f0f921"
             ]
            ],
            "type": "surface"
           }
          ],
          "table": [
           {
            "cells": {
             "fill": {
              "color": "#EBF0F8"
             },
             "line": {
              "color": "white"
             }
            },
            "header": {
             "fill": {
              "color": "#C8D4E3"
             },
             "line": {
              "color": "white"
             }
            },
            "type": "table"
           }
          ]
         },
         "layout": {
          "annotationdefaults": {
           "arrowcolor": "#2a3f5f",
           "arrowhead": 0,
           "arrowwidth": 1
          },
          "autotypenumbers": "strict",
          "coloraxis": {
           "colorbar": {
            "outlinewidth": 0,
            "ticks": ""
           }
          },
          "colorscale": {
           "diverging": [
            [
             0,
             "#8e0152"
            ],
            [
             0.1,
             "#c51b7d"
            ],
            [
             0.2,
             "#de77ae"
            ],
            [
             0.3,
             "#f1b6da"
            ],
            [
             0.4,
             "#fde0ef"
            ],
            [
             0.5,
             "#f7f7f7"
            ],
            [
             0.6,
             "#e6f5d0"
            ],
            [
             0.7,
             "#b8e186"
            ],
            [
             0.8,
             "#7fbc41"
            ],
            [
             0.9,
             "#4d9221"
            ],
            [
             1,
             "#276419"
            ]
           ],
           "sequential": [
            [
             0,
             "#0d0887"
            ],
            [
             0.1111111111111111,
             "#46039f"
            ],
            [
             0.2222222222222222,
             "#7201a8"
            ],
            [
             0.3333333333333333,
             "#9c179e"
            ],
            [
             0.4444444444444444,
             "#bd3786"
            ],
            [
             0.5555555555555556,
             "#d8576b"
            ],
            [
             0.6666666666666666,
             "#ed7953"
            ],
            [
             0.7777777777777778,
             "#fb9f3a"
            ],
            [
             0.8888888888888888,
             "#fdca26"
            ],
            [
             1,
             "#f0f921"
            ]
           ],
           "sequentialminus": [
            [
             0,
             "#0d0887"
            ],
            [
             0.1111111111111111,
             "#46039f"
            ],
            [
             0.2222222222222222,
             "#7201a8"
            ],
            [
             0.3333333333333333,
             "#9c179e"
            ],
            [
             0.4444444444444444,
             "#bd3786"
            ],
            [
             0.5555555555555556,
             "#d8576b"
            ],
            [
             0.6666666666666666,
             "#ed7953"
            ],
            [
             0.7777777777777778,
             "#fb9f3a"
            ],
            [
             0.8888888888888888,
             "#fdca26"
            ],
            [
             1,
             "#f0f921"
            ]
           ]
          },
          "colorway": [
           "#636efa",
           "#EF553B",
           "#00cc96",
           "#ab63fa",
           "#FFA15A",
           "#19d3f3",
           "#FF6692",
           "#B6E880",
           "#FF97FF",
           "#FECB52"
          ],
          "font": {
           "color": "#2a3f5f"
          },
          "geo": {
           "bgcolor": "white",
           "lakecolor": "white",
           "landcolor": "#E5ECF6",
           "showlakes": true,
           "showland": true,
           "subunitcolor": "white"
          },
          "hoverlabel": {
           "align": "left"
          },
          "hovermode": "closest",
          "mapbox": {
           "style": "light"
          },
          "paper_bgcolor": "white",
          "plot_bgcolor": "#E5ECF6",
          "polar": {
           "angularaxis": {
            "gridcolor": "white",
            "linecolor": "white",
            "ticks": ""
           },
           "bgcolor": "#E5ECF6",
           "radialaxis": {
            "gridcolor": "white",
            "linecolor": "white",
            "ticks": ""
           }
          },
          "scene": {
           "xaxis": {
            "backgroundcolor": "#E5ECF6",
            "gridcolor": "white",
            "gridwidth": 2,
            "linecolor": "white",
            "showbackground": true,
            "ticks": "",
            "zerolinecolor": "white"
           },
           "yaxis": {
            "backgroundcolor": "#E5ECF6",
            "gridcolor": "white",
            "gridwidth": 2,
            "linecolor": "white",
            "showbackground": true,
            "ticks": "",
            "zerolinecolor": "white"
           },
           "zaxis": {
            "backgroundcolor": "#E5ECF6",
            "gridcolor": "white",
            "gridwidth": 2,
            "linecolor": "white",
            "showbackground": true,
            "ticks": "",
            "zerolinecolor": "white"
           }
          },
          "shapedefaults": {
           "line": {
            "color": "#2a3f5f"
           }
          },
          "ternary": {
           "aaxis": {
            "gridcolor": "white",
            "linecolor": "white",
            "ticks": ""
           },
           "baxis": {
            "gridcolor": "white",
            "linecolor": "white",
            "ticks": ""
           },
           "bgcolor": "#E5ECF6",
           "caxis": {
            "gridcolor": "white",
            "linecolor": "white",
            "ticks": ""
           }
          },
          "title": {
           "x": 0.05
          },
          "xaxis": {
           "automargin": true,
           "gridcolor": "white",
           "linecolor": "white",
           "ticks": "",
           "title": {
            "standoff": 15
           },
           "zerolinecolor": "white",
           "zerolinewidth": 2
          },
          "yaxis": {
           "automargin": true,
           "gridcolor": "white",
           "linecolor": "white",
           "ticks": "",
           "title": {
            "standoff": 15
           },
           "zerolinecolor": "white",
           "zerolinewidth": 2
          }
         }
        },
        "title": {
         "text": "Geometry View"
        },
        "xaxis": {
         "scaleanchor": "y",
         "scaleratio": 1
        }
       }
      }
     },
     "metadata": {},
     "output_type": "display_data"
    }
   ],
   "source": [
    "# Trapezoid slicing, useful for some e-beam export\n",
    "trapz = text2.copy()\n",
    "GeomViewPlotly(trapz)\n",
    "trapz.trapezoids(1)\n",
    "GeomViewPlotly(text2+trapz.copy().set_layer(2))    \n",
    "trapz.translate(150, 0)\n",
    "geomE+=trapz"
   ]
  },
  {
   "cell_type": "code",
   "execution_count": 38,
   "metadata": {},
   "outputs": [
    {
     "name": "stdout",
     "output_type": "stream",
     "text": [
      "Opened 04_Tutorial_Boolean.gds\n",
      "Writing structure: CELL00\n",
      "Writing to GDS complete.\n"
     ]
    }
   ],
   "source": [
    "# Union, we could re-unite all trapezoids in the previous\n",
    "uni1 = trapz.copy()\n",
    "uni1.boolean_union(1)\n",
    "uni1.translate(150, 0)\n",
    "geomE+=uni1\n",
    "themask.addToMainCell(geomE)\n",
    "themask.exportGDS()\n",
    "\n"
   ]
  },
  {
   "cell_type": "code",
   "execution_count": 39,
   "metadata": {},
   "outputs": [
    {
     "name": "stdout",
     "output_type": "stream",
     "text": [
      "Opened 04_Tutorial_Boolean.gds\n",
      "Writing structure: CELL00\n",
      "Writing to GDS complete.\n"
     ]
    }
   ],
   "source": [
    "# Just for fun, outlining the last result\n",
    "out1 = uni1.copy()\n",
    "out1.poly_outlining(1, 1)\n",
    "out1.translate(150, 0)\n",
    "geomE+=out1\n",
    "\n",
    "# Let's add all to main cell\n",
    "themask.addToMainCell(geomE)    \n",
    "\n",
    "# Export to GDS\n",
    "themask.exportGDS()\n",
    "\n",
    "# Finished!\n"
   ]
  },
  {
   "cell_type": "markdown",
   "metadata": {},
   "source": [
    "# Tutorial 5\n"
   ]
  },
  {
   "cell_type": "code",
   "execution_count": 40,
   "metadata": {},
   "outputs": [],
   "source": [
    "# In this tutorial we look into the samplemaker device architecture.\n",
    "# It allows us to create library parts that can be interconnected, iterated into tables, etc..\n",
    "\n",
    "# Let's import basic stuff\n",
    "import samplemaker.layout as smlay # used for layout \n",
    "import samplemaker.makers as sm # used for drawing\n",
    "# We need the device class\n",
    "from samplemaker.devices import Device\n",
    "# And the device inspection tool\n",
    "from samplemaker.viewers import DeviceInspect"
   ]
  },
  {
   "cell_type": "code",
   "execution_count": 41,
   "metadata": {},
   "outputs": [],
   "source": [
    "# Create a simple mask layout\n",
    "themask = smlay.Mask(\"05_Tutorial_Devices\")\n",
    "\n",
    "# Empty geometry\n",
    "geomE = sm.GeomGroup()\n",
    "\n",
    "# We will take as example a device called free-free membrane\n",
    "# 10.1103/PhysRevB.98.155316\n",
    "# We draw a rectangular membrane supported by tethers\n",
    "# and use boolean operations to create the negative to be etched\n",
    "# Instead of typing all code in the main script, we create a parametric device\n",
    "# by deriving from the base class Device, which we imported earlier\n"
   ]
  },
  {
   "cell_type": "code",
   "execution_count": 42,
   "metadata": {},
   "outputs": [],
   "source": [
    "class FreeFreeMembrane(Device):\n",
    "    # We need to implement a few mandatory functions here:\n",
    "    def initialize(self):\n",
    "        # This function setups some variable, like the unique identifier name\n",
    "        self.set_name(\"CUSTOM_FFM\")\n",
    "        # Also add a description, useful for documenting later\n",
    "        self.set_description(\"Free free membrane as in 10.1103/PhysRevB.98.155316, etc etc\")\n",
    "                \n",
    "    def parameters(self):\n",
    "        # define all the paramters of the device and their default values.\n",
    "        # You can specify what type the parameter has and what it the minimum-maximum allowed values\n",
    "        # Default is float and range (0,infinity) for all parameters.\n",
    "        self.addparameter(\"L\", 40, \"Length of the membrane\", param_type=float, param_range=(0.5,150))\n",
    "        self.addparameter(\"W\", 12.5, \"Width of the membrane\")\n",
    "        self.addparameter(\"tetW\", 2, \"Tether width\")\n",
    "        self.addparameter(\"tetOff\", 11, \"Tether offset from the center\")\n",
    "        self.addparameter(\"R\", 30, \"Support ring radius\")\n",
    "        \n",
    "    def geom(self):\n",
    "        # This is where we place the commands for drawing!\n",
    "        # This function should return a GeomGroup\n",
    "        \n",
    "        # we can fetch the parameters first to shorten the notation\n",
    "        # note that you can choose whetner a type cast should be made (i.e. forcing the parameter to be\n",
    "        # of the type specified in the addparameter command) and if it should be clipped in the allowed range. \n",
    "        p = self.get_params(cast_types=True,clip_in_range=True)\n",
    "        # Draw the membrane\n",
    "        mem = sm.make_rect(0,0,p[\"W\"],p[\"L\"])\n",
    "        # Draw tether\n",
    "        tet = sm.make_rect(0,p[\"tetOff\"],p[\"R\"]*2,p[\"tetW\"])\n",
    "        # Mirror to get the second one\n",
    "        tet2 = tet.copy()\n",
    "        tet2.mirrorY(0)\n",
    "        mem+=tet+tet2\n",
    "        # Support ring\n",
    "        ring = sm.make_circle(0, 0, p[\"R\"],to_poly=True,vertices=64)\n",
    "        # boolean\n",
    "        ring.boolean_difference(mem, 1, 1)\n",
    "        return ring"
   ]
  },
  {
   "cell_type": "code",
   "execution_count": 43,
   "metadata": {},
   "outputs": [
    {
     "data": {
      "image/png": "[encoded data removed]",
      "text/plain": [
       "<Figure size 640x480 with 6 Axes>"
      ]
     },
     "metadata": {},
     "output_type": "display_data"
    }
   ],
   "source": [
    "# That's all, we now have a device that we can instantiate multiple times with diffrerent parameters!\n",
    "\n",
    "# You can call the build method in Device to instantiate your class object\n",
    "ffm_dev = FreeFreeMembrane.build()\n",
    "\n",
    "# Before instantiating the device, we can use the DeviceInspect() command to \n",
    "# open a graphical interface to test the parameters.\n",
    "# It is a good idea to move the sliders of all the parameters\n",
    "# and check if the intended result is obtained.\n",
    "DeviceInspect(ffm_dev)"
   ]
  },
  {
   "cell_type": "code",
   "execution_count": 44,
   "metadata": {},
   "outputs": [
    {
     "name": "stdout",
     "output_type": "stream",
     "text": [
      "Opened 05_Tutorial_Devices.gds\n",
      "Writing structure: CUSTOM_FFM_0002\n",
      "Writing structure: CELL00\n",
      "Writing to GDS complete.\n"
     ]
    }
   ],
   "source": [
    "# Now let's see how to create a geometry and add it to the main cell. \n",
    "# Now we can change parameters\n",
    "ffm_dev.set_param(\"L\",42)\n",
    "# And now we can get the geometry. Use the run() command\n",
    "geomE += ffm_dev.run()\n",
    "# TADA! Note that the device has been automatically placed into a SREF, so you can reuse it in your code\n",
    "# In the next tutorial we will see how to organize devices in collections and instantiate them in tables\n",
    "\n",
    "# Let's add all to main cell\n",
    "themask.addToMainCell(geomE)    \n",
    "\n",
    "# Export to GDS\n",
    "themask.exportGDS()\n",
    "\n",
    "# Finished!"
   ]
  }
 ],
 "metadata": {
  "kernelspec": {
   "display_name": "Python 3",
   "language": "python",
   "name": "python3"
  },
  "language_info": {
   "codemirror_mode": {
    "name": "ipython",
    "version": 3
   },
   "file_extension": ".py",
   "mimetype": "text/x-python",
   "name": "python",
   "nbconvert_exporter": "python",
   "pygments_lexer": "ipython3",
   "version": "3.8.20"
  }
 },
 "nbformat": 4,
 "nbformat_minor": 2
}
